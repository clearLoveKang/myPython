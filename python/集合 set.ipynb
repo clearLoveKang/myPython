{
 "cells": [
  {
   "cell_type": "markdown",
   "metadata": {},
   "source": [
    "# 集合 - set\n",
    "- 集合的概念,数学集合\n",
    "    - 一堆的无序的唯一的数据组成的,集合中每个数据为一个元素\n",
    "   "
   ]
  },
  {
   "cell_type": "code",
   "execution_count": 4,
   "metadata": {},
   "outputs": [
    {
     "name": "stdout",
     "output_type": "stream",
     "text": [
      "<class 'set'>\n",
      "<class 'dict'>\n",
      "<class 'set'>\n"
     ]
    }
   ],
   "source": [
    "# 创建集合set\n",
    "s = {1,2,3}\n",
    "print(type(s))\n",
    "\n",
    "# {}内必须有值 ,没有值得话为dict字典\n",
    "s = {}\n",
    "print(type(s))\n",
    "\n",
    "# 创建集合set \n",
    "s = set()\n",
    "print(type(s))"
   ]
  },
  {
   "cell_type": "markdown",
   "metadata": {},
   "source": [
    "# 集合的特征\n",
    "- 集合是无序的不存在索引值\n",
    "- 几盒内的数据有唯一性,可以去重使用\n",
    "- 几盒内的数据可放置 str int float tuple,凡是可哈希的都可以放置"
   ]
  },
  {
   "cell_type": "code",
   "execution_count": 8,
   "metadata": {},
   "outputs": [
    {
     "name": "stdout",
     "output_type": "stream",
     "text": [
      "{1, 2, 3, 4, 5, 23}\n",
      "{'hah', 1, 2, 'kk'}\n",
      "{1, 1.22, 'kk', (1, 2, 3)}\n"
     ]
    }
   ],
   "source": [
    "# set 的特性唯一性\n",
    "s = {1,2,3,1,23,5,3,4}\n",
    "print(s)\n",
    "\n",
    "# set 的无序性\n",
    "s = {1,2,'hah','kk'}\n",
    "print(s)\n",
    "\n",
    "# 可哈希的都可放置\n",
    "s = {1,'kk',1.22,(1,2,3)}\n",
    "print(s)"
   ]
  },
  {
   "cell_type": "markdown",
   "metadata": {},
   "source": [
    "# 集合的遍历"
   ]
  },
  {
   "cell_type": "code",
   "execution_count": 10,
   "metadata": {},
   "outputs": [
    {
     "name": "stdout",
     "output_type": "stream",
     "text": [
      "1\n",
      "2\n",
      "3\n",
      "4\n"
     ]
    }
   ],
   "source": [
    "# 基本遍历\n",
    "s = {1,2,3,4,4}\n",
    "for i in s:\n",
    "    print(i)"
   ]
  },
  {
   "cell_type": "code",
   "execution_count": 14,
   "metadata": {},
   "outputs": [
    {
     "name": "stdout",
     "output_type": "stream",
     "text": [
      "(111, 222, 333)\n",
      "(11, 22, 33)\n",
      "(1, 2, 3)\n",
      "111 ... 222 ... 333\n",
      "11 ... 22 ... 33\n",
      "1 ... 2 ... 3\n"
     ]
    }
   ],
   "source": [
    "# 带有元组的集合的遍历\n",
    "s = {(1,2,3),(11,22,33),(111,222,333)}\n",
    "for i in s:\n",
    "    print(i)\n",
    "    \n",
    "# 便利每一个内层元素\n",
    "for k,v,n in s:\n",
    "    print(k,'...',v,'...',n)"
   ]
  },
  {
   "cell_type": "markdown",
   "metadata": {},
   "source": [
    "# 集合set 的内涵"
   ]
  },
  {
   "cell_type": "code",
   "execution_count": 16,
   "metadata": {},
   "outputs": [
    {
     "name": "stdout",
     "output_type": "stream",
     "text": [
      "{1, 2, 3, 4}\n"
     ]
    }
   ],
   "source": [
    "# 普通set内涵\n",
    "# 可以去除重复元素\n",
    "s = {1,2,2,2,3,3,4}\n",
    "print(s)"
   ]
  },
  {
   "cell_type": "code",
   "execution_count": 18,
   "metadata": {},
   "outputs": [
    {
     "name": "stdout",
     "output_type": "stream",
     "text": [
      "{0, 2, 4, 6, 8, 10}\n"
     ]
    }
   ],
   "source": [
    "# 待条件的集合内涵\n",
    "s = {i for i in range(0,11) if i%2 == 0}\n",
    "print(s)"
   ]
  },
  {
   "cell_type": "code",
   "execution_count": 25,
   "metadata": {},
   "outputs": [
    {
     "name": "stdout",
     "output_type": "stream",
     "text": [
      "{'ddd', 'dd', 'd', 'bb', 'aaa', 'a', 'bbb', 'b', 'c', 'aaaa', 'aa', 'ccc', 'cccc', 'bbbb', 'dddd', 'cc'}\n",
      "{'cc', 'aa', 'dd', 'bb'}\n"
     ]
    }
   ],
   "source": [
    "# 多循环的吉和内涵\n",
    "s1 = {1,2,3,4}\n",
    "s2 = {'a','b','c','d'}\n",
    "s = {m*n for m in s1 for n in s2}\n",
    "s3 = {m*n for m in s1 for n in s2 if m == 2}\n",
    "print(s)\n",
    "print(s3)"
   ]
  },
  {
   "cell_type": "markdown",
   "metadata": {},
   "source": [
    "# 关于set 的函数"
   ]
  },
  {
   "cell_type": "code",
   "execution_count": 27,
   "metadata": {},
   "outputs": [
    {
     "name": "stdout",
     "output_type": "stream",
     "text": [
      "6\n",
      "1\n",
      "6\n"
     ]
    }
   ],
   "source": [
    "# 常规函数操作 len max min \n",
    "s = {1,2,3,4,5,6}\n",
    "print(max(s))\n",
    "print(min(s))\n",
    "print(len(s))"
   ]
  },
  {
   "cell_type": "code",
   "execution_count": 29,
   "metadata": {},
   "outputs": [
    {
     "name": "stdout",
     "output_type": "stream",
     "text": [
      "{1, 2, 3, 4, 45}\n"
     ]
    }
   ],
   "source": [
    "# set 生成一个集合\n",
    "l = [1,2,3,4,45]\n",
    "s = set(l)\n",
    "print(s)"
   ]
  },
  {
   "cell_type": "code",
   "execution_count": 33,
   "metadata": {},
   "outputs": [
    {
     "name": "stdout",
     "output_type": "stream",
     "text": [
      "{1, 2, '22', 'kk'}\n",
      "{1, 2, 'hahah', '22', 'kk'}\n"
     ]
    }
   ],
   "source": [
    "# 添加元素add ,因为无序没有相关特定位置的操作函数\n",
    "s = {'22','kk',1,2}\n",
    "print(s)\n",
    "s.add('hahah')\n",
    "print(s)"
   ]
  },
  {
   "cell_type": "code",
   "execution_count": 36,
   "metadata": {},
   "outputs": [
    {
     "name": "stdout",
     "output_type": "stream",
     "text": [
      "4359203976\n",
      "4359203976\n"
     ]
    }
   ],
   "source": [
    "# clear 清除操作\n",
    "# clear 之后还是同一个集合\n",
    "s = {1,2,3}\n",
    "print(id(s))\n",
    "s.clear()\n",
    "print(id(s))"
   ]
  },
  {
   "cell_type": "code",
   "execution_count": 39,
   "metadata": {},
   "outputs": [
    {
     "name": "stdout",
     "output_type": "stream",
     "text": [
      "{1, 2, 3}\n"
     ]
    },
    {
     "ename": "KeyError",
     "evalue": "4",
     "output_type": "error",
     "traceback": [
      "\u001b[0;31m---------------------------------------------------------------------------\u001b[0m",
      "\u001b[0;31mKeyError\u001b[0m                                  Traceback (most recent call last)",
      "\u001b[0;32m<ipython-input-39-40a3c3ebd968>\u001b[0m in \u001b[0;36m<module>\u001b[0;34m()\u001b[0m\n\u001b[1;32m      5\u001b[0m \u001b[0ms\u001b[0m\u001b[0;34m.\u001b[0m\u001b[0mdiscard\u001b[0m\u001b[0;34m(\u001b[0m\u001b[0;36m4\u001b[0m\u001b[0;34m)\u001b[0m\u001b[0;34m\u001b[0m\u001b[0m\n\u001b[1;32m      6\u001b[0m \u001b[0mprint\u001b[0m\u001b[0;34m(\u001b[0m\u001b[0ms\u001b[0m\u001b[0;34m)\u001b[0m\u001b[0;34m\u001b[0m\u001b[0m\n\u001b[0;32m----> 7\u001b[0;31m \u001b[0ms\u001b[0m\u001b[0;34m.\u001b[0m\u001b[0mremove\u001b[0m\u001b[0;34m(\u001b[0m\u001b[0;36m4\u001b[0m\u001b[0;34m)\u001b[0m\u001b[0;34m\u001b[0m\u001b[0m\n\u001b[0m\u001b[1;32m      8\u001b[0m \u001b[0mprint\u001b[0m\u001b[0;34m(\u001b[0m\u001b[0ms\u001b[0m\u001b[0;34m)\u001b[0m\u001b[0;34m\u001b[0m\u001b[0m\n",
      "\u001b[0;31mKeyError\u001b[0m: 4"
     ]
    }
   ],
   "source": [
    "# remove 移除\n",
    "# discard 移除\n",
    "# 两个的区别是,如果元素不存在去进行移除 remove会报错脾气不好, discard不会报错,脾气比较好\n",
    "s = {1,2,3}\n",
    "s.discard(4)\n",
    "print(s)\n",
    "s.remove(4)\n",
    "print(s)"
   ]
  },
  {
   "cell_type": "code",
   "execution_count": 41,
   "metadata": {},
   "outputs": [
    {
     "name": "stdout",
     "output_type": "stream",
     "text": [
      "{3, 4, 'kk'}\n"
     ]
    }
   ],
   "source": [
    "# pop 随机移除\n",
    "s = {'kk',2,3,4}\n",
    "s.pop()\n",
    "print(s)"
   ]
  },
  {
   "cell_type": "markdown",
   "metadata": {},
   "source": [
    "# set集合函数"
   ]
  },
  {
   "cell_type": "code",
   "execution_count": 49,
   "metadata": {},
   "outputs": [
    {
     "name": "stdout",
     "output_type": "stream",
     "text": [
      "{4, 5}\n",
      "{1, 2, 3}\n",
      "{1, 2, 3, 4, 5, 6, 7}\n",
      "True\n",
      "True\n"
     ]
    }
   ],
   "source": [
    "# intersection 交集\n",
    "# difference 差集\n",
    "# union 并集\n",
    "# issubset 检查一个集合是否为名一个集合的子集\n",
    "# issuperset 检车一个集合是否为另一个超集\n",
    "s = {1,2,3,4,5}\n",
    "s1 = {4,5,6,7}\n",
    "s3 = {2,3,4}\n",
    "\n",
    "# 求交集intersection\n",
    "print(s.intersection(s1))\n",
    "\n",
    "# 求差集difference\n",
    "print(s.difference(s1))\n",
    "\n",
    "# 求并集union\n",
    "print(s.union(s1))\n",
    "\n",
    "# 检查一个集合是否为另一个集合子集issubset\n",
    "print(s3.issubset(s))\n",
    "\n",
    "# 检查一个集合是否为另一个集合的超集\n",
    "print(s.issuperset(s3))"
   ]
  },
  {
   "cell_type": "markdown",
   "metadata": {},
   "source": [
    "# 冰冻集合 frozen set \n",
    "- frozen集合就是不能够进行任何操作的集合\n",
    "- frozenset是一种特殊的集合"
   ]
  },
  {
   "cell_type": "code",
   "execution_count": 50,
   "metadata": {},
   "outputs": [
    {
     "name": "stdout",
     "output_type": "stream",
     "text": [
      "<class 'frozenset'>\n"
     ]
    }
   ],
   "source": [
    "# 冰冻集合 frozenset\n",
    "s = frozenset()\n",
    "print(type(s))"
   ]
  },
  {
   "cell_type": "code",
   "execution_count": 51,
   "metadata": {},
   "outputs": [
    {
     "name": "stdout",
     "output_type": "stream",
     "text": [
      "{1, 2, 3}\n"
     ]
    }
   ],
   "source": [
    "# 求差集小妙招\n",
    "s = {1,2,3,4,5}\n",
    "s1 = {4,5,6,7}\n",
    "print(s-s1)"
   ]
  }
 ],
 "metadata": {
  "kernelspec": {
   "display_name": "Python 3",
   "language": "python",
   "name": "python3"
  },
  "language_info": {
   "codemirror_mode": {
    "name": "ipython",
    "version": 3
   },
   "file_extension": ".py",
   "mimetype": "text/x-python",
   "name": "python",
   "nbconvert_exporter": "python",
   "pygments_lexer": "ipython3",
   "version": "3.7.0"
  }
 },
 "nbformat": 4,
 "nbformat_minor": 2
}
