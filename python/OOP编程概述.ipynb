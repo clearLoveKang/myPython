{
 "cells": [
  {
   "cell_type": "markdown",
   "metadata": {},
   "source": [
    "# Python的面向对象编程\n",
    "- 面向对象编程序\n",
    "    - 基础\n",
    "    - 继承\n",
    "    - 组合 Mixin\n",
    "    - 公有私有\n",
    "- 魔法函数\n",
    "    - 魔法函数概念\n",
    "    - 构造类魔法函数\n",
    "    - 运算类魔法函数\n",
    " \n"
   ]
  },
  {
   "cell_type": "markdown",
   "metadata": {},
   "source": [
    "# OOP思想\n",
    "- OOA 面向对象的分析\n",
    "- OOD 面向对象的设计\n",
    "- OOI 面向对象的实现\n",
    "- OOP 面向对象的编程\n",
    "- OOA => OOD => OOI 很好解释了面向对象的实现"
   ]
  },
  {
   "cell_type": "markdown",
   "metadata": {},
   "source": [
    "# 类和对象的概念\n",
    "- 类: 抽象名词,代表一个集合一个共性事物,计算机解释为一些属性和方法的封装\n",
    "- 对象: 一个具象事物,表示单个个体\n",
    "- 类和对象的关系\n",
    "    - 一个具象,代表一类事物中的单个个体\n",
    "    - 一个抽象,代表的是一大类事物\n",
    "- 类中的内容,一般包含两个部分\n",
    "    - 属性: 表明事物的特征,叫做属性或者变量\n",
    "    - 方法: 表名事物的动作或者功能,一般为方法(函数)"
   ]
  },
  {
   "cell_type": "markdown",
   "metadata": {},
   "source": [
    "# 类的基本实现\n",
    "- 命名: 大驼峰 \n",
    "- 尽量避开系统命名相似的命名\n",
    "## 如何声明一个类\n",
    "    - 首先 class 关键字摆上来\n",
    "    - 类由属性,方法构成,其他的别搞事情\n",
    "    - 成员属性定义可以用变量赋值,没有值可以使用None"
   ]
  },
  {
   "cell_type": "code",
   "execution_count": 1,
   "metadata": {},
   "outputs": [],
   "source": [
    "# 经典案例我们定义一个学生类 来表示学生有的属性和方法\n",
    "# 定义类之后必须有内容,如果没有想好写点啥子,使用pass\n",
    "class Student():\n",
    "    pass\n"
   ]
  },
  {
   "cell_type": "code",
   "execution_count": 3,
   "metadata": {},
   "outputs": [
    {
     "name": "stdout",
     "output_type": "stream",
     "text": [
      "None\n",
      "18\n",
      "I am a student\n",
      "<__main__.Student object at 0x10997a748>\n",
      "{'__module__': '__main__', 'name': None, 'age': 18, 'speak': <function Student.speak at 0x109956ea0>, '__dict__': <attribute '__dict__' of 'Student' objects>, '__weakref__': <attribute '__weakref__' of 'Student' objects>, '__doc__': None}\n"
     ]
    }
   ],
   "source": [
    "class Student():\n",
    "    name = None\n",
    "    age = 18\n",
    "    def speak(self):\n",
    "        print('I am a student')\n",
    "        print(self)\n",
    "        return None\n",
    "        \n",
    "# 类定以后需要进行实例化才能够使用\n",
    "ankang = Student()\n",
    "print(ankang.name)\n",
    "print(ankang.age)\n",
    "ankang.speak()\n",
    "print(Student.__dict__)\n"
   ]
  },
  {
   "cell_type": "markdown",
   "metadata": {},
   "source": [
    "# anaconda 使用\n",
    "- anaconda是一个虚拟环境管理器\n",
    "- 还是个宝管理器\n",
    "- conda list 查看安装的包\n",
    "- conda env list 查看虚拟环境列表\n",
    "- conda create -n XXX python=3.6\n",
    "- conda activate oop 激活虚拟环境\n",
    "- conda deactivate 结束虚拟环境"
   ]
  }
 ],
 "metadata": {
  "kernelspec": {
   "display_name": "Python 3",
   "language": "python",
   "name": "python3"
  },
  "language_info": {
   "codemirror_mode": {
    "name": "ipython",
    "version": 3
   },
   "file_extension": ".py",
   "mimetype": "text/x-python",
   "name": "python",
   "nbconvert_exporter": "python",
   "pygments_lexer": "ipython3",
   "version": "3.7.0"
  }
 },
 "nbformat": 4,
 "nbformat_minor": 2
}
