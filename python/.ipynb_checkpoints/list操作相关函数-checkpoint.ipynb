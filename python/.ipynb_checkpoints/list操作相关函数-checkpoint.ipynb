{
 "cells": [
  {
   "cell_type": "code",
   "execution_count": 2,
   "metadata": {},
   "outputs": [
    {
     "name": "stdout",
     "output_type": "stream",
     "text": [
      "[1, 2, 3, 4, 5]\n",
      "[1, 2, 300, 4, 5]\n",
      "[1, 2, 300, 4, 5]\n",
      "9\n",
      "300\n",
      "9\n"
     ]
    }
   ],
   "source": [
    "def a(n):\n",
    "    n[2] = 300\n",
    "    print(n)\n",
    "    return None\n",
    "\n",
    "def b(n):\n",
    "    n = 300\n",
    "    print(n)\n",
    "    return None\n",
    "\n",
    "an = [1,2,3,4,5]\n",
    "bn = 9\n",
    "print(an)\n",
    "a(an)\n",
    "print(an)\n",
    "\n",
    "print(bn)\n",
    "b(bn)\n",
    "print(bn)"
   ]
  },
  {
   "cell_type": "markdown",
   "metadata": {},
   "source": [
    "# 传址/传值区别\n",
    "- 简单地数据结构进行的是传值,函数内部操作不会影响函数外部变量\n",
    "- 复杂的数据结构进行的是传址,函数内部操作会影响外部数据内存的改变\n"
   ]
  },
  {
   "cell_type": "markdown",
   "metadata": {},
   "source": [
    "# 关于列表的函数\n",
    "- append 在尾部插入一个值\n",
    "- insert 在特定位置插入一个值\n",
    "- pop 删除最后一个值\n",
    "- remove 移除特定的值\n",
    "- clear 清空list\n",
    "- reverse 翻转list\n",
    "- count 查找特定元素在list出现的次数\n",
    "- copy 拷贝,浅拷贝"
   ]
  },
  {
   "cell_type": "code",
   "execution_count": 4,
   "metadata": {},
   "outputs": [
    {
     "name": "stdout",
     "output_type": "stream",
     "text": [
      "[1, 2, 3, 4, 5, 666]\n"
     ]
    }
   ],
   "source": [
    "# 在list尾部插入 append\n",
    "l = [1,2,3,4,5]\n",
    "l.append(666)\n",
    "print(l)"
   ]
  },
  {
   "cell_type": "code",
   "execution_count": 12,
   "metadata": {},
   "outputs": [
    {
     "name": "stdout",
     "output_type": "stream",
     "text": [
      "[1, 2, 3, 777, 777, 777]\n"
     ]
    }
   ],
   "source": [
    "# 在list指定位置插入数据 insert\n",
    "l.insert(3,777)\n",
    "print(l)"
   ]
  },
  {
   "cell_type": "code",
   "execution_count": 10,
   "metadata": {},
   "outputs": [
    {
     "name": "stdout",
     "output_type": "stream",
     "text": [
      "[1, 2, 3, 777, 777, 4]\n",
      "4\n",
      "[1, 2, 3, 777, 777]\n"
     ]
    }
   ],
   "source": [
    "# 删除操作\n",
    "# del删除\n",
    "# pop 从列表中把最后一个元素拿出来\n",
    "print(l)\n",
    "last_data = l.pop()\n",
    "print(last_data)\n",
    "print(l)"
   ]
  },
  {
   "cell_type": "code",
   "execution_count": 22,
   "metadata": {},
   "outputs": [
    {
     "name": "stdout",
     "output_type": "stream",
     "text": [
      "[1, 2, 3, 4, 777, 5]\n",
      "4358290632\n",
      "[1, 2, 3, 4, 5]\n",
      "4358290632\n"
     ]
    }
   ],
   "source": [
    "# 把list中指定的值拿出来 remove\n",
    "# 在操作同一处内存\n",
    "# 使用remove 需要先行判断是否在list里\n",
    "# if x in list\n",
    "#    list.remove(x)\n",
    "l = [1,2,3,4,777,5]\n",
    "print(l)\n",
    "print(id(l))\n",
    "\n",
    "l.remove(777)\n",
    "print(l)\n",
    "print(id(l))"
   ]
  },
  {
   "cell_type": "code",
   "execution_count": 26,
   "metadata": {},
   "outputs": [
    {
     "name": "stdout",
     "output_type": "stream",
     "text": [
      "[2, 4, 6, 8, 0]\n",
      "4360249480\n",
      "[]\n",
      "4360249480\n"
     ]
    }
   ],
   "source": [
    "# clear 清空\n",
    "l = [2,4,6,8,0]\n",
    "print(l)\n",
    "print(id(l))\n",
    "l.clear()\n",
    "print(l)\n",
    "print(id(l))"
   ]
  },
  {
   "cell_type": "code",
   "execution_count": 29,
   "metadata": {},
   "outputs": [
    {
     "name": "stdout",
     "output_type": "stream",
     "text": [
      "[1, 2, 3, 4, 5, 6]\n",
      "[6, 5, 4, 3, 2, 1]\n",
      "[1, 2, 3, 4, 5, 6]\n"
     ]
    }
   ],
   "source": [
    "# 翻转list 使用reverse\n",
    "l = [1,2,3,4,5,6]\n",
    "print(l)\n",
    "l.reverse()\n",
    "print(l)\n",
    "# 嘿嘿还有个小技巧翻转\n",
    "print(l[::-1])"
   ]
  },
  {
   "cell_type": "code",
   "execution_count": 32,
   "metadata": {},
   "outputs": [
    {
     "name": "stdout",
     "output_type": "stream",
     "text": [
      "2\n"
     ]
    }
   ],
   "source": [
    "# 查找list的特定元素出现次数 count\n",
    "l = [33,44,55,66,77]\n",
    "l.insert(3,77)\n",
    "index = l.count(77)\n",
    "print(index)\n"
   ]
  },
  {
   "cell_type": "code",
   "execution_count": 41,
   "metadata": {},
   "outputs": [
    {
     "name": "stdout",
     "output_type": "stream",
     "text": [
      "[1, 2, 3, 4, 5]\n",
      "4359747656\n",
      "[1, 2, 3, 4, 5]\n",
      "4359747656\n",
      "[1, 2, 666, 4, 5]\n",
      "4359747656\n",
      "[1, 2, 666, 4, 5]\n",
      "4359747656\n",
      "[1, 2, 666, 4, 5]\n",
      "4358975560\n"
     ]
    }
   ],
   "source": [
    "# 赋值操作一直在操作同一片存储空间\n",
    "# copy复制list\n",
    "a = [1,2,3,4,5]\n",
    "b = a\n",
    "print(a)\n",
    "print(id(a))\n",
    "print(b)\n",
    "print(id(b))\n",
    "b[2] = 666\n",
    "print(a)\n",
    "print(id(a))\n",
    "print(b)\n",
    "print(id(b))\n",
    "b = a.copy()\n",
    "print(b)\n",
    "print(id(b))"
   ]
  },
  {
   "cell_type": "markdown",
   "metadata": {},
   "source": [
    "## copy浅拷贝\n",
    "- 对于简单list 可以改变一层存储空间值\n",
    "- 多层的list copy 只能改变第一层的值,内层不会改变"
   ]
  },
  {
   "cell_type": "code",
   "execution_count": 42,
   "metadata": {},
   "outputs": [
    {
     "name": "stdout",
     "output_type": "stream",
     "text": [
      "[1, 2, 3, 4, 5]\n",
      "4358456520\n",
      "[1, 2, 3, 4, 5]\n",
      "4358288840\n",
      "[1, 2, 3, 4, 5]\n",
      "4358456520\n",
      "[1, 2, 333, 4, 5]\n",
      "4358288840\n"
     ]
    }
   ],
   "source": [
    "# copy从新开辟一块儿存储空间\n",
    "# 新的操作不会影响之前值\n",
    "a = [1,2,3,4,5]\n",
    "b = a.copy()\n",
    "print(a)\n",
    "print(id(a))\n",
    "print(b)\n",
    "print(id(b))\n",
    "b[2] = 333\n",
    "print(a)\n",
    "print(id(a))\n",
    "print(b)\n",
    "print(id(b))"
   ]
  },
  {
   "cell_type": "code",
   "execution_count": 45,
   "metadata": {},
   "outputs": [
    {
     "name": "stdout",
     "output_type": "stream",
     "text": [
      "[1, 2, 3, [11, 22, 33, 44]]\n",
      "4359746440\n",
      "[1, 2, 3, [11, 22, 33, 44]]\n",
      "4358875912\n",
      "**************************************************\n",
      "[1, 2, 3, [11, 22, 33, 666]]\n",
      "4359746440\n",
      "[1, 2, 3, [11, 22, 33, 666]]\n",
      "4358875912\n"
     ]
    }
   ],
   "source": [
    "#copy 只能进行浅拷贝\n",
    "# 只能保证第一层的值不会被修改,深入层级的数据还是共用着同一片内存\n",
    "s = [1,2,3,[11,22,33,44]]\n",
    "x = s.copy()\n",
    "print(s)\n",
    "print(id(s))\n",
    "print(x)\n",
    "print(id(x))\n",
    "print('*'*50)\n",
    "x[3][3] = 666\n",
    "print(s)\n",
    "print(id(s))\n",
    "print(x)\n",
    "print(id(x))"
   ]
  }
 ],
 "metadata": {
  "kernelspec": {
   "display_name": "Python 3",
   "language": "python",
   "name": "python3"
  },
  "language_info": {
   "codemirror_mode": {
    "name": "ipython",
    "version": 3
   },
   "file_extension": ".py",
   "mimetype": "text/x-python",
   "name": "python",
   "nbconvert_exporter": "python",
   "pygments_lexer": "ipython3",
   "version": "3.7.0"
  }
 },
 "nbformat": 4,
 "nbformat_minor": 2
}
