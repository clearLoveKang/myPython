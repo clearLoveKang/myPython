{
 "cells": [
  {
   "cell_type": "markdown",
   "metadata": {},
   "source": [
    "# 魔术方法\n",
    "- 魔术方法,不需要认为调用,在特定时刻自动触发\n",
    "- 魔术方法有一个同一特征: 方法名前后有两个下划线包裹\n",
    "- 操作类\n",
    "    -  __init__ 构造函数\n",
    "    - __new__ 对象实例化方法\n",
    "    - __call__: 对象当函数使用时出发\n",
    "    - __str__:把对象当成字符串的时候使用\n",
    "    - __repr__: 类似 __str__\n",
    "    \n",
    "- 描述符相关\n",
    "    - __set__\n",
    "    - __get__\n",
    "    - __delete__\n",
    "    \n",
    "- 属性操作相关\n",
    "    - __getattr__ 没有找到相关属性时调用\n",
    "    - __setattr__ 队成员属性进行设置时调用\n",
    "        - 三个参数\n",
    "        - self 用来获取当前对象\n",
    "        - 设置属性名称,以字符串形式\n",
    "        - 需要对属性名称设置的值\n",
    "    "
   ]
  },
  {
   "cell_type": "code",
   "execution_count": 2,
   "metadata": {},
   "outputs": [
    {
     "name": "stdout",
     "output_type": "stream",
     "text": [
      "自动被调用了\n"
     ]
    }
   ],
   "source": [
    "# __init__ 实例化的时候自动调用\n",
    "class A():\n",
    "    def __init__(self):\n",
    "        print('自动被调用了')\n",
    "a = A()"
   ]
  },
  {
   "cell_type": "code",
   "execution_count": 3,
   "metadata": {},
   "outputs": [],
   "source": [
    "# __new__函数\n",
    "# nwe先调用 然后才是init\n",
    "# 此方法需要注解 一般别用\n"
   ]
  },
  {
   "cell_type": "code",
   "execution_count": 7,
   "metadata": {},
   "outputs": [
    {
     "name": "stdout",
     "output_type": "stream",
     "text": [
      "自动被调用了\n",
      "我又被调用一次\n"
     ]
    }
   ],
   "source": [
    "# __call__\n",
    "class A():\n",
    "    def __init__(self):\n",
    "        print('自动被调用了')\n",
    "    \n",
    "    def __call__(self):\n",
    "        print('我又被调用一次')\n",
    "a = A()\n",
    "a() # 实例当函数使用"
   ]
  },
  {
   "cell_type": "code",
   "execution_count": 30,
   "metadata": {},
   "outputs": [
    {
     "name": "stdout",
     "output_type": "stream",
     "text": [
      "自动被调用了\n",
      "我又被调用一次\n",
      "返回字符串\n"
     ]
    }
   ],
   "source": [
    "# __str__ 打印出一个实例\n",
    "class A():\n",
    "    def __init__(self):\n",
    "        print('自动被调用了')\n",
    "    \n",
    "    def __call__(self):\n",
    "        print('我又被调用一次')\n",
    "        \n",
    "    def __str__(self):\n",
    "        return '返回字符串'\n",
    "a = A()\n",
    "a() # 实例当函数使用\n",
    "print(a)"
   ]
  },
  {
   "cell_type": "code",
   "execution_count": 11,
   "metadata": {},
   "outputs": [
    {
     "name": "stdout",
     "output_type": "stream",
     "text": [
      "None\n"
     ]
    },
    {
     "ename": "AttributeError",
     "evalue": "'A' object has no attribute 'sss'",
     "output_type": "error",
     "traceback": [
      "\u001b[0;31m---------------------------------------------------------------------------\u001b[0m",
      "\u001b[0;31mAttributeError\u001b[0m                            Traceback (most recent call last)",
      "\u001b[0;32m<ipython-input-11-4e33c2f292bb>\u001b[0m in \u001b[0;36m<module>\u001b[0;34m()\u001b[0m\n\u001b[1;32m      8\u001b[0m \u001b[0ma\u001b[0m \u001b[0;34m=\u001b[0m \u001b[0mA\u001b[0m\u001b[0;34m(\u001b[0m\u001b[0;34m)\u001b[0m\u001b[0;34m\u001b[0m\u001b[0m\n\u001b[1;32m      9\u001b[0m \u001b[0mprint\u001b[0m\u001b[0;34m(\u001b[0m\u001b[0ma\u001b[0m\u001b[0;34m.\u001b[0m\u001b[0mname\u001b[0m\u001b[0;34m)\u001b[0m\u001b[0;34m\u001b[0m\u001b[0m\n\u001b[0;32m---> 10\u001b[0;31m \u001b[0mprint\u001b[0m\u001b[0;34m(\u001b[0m\u001b[0ma\u001b[0m\u001b[0;34m.\u001b[0m\u001b[0msss\u001b[0m\u001b[0;34m)\u001b[0m\u001b[0;34m\u001b[0m\u001b[0m\n\u001b[0m",
      "\u001b[0;31mAttributeError\u001b[0m: 'A' object has no attribute 'sss'"
     ]
    }
   ],
   "source": [
    "# __getattr__\n",
    "class A():\n",
    "    name = 'None'\n",
    "    age = 18\n",
    "#     def __getattr__(self):\n",
    "#         print('没有找到相关属性')\n",
    "\n",
    "a = A()\n",
    "print(a.name)\n",
    "print(a.sss)"
   ]
  },
  {
   "cell_type": "code",
   "execution_count": 14,
   "metadata": {},
   "outputs": [
    {
     "name": "stdout",
     "output_type": "stream",
     "text": [
      "None\n",
      "没有找到相关属性\n",
      "sss\n",
      "None\n"
     ]
    }
   ],
   "source": [
    "# __getattr__ 找不到相关属性后执行方法 不写会报错\n",
    "class A():\n",
    "    name = 'None'\n",
    "    age = 18\n",
    "    def __getattr__(self,name):\n",
    "        print('没有找到相关属性')\n",
    "        print(name)\n",
    "\n",
    "a = A()\n",
    "print(a.name)\n",
    "print(a.sss)"
   ]
  },
  {
   "cell_type": "code",
   "execution_count": 19,
   "metadata": {},
   "outputs": [
    {
     "name": "stdout",
     "output_type": "stream",
     "text": [
      "{}\n",
      "设置属性名称age\n",
      "设置属性值18\n",
      "{'__module__': '__main__', '__init__': <function Person.__init__ at 0x111b1ce18>, '__setattr__': <function Person.__setattr__ at 0x111b1cd90>, '__dict__': <attribute '__dict__' of 'Person' objects>, '__weakref__': <attribute '__weakref__' of 'Person' objects>, '__doc__': None}\n"
     ]
    }
   ],
   "source": [
    "# __setattr__ 实战\n",
    "\n",
    "class Person():\n",
    "    def __init__(self):\n",
    "        pass\n",
    "    def __setattr__(self, name, value):\n",
    "        print('设置属性名称{0}'.format(name))\n",
    "        print('设置属性值{0}'.format(value))\n",
    "        # 下面东西会导致死循环\n",
    "#         self.name = value\n",
    "        # 此种情况下我们可以跳出去,给父类进行赋值\n",
    "        super().__setattr__(name,value)\n",
    "\n",
    "p = Person()\n",
    "print(p.__dict__)\n",
    "p.age = 18\n",
    "print(Person.__dict__)"
   ]
  },
  {
   "cell_type": "markdown",
   "metadata": {},
   "source": [
    "# 运算类的魔术方法\n",
    "- __gt__ :进行大于判断时触发函数\n",
    "    - 参数\n",
    "        - self\n",
    "        - 第二个参数是第二个对象\n",
    "        - 返回值可以是任意值,最好是布尔值\n",
    "        "
   ]
  },
  {
   "cell_type": "code",
   "execution_count": 36,
   "metadata": {},
   "outputs": [
    {
     "name": "stdout",
     "output_type": "stream",
     "text": [
      "看看dandna比xiaoming大吗\n",
      "False\n"
     ]
    }
   ],
   "source": [
    "# __gt__\n",
    "class Student():\n",
    "    def __init__(self,name):\n",
    "        self.name = name\n",
    "        \n",
    "    def __str__(self):\n",
    "        return self.name\n",
    "    \n",
    "    def __gt__(self, obj):\n",
    "        print('看看{0}比{1}大吗'.format(self,obj))\n",
    "        return self.name > obj.name\n",
    "    \n",
    "s1 = Student('dandna')\n",
    "s2 = Student('xiaoming')\n",
    "print(s1>s2)"
   ]
  },
  {
   "cell_type": "markdown",
   "metadata": {},
   "source": [
    "# 类和对象的三种方法\n",
    "- 类方法\n",
    "    - 不需要要实例化\n",
    "- 静态方法\n",
    "    - 不需要实例化,直接通过类进行访问\n",
    "- 实例方法\n",
    "    - 需要实例化之后才能使用的方法\n",
    "    "
   ]
  },
  {
   "cell_type": "code",
   "execution_count": 41,
   "metadata": {},
   "outputs": [
    {
     "name": "stdout",
     "output_type": "stream",
     "text": [
      "<__main__.Person object at 0x111a97eb8>\n",
      "Eating...\n",
      "<class '__main__.Person'>\n",
      "Playing\n",
      "<class '__main__.Person'>\n",
      "Playing\n",
      "Saying...\n",
      "Saying...\n"
     ]
    }
   ],
   "source": [
    "# 实例方法\n",
    "class Person():\n",
    "    # s实例方法\n",
    "    def eat(self):\n",
    "        print(self)\n",
    "        print('Eating...')\n",
    "        \n",
    "    # 类方法\n",
    "    # 类方法的一个默认参数cls 为了区别于 self\n",
    "    @classmethod\n",
    "    def play(cls):\n",
    "        print(cls)\n",
    "        print('Playing')\n",
    "    \n",
    "    # jing静态方法没有参数\n",
    "    @staticmethod\n",
    "    def say():\n",
    "        print('Saying...')\n",
    "        \n",
    "p = Person()\n",
    "# 访问实例方法\n",
    "p.eat()\n",
    "\n",
    "# 访问类方法\n",
    "p.play()\n",
    "Person.play()\n",
    "\n",
    "# 静态方法\n",
    "Person.say()\n",
    "p.say()"
   ]
  }
 ],
 "metadata": {
  "kernelspec": {
   "display_name": "Python 3",
   "language": "python",
   "name": "python3"
  },
  "language_info": {
   "codemirror_mode": {
    "name": "ipython",
    "version": 3
   },
   "file_extension": ".py",
   "mimetype": "text/x-python",
   "name": "python",
   "nbconvert_exporter": "python",
   "pygments_lexer": "ipython3",
   "version": "3.7.0"
  }
 },
 "nbformat": 4,
 "nbformat_minor": 2
}
