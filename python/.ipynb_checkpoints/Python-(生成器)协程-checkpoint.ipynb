{
 "cells": [
  {
   "cell_type": "markdown",
   "metadata": {},
   "source": [
    "# 可迭代的\n",
    "- iterable\n",
    "- 可迭代的,可作用于for 循环"
   ]
  },
  {
   "cell_type": "markdown",
   "metadata": {},
   "source": [
    "# 迭代器\n",
    "- iterator\n",
    "- 不但可以作用于for循环,还可以被next()调用\n",
    "- 可以相互转换\n",
    "    - 使用iter函数"
   ]
  },
  {
   "cell_type": "code",
   "execution_count": 3,
   "metadata": {},
   "outputs": [
    {
     "name": "stdout",
     "output_type": "stream",
     "text": [
      "0\n",
      "1\n",
      "2\n",
      "3\n",
      "4\n",
      "5\n",
      "6\n",
      "7\n",
      "8\n",
      "9\n",
      "0\n",
      "1\n",
      "2\n"
     ]
    }
   ],
   "source": [
    "# 可迭代的\n",
    "l = [i for i in range(10)]\n",
    "for i in l:\n",
    "    print(i)\n",
    "    \n",
    "for i in range(3):\n",
    "    print(i)"
   ]
  },
  {
   "cell_type": "code",
   "execution_count": 9,
   "metadata": {},
   "outputs": [
    {
     "name": "stdout",
     "output_type": "stream",
     "text": [
      "True\n",
      "False\n"
     ]
    }
   ],
   "source": [
    "# 判断是否可迭代\n",
    "# isinstance\n",
    "from collections import Iterable\n",
    "from collections import Iterator\n",
    "ll = [1,2,3,4,4]\n",
    "print(isinstance(ll, Iterable))\n",
    "print(isinstance(ll, Iterator))"
   ]
  },
  {
   "cell_type": "markdown",
   "metadata": {},
   "source": [
    "# 生成器\n",
    "- generator,一边循环一边计算下一个元素的机制/算法\n",
    "- 需要满足三个条件\n",
    "    - 每次调用都生产出for循环需要的元素\n",
    "    - 如果到最后没有了下一个,爆出 StopIteration 错误\n",
    "    - 可以被next 调用"
   ]
  },
  {
   "cell_type": "code",
   "execution_count": 11,
   "metadata": {},
   "outputs": [
    {
     "name": "stdout",
     "output_type": "stream",
     "text": [
      "<class 'list'>\n",
      "<class 'generator'>\n"
     ]
    }
   ],
   "source": [
    "# 直接使用生成器\n",
    "l = [x*x for x in range(5)] # 方在中括号中就是列表生成器\n",
    "g = (x*x for x in range(5)) # 放在小括号就是生成器\n",
    "\n",
    "print(type(l))\n",
    "print(type(g))"
   ]
  },
  {
   "cell_type": "code",
   "execution_count": 13,
   "metadata": {},
   "outputs": [
    {
     "name": "stdout",
     "output_type": "stream",
     "text": [
      "Step 1\n",
      "Step 2\n",
      "Step 3\n",
      "Step 4\n"
     ]
    }
   ],
   "source": [
    "# 自己创造一个生成器\n",
    "# 一个函数包含yield 就是一个生成器\n",
    "\n",
    "def odd():\n",
    "    print('Step 1')\n",
    "    print('Step 2')\n",
    "    print('Step 3')\n",
    "    print('Step 4')\n",
    "    return None\n",
    "odd()"
   ]
  },
  {
   "cell_type": "code",
   "execution_count": 18,
   "metadata": {},
   "outputs": [
    {
     "name": "stdout",
     "output_type": "stream",
     "text": [
      "Step 1\n",
      "1\n",
      "Step 2\n",
      "2\n",
      "Step 3\n",
      "3\n",
      "Step 4\n",
      "4\n"
     ]
    },
    {
     "ename": "StopIteration",
     "evalue": "None",
     "output_type": "error",
     "traceback": [
      "\u001b[0;31m---------------------------------------------------------------------------\u001b[0m",
      "\u001b[0;31mStopIteration\u001b[0m                             Traceback (most recent call last)",
      "\u001b[0;32m<ipython-input-18-534e91eb2dff>\u001b[0m in \u001b[0;36m<module>\u001b[0;34m()\u001b[0m\n\u001b[1;32m     13\u001b[0m \u001b[0mgen\u001b[0m \u001b[0;34m=\u001b[0m \u001b[0modd\u001b[0m\u001b[0;34m(\u001b[0m\u001b[0;34m)\u001b[0m\u001b[0;34m\u001b[0m\u001b[0m\n\u001b[1;32m     14\u001b[0m \u001b[0;32mfor\u001b[0m \u001b[0mi\u001b[0m \u001b[0;32min\u001b[0m \u001b[0mrange\u001b[0m\u001b[0;34m(\u001b[0m\u001b[0;36m5\u001b[0m\u001b[0;34m)\u001b[0m\u001b[0;34m:\u001b[0m\u001b[0;34m\u001b[0m\u001b[0m\n\u001b[0;32m---> 15\u001b[0;31m     \u001b[0mrxt\u001b[0m \u001b[0;34m=\u001b[0m \u001b[0mnext\u001b[0m\u001b[0;34m(\u001b[0m\u001b[0mgen\u001b[0m\u001b[0;34m)\u001b[0m\u001b[0;34m\u001b[0m\u001b[0m\n\u001b[0m\u001b[1;32m     16\u001b[0m     \u001b[0mprint\u001b[0m\u001b[0;34m(\u001b[0m\u001b[0mrxt\u001b[0m\u001b[0;34m)\u001b[0m\u001b[0;34m\u001b[0m\u001b[0m\n",
      "\u001b[0;31mStopIteration\u001b[0m: None"
     ]
    }
   ],
   "source": [
    "# 使用yield返回\n",
    "def odd():\n",
    "    print('Step 1')\n",
    "    yield 1\n",
    "    print('Step 2')\n",
    "    yield 2\n",
    "    print('Step 3')\n",
    "    yield 3\n",
    "    print('Step 4')\n",
    "    yield 4\n",
    "    return 'None'\n",
    "\n",
    "gen = odd()\n",
    "for i in range(5):\n",
    "    rxt = next(gen)\n",
    "    print(rxt)"
   ]
  },
  {
   "cell_type": "code",
   "execution_count": 21,
   "metadata": {},
   "outputs": [
    {
     "name": "stdout",
     "output_type": "stream",
     "text": [
      "[1, 1, 2, 3, 5]\n"
     ]
    }
   ],
   "source": [
    "# 使用生成器完成斐波那契数列\n",
    "\n",
    "def fib(max):\n",
    "    n, a, b = 0, 0, 1\n",
    "    while n < max:\n",
    "        yield b\n",
    "        a, b = b, a+b\n",
    "        n +=1\n",
    "    return 'done'\n",
    "\n",
    "g = fib(5)\n",
    "l = [i for i in g]\n",
    "print(l)\n"
   ]
  },
  {
   "cell_type": "markdown",
   "metadata": {},
   "source": [
    "# 协程\n",
    "- 3.4引入协程使用yield实现\n",
    "- 3.5引入携程语法\n",
    "- 定义:\n",
    "    - 其实就是一个可以暂停执行的函数,也可以理解成一个生成器\n",
    "    \n",
    "- 携程终止\n",
    "    - 携程中未处理的异常会向上冒泡,传给next函数或者send方法的调用方(即触发协程的对象)\n",
    "    - 可以发出一个哨兵值,让携程终止,内置的None和Ellipsis"
   ]
  },
  {
   "cell_type": "code",
   "execution_count": 23,
   "metadata": {},
   "outputs": [
    {
     "name": "stdout",
     "output_type": "stream",
     "text": [
      "1111\n",
      "--> start\n",
      "22222\n",
      "--> recived 塞个纸\n"
     ]
    },
    {
     "ename": "StopIteration",
     "evalue": "",
     "output_type": "error",
     "traceback": [
      "\u001b[0;31m---------------------------------------------------------------------------\u001b[0m",
      "\u001b[0;31mStopIteration\u001b[0m                             Traceback (most recent call last)",
      "\u001b[0;32m<ipython-input-23-702f4e6c047e>\u001b[0m in \u001b[0;36m<module>\u001b[0;34m()\u001b[0m\n\u001b[1;32m     14\u001b[0m \u001b[0mprint\u001b[0m\u001b[0;34m(\u001b[0m\u001b[0;36m22222\u001b[0m\u001b[0;34m)\u001b[0m\u001b[0;34m\u001b[0m\u001b[0m\n\u001b[1;32m     15\u001b[0m \u001b[0;34m\u001b[0m\u001b[0m\n\u001b[0;32m---> 16\u001b[0;31m \u001b[0msc\u001b[0m\u001b[0;34m.\u001b[0m\u001b[0msend\u001b[0m\u001b[0;34m(\u001b[0m\u001b[0;34m'塞个纸'\u001b[0m\u001b[0;34m)\u001b[0m\u001b[0;34m\u001b[0m\u001b[0m\n\u001b[0m",
      "\u001b[0;31mStopIteration\u001b[0m: "
     ]
    }
   ],
   "source": [
    "# 协程栗子\n",
    "def simple_coroutine():\n",
    "    print('--> start')\n",
    "    x = yield\n",
    "    print('--> recived', x)\n",
    "    \n",
    "# 主线程\n",
    "# 创建一个生成器\n",
    "sc = simple_coroutine()\n",
    "print(1111)\n",
    "\n",
    "# 可以通过next来预激\n",
    "next(sc)\n",
    "print(22222)\n",
    "\n",
    "sc.send('塞个纸')\n"
   ]
  },
  {
   "cell_type": "code",
   "execution_count": 25,
   "metadata": {},
   "outputs": [
    {
     "name": "stdout",
     "output_type": "stream",
     "text": [
      "--> start\n",
      "5\n",
      "--> recived 5 6\n",
      "11\n",
      "--> recived 5 6 7\n"
     ]
    },
    {
     "ename": "StopIteration",
     "evalue": "",
     "output_type": "error",
     "traceback": [
      "\u001b[0;31m---------------------------------------------------------------------------\u001b[0m",
      "\u001b[0;31mStopIteration\u001b[0m                             Traceback (most recent call last)",
      "\u001b[0;32m<ipython-input-25-fc4588368e22>\u001b[0m in \u001b[0;36m<module>\u001b[0;34m()\u001b[0m\n\u001b[1;32m     19\u001b[0m \u001b[0;34m\u001b[0m\u001b[0m\n\u001b[1;32m     20\u001b[0m \u001b[0;34m\u001b[0m\u001b[0m\n\u001b[0;32m---> 21\u001b[0;31m \u001b[0mcc\u001b[0m \u001b[0;34m=\u001b[0m \u001b[0msc\u001b[0m\u001b[0;34m.\u001b[0m\u001b[0msend\u001b[0m\u001b[0;34m(\u001b[0m\u001b[0;36m7\u001b[0m\u001b[0;34m)\u001b[0m\u001b[0;34m\u001b[0m\u001b[0m\n\u001b[0m\u001b[1;32m     22\u001b[0m \u001b[0mprint\u001b[0m\u001b[0;34m(\u001b[0m\u001b[0mcc\u001b[0m\u001b[0;34m)\u001b[0m\u001b[0;34m\u001b[0m\u001b[0m\n",
      "\u001b[0;31mStopIteration\u001b[0m: "
     ]
    }
   ],
   "source": [
    "# 带参数协程\n",
    "def simple_coroutine(a):\n",
    "    print('--> start')\n",
    "    b = yield a\n",
    "    print('--> recived', a, b)\n",
    "    c = yield a+b\n",
    "    print('--> recived', a, b, c)\n",
    "\n",
    "# 主线程\n",
    "# 创建一个生成器\n",
    "sc = simple_coroutine(5)\n",
    "# 可以通过next来预激\n",
    "aa = next(sc)\n",
    "print(aa)\n",
    "\n",
    "\n",
    "bb = sc.send(6)\n",
    "print(bb)\n",
    "\n",
    "\n",
    "cc = sc.send(7)\n",
    "print(cc)\n",
    "\n"
   ]
  },
  {
   "cell_type": "markdown",
   "metadata": {},
   "source": [
    "# yield from\n",
    "- 调用协程为了得到返回值,协程必须正常终止\n",
    "- 生成器在正常终止的时候,会发出StopIteration 异常对象的value保存返回值\n",
    "- yield from 从内部捕获异常"
   ]
  },
  {
   "cell_type": "code",
   "execution_count": 28,
   "metadata": {},
   "outputs": [
    {
     "name": "stdout",
     "output_type": "stream",
     "text": [
      "['A', 'B']\n",
      "['A', 'B']\n"
     ]
    }
   ],
   "source": [
    "# yield from栗子\n",
    "def gen():\n",
    "    for i in 'AB':\n",
    "        yield i\n",
    "print(list(gen()))\n",
    "\n",
    "def new_gen():\n",
    "    yield from \"AB\"\n",
    "\n",
    "print(list(new_gen()))    "
   ]
  },
  {
   "cell_type": "markdown",
   "metadata": {},
   "source": [
    "# 委派生成器\n",
    "- 带有yield from 表达式的生成器函数\n",
    "- 委派生成器在yield from表达式处暂停,调用方可以直接把数据发送给子生成器\n",
    "- 子生成器再把传出值调出来\n",
    "- 子生成器在最后,解释器会刨除StopIteration"
   ]
  },
  {
   "cell_type": "code",
   "execution_count": 30,
   "metadata": {},
   "outputs": [
    {
     "ename": "UnboundLocalError",
     "evalue": "local variable 'totla' referenced before assignment",
     "output_type": "error",
     "traceback": [
      "\u001b[0;31m---------------------------------------------------------------------------\u001b[0m",
      "\u001b[0;31mUnboundLocalError\u001b[0m                         Traceback (most recent call last)",
      "\u001b[0;32m<ipython-input-30-b350f73f00b2>\u001b[0m in \u001b[0;36m<module>\u001b[0;34m()\u001b[0m\n\u001b[1;32m     51\u001b[0m \u001b[0;34m\u001b[0m\u001b[0m\n\u001b[1;32m     52\u001b[0m \u001b[0;31m# 执行\u001b[0m\u001b[0;34m\u001b[0m\u001b[0;34m\u001b[0m\u001b[0m\n\u001b[0;32m---> 53\u001b[0;31m \u001b[0mclient\u001b[0m\u001b[0;34m(\u001b[0m\u001b[0;34m)\u001b[0m\u001b[0;34m\u001b[0m\u001b[0m\n\u001b[0m",
      "\u001b[0;32m<ipython-input-30-b350f73f00b2>\u001b[0m in \u001b[0;36mclient\u001b[0;34m()\u001b[0m\n\u001b[1;32m     44\u001b[0m         \u001b[0;31m# 发送数据给协程\u001b[0m\u001b[0;34m\u001b[0m\u001b[0;34m\u001b[0m\u001b[0m\n\u001b[1;32m     45\u001b[0m         \u001b[0;32mfor\u001b[0m \u001b[0mdt\u001b[0m \u001b[0;32min\u001b[0m \u001b[0mv\u001b[0m\u001b[0;34m:\u001b[0m\u001b[0;34m\u001b[0m\u001b[0m\n\u001b[0;32m---> 46\u001b[0;31m             \u001b[0mcoroutine\u001b[0m\u001b[0;34m.\u001b[0m\u001b[0msend\u001b[0m\u001b[0;34m(\u001b[0m\u001b[0mdt\u001b[0m\u001b[0;34m)\u001b[0m\u001b[0;34m\u001b[0m\u001b[0m\n\u001b[0m\u001b[1;32m     47\u001b[0m \u001b[0;34m\u001b[0m\u001b[0m\n\u001b[1;32m     48\u001b[0m         \u001b[0;31m# 终止协程\u001b[0m\u001b[0;34m\u001b[0m\u001b[0;34m\u001b[0m\u001b[0m\n",
      "\u001b[0;32m<ipython-input-30-b350f73f00b2>\u001b[0m in \u001b[0;36mgrouper\u001b[0;34m(storage, key)\u001b[0m\n\u001b[1;32m     24\u001b[0m \u001b[0;32mdef\u001b[0m \u001b[0mgrouper\u001b[0m\u001b[0;34m(\u001b[0m\u001b[0mstorage\u001b[0m\u001b[0;34m,\u001b[0m \u001b[0mkey\u001b[0m\u001b[0;34m)\u001b[0m\u001b[0;34m:\u001b[0m\u001b[0;34m\u001b[0m\u001b[0m\n\u001b[1;32m     25\u001b[0m     \u001b[0;32mwhile\u001b[0m \u001b[0;32mTrue\u001b[0m\u001b[0;34m:\u001b[0m\u001b[0;34m\u001b[0m\u001b[0m\n\u001b[0;32m---> 26\u001b[0;31m         \u001b[0mstorage\u001b[0m\u001b[0;34m[\u001b[0m\u001b[0mkey\u001b[0m\u001b[0;34m]\u001b[0m \u001b[0;34m=\u001b[0m \u001b[0;32myield\u001b[0m \u001b[0;32mfrom\u001b[0m \u001b[0mvaerager\u001b[0m\u001b[0;34m(\u001b[0m\u001b[0;34m)\u001b[0m\u001b[0;34m\u001b[0m\u001b[0m\n\u001b[0m\u001b[1;32m     27\u001b[0m \u001b[0;34m\u001b[0m\u001b[0m\n\u001b[1;32m     28\u001b[0m \u001b[0;34m\u001b[0m\u001b[0m\n",
      "\u001b[0;32m<ipython-input-30-b350f73f00b2>\u001b[0m in \u001b[0;36mvaerager\u001b[0;34m()\u001b[0m\n\u001b[1;32m     14\u001b[0m         \u001b[0;32mif\u001b[0m \u001b[0mterm\u001b[0m \u001b[0;34m==\u001b[0m \u001b[0;32mNone\u001b[0m\u001b[0;34m:\u001b[0m\u001b[0;34m\u001b[0m\u001b[0m\n\u001b[1;32m     15\u001b[0m             \u001b[0;32mbreak\u001b[0m\u001b[0;34m\u001b[0m\u001b[0m\n\u001b[0;32m---> 16\u001b[0;31m         \u001b[0mtotla\u001b[0m \u001b[0;34m+=\u001b[0m \u001b[0mterm\u001b[0m\u001b[0;34m\u001b[0m\u001b[0m\n\u001b[0m\u001b[1;32m     17\u001b[0m         \u001b[0mcount\u001b[0m \u001b[0;34m+=\u001b[0m \u001b[0;36m1\u001b[0m\u001b[0;34m\u001b[0m\u001b[0m\n\u001b[1;32m     18\u001b[0m         \u001b[0mvaergae\u001b[0m \u001b[0;34m=\u001b[0m \u001b[0mtotla\u001b[0m\u001b[0;34m/\u001b[0m\u001b[0mcount\u001b[0m\u001b[0;34m\u001b[0m\u001b[0m\n",
      "\u001b[0;31mUnboundLocalError\u001b[0m: local variable 'totla' referenced before assignment"
     ]
    }
   ],
   "source": [
    "# 利用委派生成器来计算平均值\n",
    "from collections import namedtuple\n",
    "\n",
    "ResClass = namedtuple('res', 'count vaerage')\n",
    "\n",
    "# 子生成器\n",
    "def vaerager():\n",
    "    total = 0.0\n",
    "    count = 0\n",
    "    vaergae = None\n",
    "    while True:\n",
    "        term = yield\n",
    "        # 设置哨兵 碰见就停止生成\n",
    "        if term == None:\n",
    "            break\n",
    "        total += term\n",
    "        count += 1\n",
    "        vaergae = totla/count\n",
    "    \n",
    "    return ResClass(count, vaerage)\n",
    "\n",
    "\n",
    "# 委派生成器\n",
    "def grouper(storage, key):\n",
    "    while True:\n",
    "        storage[key] = yield from vaerager()\n",
    "        \n",
    "\n",
    "# 客户端事物\n",
    "def client():\n",
    "    process_data = {\n",
    "        'boy_1':[23.3, 34.4, 44.5, 53.5],\n",
    "        'boy_2':[43.4, 55.6, 65.6,66.6]\n",
    "    }\n",
    "    \n",
    "    storage = {}\n",
    "    for k,v in process_data.items():\n",
    "        # 获取一个生成器(协程)\n",
    "        coroutine = grouper(storage, k)\n",
    "        \n",
    "        # 预激协程yield\n",
    "        next(coroutine)\n",
    "        \n",
    "        # 发送数据给协程\n",
    "        for dt in v:\n",
    "            coroutine.send(dt)\n",
    "        \n",
    "        # 终止协程\n",
    "        coroutine.send(None)\n",
    "    print(storage)\n",
    "    \n",
    "# 执行\n",
    "client()"
   ]
  }
 ],
 "metadata": {
  "kernelspec": {
   "display_name": "Python 3",
   "language": "python",
   "name": "python3"
  },
  "language_info": {
   "codemirror_mode": {
    "name": "ipython",
    "version": 3
   },
   "file_extension": ".py",
   "mimetype": "text/x-python",
   "name": "python",
   "nbconvert_exporter": "python",
   "pygments_lexer": "ipython3",
   "version": "3.7.0"
  }
 },
 "nbformat": 4,
 "nbformat_minor": 2
}
