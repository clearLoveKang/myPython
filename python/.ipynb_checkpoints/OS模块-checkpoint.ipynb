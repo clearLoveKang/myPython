{
 "cells": [
  {
   "cell_type": "markdown",
   "metadata": {},
   "source": [
    "# OS模块\n",
    "- 操作系统相关,主要是文件操作\n",
    "- 与系统相关的操作,主要包含三个模块\n",
    "    - os 系统目录相关\n",
    "    - os.path 系统路径相关\n",
    "    - shulit 高级文件操作,目录树的操作,文件的正删改查\n",
    "- 路径\n",
    "    - 相对路径 从根目录开始\n",
    "    - 绝对路径 从当前目录开始"
   ]
  },
  {
   "cell_type": "code",
   "execution_count": 1,
   "metadata": {},
   "outputs": [],
   "source": [
    "import os\n"
   ]
  },
  {
   "cell_type": "code",
   "execution_count": 4,
   "metadata": {},
   "outputs": [
    {
     "name": "stdout",
     "output_type": "stream",
     "text": [
      "/Users/yimihaodi/md/python/python\n"
     ]
    }
   ],
   "source": [
    "# getcwd 返回当前路径\n",
    "# 返回当前目录的字符串\n",
    "print(os.getcwd())"
   ]
  },
  {
   "cell_type": "code",
   "execution_count": 7,
   "metadata": {},
   "outputs": [
    {
     "name": "stdout",
     "output_type": "stream",
     "text": [
      "/Users/yimihaodi/md/python\n",
      "/Users/yimihaodi/md/python\n"
     ]
    }
   ],
   "source": [
    "# chdir 更改当前目录\n",
    "# change directory\n",
    "# 格式: os.chdir(路径)\n",
    "# 返回值:\n",
    "print(os.getcwd())\n",
    "os.chdir('/Users/yimihaodi/md/python')\n",
    "print(os.getcwd())"
   ]
  },
  {
   "cell_type": "code",
   "execution_count": 10,
   "metadata": {},
   "outputs": [
    {
     "name": "stdout",
     "output_type": "stream",
     "text": [
      "['datetime模块.ipynb', 'OOP-面向对象三大特性.ipynb', 'strEscape.ipynb', '.DS_Store', '内置数据结构list.ipynb', 'list列表计算.ipynb', 'dataType02.ipynb', 'time模块.ipynb', 'OOP-类的属性.ipynb', 'OOP编程概述.ipynb', '变量作用域-函数.ipynb', 'OS模块.ipynb', '元组tuple.ipynb', 'OOP-抽象类构造类.ipynb', 'oop_01.py', '程序三大语句.ipynb', '表达式-运算符.ipynb', 'calendar日历模块.ipynb', '集合 set.ipynb', 'list操作相关函数.ipynb', 'OOP-Mixin.ipynb', '汉诺塔问题.ipynb', 'dict字典.ipynb', '.ipynb_checkpoints', 'demo01.py', '函数.ipynb', 'Python-包.ipynb', '类的常用魔术方法.ipynb', 'Python异常.ipynb', 'OOP-成员描述符property.ipynb', 'OOP_类和成员self.ipynb', 'OOP-继承多态.ipynb']\n"
     ]
    }
   ],
   "source": [
    "# os.listdir(path) 获取路径下的文件夹\n",
    "print(os.listdir('/Users/yimihaodi/md/python/python'))"
   ]
  },
  {
   "cell_type": "code",
   "execution_count": 15,
   "metadata": {},
   "outputs": [
    {
     "name": "stdout",
     "output_type": "stream",
     "text": [
      "['datetime模块.ipynb', 'OOP-面向对象三大特性.ipynb', 'strEscape.ipynb', '.DS_Store', '内置数据结构list.ipynb', 'list列表计算.ipynb', 'dataType02.ipynb', 'time模块.ipynb', 'OOP-类的属性.ipynb', 'OOP编程概述.ipynb', '变量作用域-函数.ipynb', 'OS模块.ipynb', '元组tuple.ipynb', 'OOP-抽象类构造类.ipynb', 'oop_01.py', '程序三大语句.ipynb', '表达式-运算符.ipynb', 'calendar日历模块.ipynb', '集合 set.ipynb', 'list操作相关函数.ipynb', 'OOP-Mixin.ipynb', '汉诺塔问题.ipynb', 'dict字典.ipynb', 'myfile', '.ipynb_checkpoints', 'demo01.py', '函数.ipynb', 'Python-包.ipynb', '类的常用魔术方法.ipynb', 'Python异常.ipynb', 'OOP-成员描述符property.ipynb', 'OOP_类和成员self.ipynb', 'OOP-继承多态.ipynb']\n"
     ]
    }
   ],
   "source": [
    "# os.makedirs() 创建目录 \n",
    "# 参数:两个\n",
    "# path 路径\n",
    "# mode权限模式。\n",
    "os.makedirs('/Users/yimihaodi/md/python/python/myfile')\n",
    "print(os.listdir('/Users/yimihaodi/md/python/python'))"
   ]
  },
  {
   "cell_type": "code",
   "execution_count": 19,
   "metadata": {},
   "outputs": [
    {
     "data": {
      "text/plain": [
       "0"
      ]
     },
     "execution_count": 19,
     "metadata": {},
     "output_type": "execute_result"
    }
   ],
   "source": [
    "# system()运行系统shell命令\n",
    "# 格式 OS.system(命令)\n",
    "# 使用系统命令创建一个文件\n",
    "# os.system('touch kk123.ipynb')\n",
    "os.chdir('/Users/yimihaodi/md/python/python')\n",
    "os.system('touch kk123.ipynb')"
   ]
  },
  {
   "cell_type": "code",
   "execution_count": 22,
   "metadata": {},
   "outputs": [
    {
     "name": "stdout",
     "output_type": "stream",
     "text": [
      "/anaconda3/bin:/Library/Frameworks/Python.framework/Versions/3.6/bin:/usr/local/bin:/usr/bin:/bin:/usr/sbin:/sbin:/usr/local/share/dotnet:/Library/Frameworks/Mono.framework/Versions/Current/Commands\n"
     ]
    }
   ],
   "source": [
    "# getenv()获取当前系统的环境变量\n",
    "# 参数\n",
    "print(os.getenv('PATH'))"
   ]
  },
  {
   "cell_type": "code",
   "execution_count": 23,
   "metadata": {},
   "outputs": [],
   "source": [
    "# 退出当前程序\n",
    "# exit()\n",
    "# 没有返回值"
   ]
  },
  {
   "cell_type": "markdown",
   "metadata": {},
   "source": [
    "# 值部分\n",
    "- os.curdir : 当前目录\n",
    "- os.pardir : 父目录\n",
    "- os.sep  : 当前系统路径分隔符\n",
    "    - Windows :\"\\\"\n",
    "    - Linux : '/'\n",
    "- os.linesep : 当前系统的换行符\n",
    "    - windows : '\\r\\n'\n",
    "    - unix linux macos : \"\\n\"\n",
    "- os.name :当前系统名称\n",
    "    - windows: nt\n",
    "    - mac unix linux : posix"
   ]
  },
  {
   "cell_type": "code",
   "execution_count": 28,
   "metadata": {},
   "outputs": [
    {
     "name": "stdout",
     "output_type": "stream",
     "text": [
      ".\n",
      "..\n",
      "/\n",
      "\n",
      "\n",
      "posix\n"
     ]
    }
   ],
   "source": [
    "print(os.curdir)\n",
    "print(os.pardir)\n",
    "print(os.sep)\n",
    "print(os.linesep)\n",
    "print(os.name)"
   ]
  },
  {
   "cell_type": "markdown",
   "metadata": {},
   "source": [
    "### 碰见需要拼写路径的,千万不能手动去拼写\n",
    "- 需要使用os获取当前系统的规范去拼写"
   ]
  },
  {
   "cell_type": "markdown",
   "metadata": {},
   "source": [
    "# os.path 模块\n",
    "- 根路径相关的模块\n",
    "    - abspath\n",
    "    "
   ]
  },
  {
   "cell_type": "code",
   "execution_count": 30,
   "metadata": {},
   "outputs": [
    {
     "name": "stdout",
     "output_type": "stream",
     "text": [
      "/Users/yimihaodi/md/python/python\n"
     ]
    }
   ],
   "source": [
    "import os.path as op\n",
    "# abspath() 将路径转换为绝对路径\n",
    "# . 代表当前目录\n",
    "# .. 表示上级目录\n",
    "absp = op.abspath('.')\n",
    "print(absp)"
   ]
  },
  {
   "cell_type": "code",
   "execution_count": 32,
   "metadata": {},
   "outputs": [
    {
     "name": "stdout",
     "output_type": "stream",
     "text": [
      "python\n"
     ]
    }
   ],
   "source": [
    "# basename() 获取路径中的文件名部分\n",
    "# 返回值: 文件名字符串\n",
    "fire = op.basename('/Users/yimihaodi/md/python/python')\n",
    "print(fire)"
   ]
  },
  {
   "cell_type": "code",
   "execution_count": 34,
   "metadata": {},
   "outputs": [
    {
     "name": "stdout",
     "output_type": "stream",
     "text": [
      "/home/hah/myPython.txt\n"
     ]
    }
   ],
   "source": [
    "# join() 将多个路径拼接成一个路径\n",
    "# os.path.join('路径1','路径2')\n",
    "# 返回组合字符串\n",
    "bd = '/home/hah'\n",
    "fn = 'myPython.txt'\n",
    "print(op.join(bd,fn))"
   ]
  },
  {
   "cell_type": "code",
   "execution_count": 36,
   "metadata": {},
   "outputs": [
    {
     "name": "stdout",
     "output_type": "stream",
     "text": [
      "('/home/hah', 'myPython.txt')\n",
      "/home/hah\n",
      "myPython.txt\n"
     ]
    }
   ],
   "source": [
    "# split() 吧路径的文件夹部分和文件部分切割\n",
    "# 返回一个元组\n",
    "print(op.split('/home/hah/myPython.txt'))\n",
    "d,p = op.split('/home/hah/myPython.txt')\n",
    "print(d)\n",
    "print(p)"
   ]
  },
  {
   "cell_type": "code",
   "execution_count": 40,
   "metadata": {},
   "outputs": [
    {
     "name": "stdout",
     "output_type": "stream",
     "text": [
      "True\n",
      "False\n"
     ]
    }
   ],
   "source": [
    "# isdir() 判断是否为目录\n",
    "# 返回值: 布尔值\n",
    "rst = op.isdir('/Users/yimihaodi/md/python/python')\n",
    "rst1 = op.isdir('/home/hah/myPython.txt')\n",
    "print(rst)\n",
    "print(rst1)"
   ]
  },
  {
   "cell_type": "code",
   "execution_count": 41,
   "metadata": {},
   "outputs": [
    {
     "name": "stdout",
     "output_type": "stream",
     "text": [
      "True False\n"
     ]
    }
   ],
   "source": [
    "# exists() 判断文件路径或者 文件存在吗\n",
    "# 返回值: 布尔值\n",
    "rst = op.exists('/Users/yimihaodi/md/python/python')\n",
    "rst1 = op.exists('/home/hah/myPython.txt')\n",
    "print(rst,rst1)"
   ]
  }
 ],
 "metadata": {
  "kernelspec": {
   "display_name": "Python 3",
   "language": "python",
   "name": "python3"
  },
  "language_info": {
   "codemirror_mode": {
    "name": "ipython",
    "version": 3
   },
   "file_extension": ".py",
   "mimetype": "text/x-python",
   "name": "python",
   "nbconvert_exporter": "python",
   "pygments_lexer": "ipython3",
   "version": "3.7.0"
  }
 },
 "nbformat": 4,
 "nbformat_minor": 2
}
