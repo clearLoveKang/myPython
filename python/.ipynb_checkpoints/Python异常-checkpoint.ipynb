{
 "cells": [
  {
   "cell_type": "markdown",
   "metadata": {},
   "source": [
    "# 异常\n",
    "- 异常不是错误,是不可避免的异常情况\n",
    "- 异常可以捕获,异常也是一个类\n",
    "- 异常 语法\n",
    "    - try\n",
    "    - except 异常1\n",
    "    - except 异常2\n",
    "    - else\n",
    "    - finally\n"
   ]
  },
  {
   "cell_type": "markdown",
   "metadata": {},
   "source": [
    "# 常见的异常\n",
    "    python标准异常\n",
    "    异常名称\t描述\n",
    "    BaseException\t所有异常的基类\n",
    "    SystemExit\t解释器请求退出\n",
    "    KeyboardInterrupt\t用户中断执行(通常是输入^C)\n",
    "    Exception\t常规错误的基类\n",
    "    StopIteration\t迭代器没有更多的值\n",
    "    GeneratorExit\t生成器(generator)发生异常来通知退出\n",
    "    StandardError\t所有的内建标准异常的基类\n",
    "    ArithmeticError\t所有数值计算错误的基类\n",
    "    FloatingPointError\t浮点计算错误\n",
    "    OverflowError\t数值运算超出最大限制\n",
    "    ZeroDivisionError\t除(或取模)零 (所有数据类型)\n",
    "    AssertionError\t断言语句失败\n",
    "    AttributeError\t对象没有这个属性\n",
    "    EOFError\t没有内建输入,到达EOF 标记\n",
    "    EnvironmentError\t操作系统错误的基类\n",
    "    IOError\t输入/输出操作失败\n",
    "    OSError\t操作系统错误\n",
    "    WindowsError\t系统调用失败\n",
    "    ImportError\t导入模块/对象失败\n",
    "    LookupError\t无效数据查询的基类\n",
    "    IndexError\t序列中没有此索引(index)\n",
    "    KeyError\t映射中没有这个键\n",
    "    MemoryError\t内存溢出错误(对于Python 解释器不是致命的)\n",
    "    NameError\t未声明/初始化对象 (没有属性)\n",
    "    UnboundLocalError\t访问未初始化的本地变量\n",
    "    ReferenceError\t弱引用(Weak reference)试图访问已经垃圾回收了的对象\n",
    "    RuntimeError\t一般的运行时错误\n",
    "    NotImplementedError\t尚未实现的方法\n",
    "    SyntaxError\tPython 语法错误\n",
    "    IndentationError\t缩进错误\n",
    "    TabError\tTab 和空格混用\n",
    "    SystemError\t一般的解释器系统错误\n",
    "    TypeError\t对类型无效的操作\n",
    "    ValueError\t传入无效的参数\n",
    "    UnicodeError\tUnicode 相关的错误\n",
    "    UnicodeDecodeError\tUnicode 解码时的错误\n",
    "    UnicodeEncodeError\tUnicode 编码时错误\n",
    "    UnicodeTranslateError\tUnicode 转换时错误\n",
    "    Warning\t警告的基类\n",
    "    DeprecationWarning\t关于被弃用的特征的警告\n",
    "    FutureWarning\t关于构造将来语义会有改变的警告\n",
    "    OverflowWarning\t旧的关于自动提升为长整型(long)的警告\n",
    "    PendingDeprecationWarning\t关于特性将会被废弃的警告\n",
    "    RuntimeWarning\t可疑的运行时行为(runtime behavior)的警告\n",
    "    SyntaxWarning\t可疑的语法的警告\n",
    "    UserWarning\t用户代码生成的警告"
   ]
  },
  {
   "cell_type": "code",
   "execution_count": 2,
   "metadata": {},
   "outputs": [
    {
     "name": "stdout",
     "output_type": "stream",
     "text": [
      "请输入点东西的飞道\n",
      "输入的是什么玩应啊\n"
     ]
    }
   ],
   "source": [
    "# 异常栗子\n",
    "try:\n",
    "    num = int(input('请输入点东西'))\n",
    "    a = 100/num\n",
    "    print(a)\n",
    "except:\n",
    "    print('输入的是什么玩应啊')"
   ]
  },
  {
   "cell_type": "code",
   "execution_count": 4,
   "metadata": {},
   "outputs": [
    {
     "name": "stdout",
     "output_type": "stream",
     "text": [
      "请输入点东西0\n",
      "非零错误\n",
      "division by zero\n"
     ]
    }
   ],
   "source": [
    "# 异常栗子\n",
    "# 异常是一个类,捕获异常后需要实例化才可以调用\n",
    "try:\n",
    "    num = int(input('请输入点东西'))\n",
    "    a = 100/num\n",
    "    print(a)\n",
    "except ValueError as e:\n",
    "    print('输入的是什么玩应啊')\n",
    "    print(e)\n",
    "except ZeroDivisionError as e:\n",
    "    print('非零错误')\n",
    "    print(e)"
   ]
  },
  {
   "cell_type": "code",
   "execution_count": 6,
   "metadata": {},
   "outputs": [
    {
     "name": "stdout",
     "output_type": "stream",
     "text": [
      "请输入点东西10\n",
      "10.0\n",
      "没有错误哦\n"
     ]
    }
   ],
   "source": [
    "# 异常栗子\n",
    "# 异常是一个类,捕获异常后需要实例化才可以调用\n",
    "# else使用\n",
    "try:\n",
    "    num = int(input('请输入点东西'))\n",
    "    a = 100/num\n",
    "    print(a)\n",
    "except ValueError as e:\n",
    "    print('输入的是什么玩应啊')\n",
    "    print(e)\n",
    "except ZeroDivisionError as e:\n",
    "    print('非零错误')\n",
    "    print(e)\n",
    "else:\n",
    "    print('没有错误哦')"
   ]
  },
  {
   "cell_type": "code",
   "execution_count": 8,
   "metadata": {},
   "outputs": [
    {
     "name": "stdout",
     "output_type": "stream",
     "text": [
      "请输入点东西10\n",
      "10.0\n",
      "莫得错误\n",
      "咋地我都要执行\n"
     ]
    }
   ],
   "source": [
    "# 异常栗子\n",
    "# 异常是一个类,捕获异常后需要实例化才可以调用\n",
    "# finally 不管有没有错误都要执行一下\n",
    "try:\n",
    "    num = int(input('请输入点东西'))\n",
    "    a = 100/num\n",
    "    print(a)\n",
    "except ValueError as e:\n",
    "    print('输入的是什么玩应啊')\n",
    "    print(e)\n",
    "except ZeroDivisionError as e:\n",
    "    print('非零错误')\n",
    "    print(e)\n",
    "    \n",
    "else:\n",
    "    print('莫得错误')\n",
    "    \n",
    "finally:\n",
    "    print('咋地我都要执行')"
   ]
  },
  {
   "cell_type": "code",
   "execution_count": 16,
   "metadata": {},
   "outputs": [
    {
     "name": "stdout",
     "output_type": "stream",
     "text": [
      "请输入点东西10\n",
      "10.0\n",
      "自定义错误类型\n",
      "\n"
     ]
    }
   ],
   "source": [
    "# 异常栗子\n",
    "# 异常是一个类,捕获异常后需要实例化才可以调用\n",
    "# 异常可以自定义的\n",
    "class AnKangError(ValueError):\n",
    "    pass\n",
    "\n",
    "try:\n",
    "    num = int(input('请输入点东西'))\n",
    "    a = 100/num\n",
    "    print(a)\n",
    "    raise AnKangError\n",
    "except AnKangError as e:\n",
    "    print('自定义错误类型')\n",
    "    print(e)\n",
    "except ValueError as e:\n",
    "    print('值错误')\n",
    "    print(e)\n",
    "except ZeroDivisionError as e:\n",
    "    print('非零错误')\n",
    "    print(e)"
   ]
  }
 ],
 "metadata": {
  "kernelspec": {
   "display_name": "Python 3",
   "language": "python",
   "name": "python3"
  },
  "language_info": {
   "codemirror_mode": {
    "name": "ipython",
    "version": 3
   },
   "file_extension": ".py",
   "mimetype": "text/x-python",
   "name": "python",
   "nbconvert_exporter": "python",
   "pygments_lexer": "ipython3",
   "version": "3.7.0"
  }
 },
 "nbformat": 4,
 "nbformat_minor": 2
}
