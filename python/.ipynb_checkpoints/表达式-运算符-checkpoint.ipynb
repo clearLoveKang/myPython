{
 "cells": [
  {
   "cell_type": "markdown",
   "metadata": {},
   "source": [
    "# 表达式\n",
    "- 有一个或者几个数字,变量运算符组成的一行代码就叫表达式\n",
    "- 一般情况会返回一个结果\n",
    "# 运算符\n",
    "- 有一个值经过变化得到一个新值的过程就叫运算\n",
    "- 用于运算的符号叫运算符\n",
    "- Python运算符分类\n",
    "    - 算数运算符\n",
    "    - 比较或者关系运算符\n",
    "    - 赋值运算符\n",
    "    - 赋值运算符\n",
    "    - 逻辑运算符\n",
    "    - 位运算\n",
    "    - 成员运算符\n",
    "    - 身份运算符"
   ]
  },
  {
   "cell_type": "markdown",
   "metadata": {},
   "source": [
    "## 算术运算符\n",
    "- 进行加 减 乘 除等计算的符号 + - * /\n",
    "- python 没有自增自减运算符"
   ]
  },
  {
   "cell_type": "code",
   "execution_count": 5,
   "metadata": {},
   "outputs": [
    {
     "name": "stdout",
     "output_type": "stream",
     "text": [
      "2.25\n",
      "1\n",
      "2\n",
      "81\n"
     ]
    }
   ],
   "source": [
    "#python2 9/4 取整, Python3正常\n",
    "a = 9/4\n",
    "print(a)\n",
    "a = 9%4 #取余数\n",
    "print(a)\n",
    "a = 9//4 #取整\n",
    "print(a)\n",
    "a = 9**2 #幂次方\n",
    "print(a)"
   ]
  },
  {
   "cell_type": "markdown",
   "metadata": {},
   "source": [
    "## 比较运算符\n",
    "- 变量或者值进行比较\n",
    "- == 相等 != 不等 < > <= >=\n",
    "- 比较结果布尔值 0 1"
   ]
  },
  {
   "cell_type": "code",
   "execution_count": 7,
   "metadata": {},
   "outputs": [
    {
     "name": "stdout",
     "output_type": "stream",
     "text": [
      "False\n"
     ]
    }
   ],
   "source": [
    "a = 3**4\n",
    "b = a == 80 #赋值运算从右至左\n",
    "print(b)"
   ]
  },
  {
   "cell_type": "markdown",
   "metadata": {},
   "source": [
    "## 赋值运算符\n",
    "- = a=0, +="
   ]
  },
  {
   "cell_type": "code",
   "execution_count": 9,
   "metadata": {},
   "outputs": [
    {
     "name": "stdout",
     "output_type": "stream",
     "text": [
      "7\n"
     ]
    }
   ],
   "source": [
    "a = 0\n",
    "a += 7 #等比a = a+7,缩写而已\n",
    "print(a)"
   ]
  },
  {
   "cell_type": "markdown",
   "metadata": {},
   "source": [
    "## 逻辑运算符\n",
    "- 对真假进行计算的符号\n",
    "- and 逻辑与\n",
    "- or 逻辑或\n",
    "- not 逻辑非\n",
    "- Python没有异或\n",
    "- 运算规则\n",
    "    - and 看做乘法\n",
    "    - or 看做加法\n",
    "    - True看做1 False看做0\n",
    "- 逻辑运算的短路问题\n",
    "    - 逻辑运算按照一定顺序\n",
    "    - 一旦确定整个式子的值后面就不在运算"
   ]
  },
  {
   "cell_type": "code",
   "execution_count": 11,
   "metadata": {},
   "outputs": [
    {
     "name": "stdout",
     "output_type": "stream",
     "text": [
      "True\n"
     ]
    }
   ],
   "source": [
    "#逻辑运算符\n",
    "a = True\n",
    "b = False\n",
    "c = True\n",
    "\n",
    "# 等价于a*b+c 1*0+1\n",
    "d = a and b or c \n",
    "print(d)"
   ]
  },
  {
   "cell_type": "code",
   "execution_count": 13,
   "metadata": {},
   "outputs": [
    {
     "name": "stdout",
     "output_type": "stream",
     "text": [
      "True\n"
     ]
    }
   ],
   "source": [
    "#逻辑运算短路问题\n",
    "a = True or xxxxx\n",
    "print(a)"
   ]
  },
  {
   "cell_type": "markdown",
   "metadata": {},
   "source": [
    "## 成员运算\n",
    "- 用来检测一个变量是否是另一个变量的成员\n",
    "- in\n",
    "- not in"
   ]
  },
  {
   "cell_type": "code",
   "execution_count": 17,
   "metadata": {},
   "outputs": [
    {
     "name": "stdout",
     "output_type": "stream",
     "text": [
      "False\n",
      "True\n",
      "True\n"
     ]
    }
   ],
   "source": [
    "l = [1,2,3,4]\n",
    "a = 7\n",
    "b = 4\n",
    "print(a in l)\n",
    "print(b in l)\n",
    "print(a not in l)"
   ]
  },
  {
   "cell_type": "markdown",
   "metadata": {},
   "source": [
    "## 身份运算符\n",
    "- 用来检测变量是否是同一个变量\n",
    "- 运算规则 val1 is val2\n",
    "- val1 is not val2"
   ]
  },
  {
   "cell_type": "code",
   "execution_count": 20,
   "metadata": {},
   "outputs": [
    {
     "name": "stdout",
     "output_type": "stream",
     "text": [
      "是它就是它\n",
      "sss\n"
     ]
    }
   ],
   "source": [
    "a = 1\n",
    "b = 1\n",
    "if a is b:\n",
    "    print('是它就是它')\n",
    "c = 'nihao'\n",
    "d = 'nihao'\n",
    "if c is d:\n",
    "    print('sss')\n",
    "e = '你好'\n",
    "f = '你好'\n",
    "if e is f:\n",
    "    print('ddd')"
   ]
  }
 ],
 "metadata": {
  "kernelspec": {
   "display_name": "Python 3",
   "language": "python",
   "name": "python3"
  },
  "language_info": {
   "codemirror_mode": {
    "name": "ipython",
    "version": 3
   },
   "file_extension": ".py",
   "mimetype": "text/x-python",
   "name": "python",
   "nbconvert_exporter": "python",
   "pygments_lexer": "ipython3",
   "version": "3.7.0"
  }
 },
 "nbformat": 4,
 "nbformat_minor": 2
}
