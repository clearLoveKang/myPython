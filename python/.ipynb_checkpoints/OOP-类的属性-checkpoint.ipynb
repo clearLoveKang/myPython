{
 "cells": [
  {
   "cell_type": "markdown",
   "metadata": {},
   "source": [
    "# 类的属性\n",
    "- 类的成员描述符\n",
    "- 类的成员描述符,是为了在 类中 对 类的成员属性 进行 相关操作 创建的一种 方式\n",
    "- 数据清洗操作\n",
    "    - get 操作\n",
    "    - set 操作\n",
    "    - delete 操作\n",
    "## 使用成员描述符\n",
    "- 使用类实现描述器\n",
    "- 使用属性修饰符\n",
    "- 使用property\n",
    "- property(fget, fset, fdel, doc)"
   ]
  },
  {
   "cell_type": "code",
   "execution_count": 4,
   "metadata": {},
   "outputs": [
    {
     "name": "stdout",
     "output_type": "stream",
     "text": [
      "Hi ,my name is XIAOMING\n",
      "Hi ,my name is XIAOMING\n"
     ]
    }
   ],
   "source": [
    "# 属性案例\n",
    "# 创建Student类,描述学生\n",
    "# 学生具有Student, name属性\n",
    "# 但是name的格式并不统一\n",
    "class Student():\n",
    "    def __init__(self, name, age):\n",
    "        self.name = name\n",
    "        self.age = age\n",
    "        #不想修改代码\n",
    "        self.setName(name)\n",
    "        \n",
    "    def intro(self):\n",
    "        print('Hi ,my name is {0}'.format(self.name))\n",
    "    \n",
    "    def setName(self,name):\n",
    "        self.name = name.upper()\n",
    "        \n",
    "s1 = Student('xiaoming',19)\n",
    "s2 = Student('XIAOming',29)\n",
    "\n",
    "s1.intro()\n",
    "s2.intro()"
   ]
  },
  {
   "cell_type": "code",
   "execution_count": 10,
   "metadata": {},
   "outputs": [],
   "source": [
    "# property 栗子\n",
    "# 定义一个类 Person类 ,拥有name age 属性\n",
    "# 对于姓名随便输入 内部使用大写保存\n",
    "# 对于年龄 内部使用整数保存\n",
    "class Person():\n",
    "    def fget(self):\n",
    "        return self._name*2\n",
    "    \n",
    "    def fset(self,name):\n",
    "        self._name = name.upper()\n",
    "        \n",
    "    def fdel(self):\n",
    "        self._name = NoNone\n",
    "    \n",
    "    name = property(fget, fset, fdel, '对name进行以下操作')"
   ]
  },
  {
   "cell_type": "code",
   "execution_count": 12,
   "metadata": {},
   "outputs": [
    {
     "name": "stdout",
     "output_type": "stream",
     "text": [
      "XIAOMINGXIAOMING\n"
     ]
    }
   ],
   "source": [
    "p1 = Person()\n",
    "p1.name = 'xiaoming'\n",
    "print(p1.name)"
   ]
  },
  {
   "cell_type": "markdown",
   "metadata": {},
   "source": [
    "# 三种修饰符的不同\n",
    "- 类的方式 \n",
    "    - 适用于多个类中的多个属性公用同一个描述符\n",
    "- property \n",
    "    - 当前类中使用,控制住当前类得多个属性\n",
    "- 属性修饰符\n",
    "    - 当前类中使用,控制类的一个属性"
   ]
  },
  {
   "cell_type": "markdown",
   "metadata": {},
   "source": [
    "# 类的内置属性\n",
    "- __dict__: 以字典的形式显示类的成员组成\n",
    "- __doc__: 获取类的文档信息\n",
    "- __name__:获取类的名称,如果在类的模块儿中使用,显示模块的名称\n",
    "- __bases__: 获取类的所有父类,以元组形式"
   ]
  },
  {
   "cell_type": "code",
   "execution_count": 16,
   "metadata": {},
   "outputs": [
    {
     "name": "stdout",
     "output_type": "stream",
     "text": [
      "{'__module__': '__main__', '__doc__': '\\n        使用说明书\\n        就是这样使用\\n        多说一点\\n    ', '__init__': <function A.__init__ at 0x10fcb96a8>, '__dict__': <attribute '__dict__' of 'A' objects>, '__weakref__': <attribute '__weakref__' of 'A' objects>}\n",
      "\n",
      "        使用说明书\n",
      "        就是这样使用\n",
      "        多说一点\n",
      "    \n",
      "A\n",
      "(<class 'object'>,)\n"
     ]
    }
   ],
   "source": [
    "# 内置属性运用\n",
    "class A():\n",
    "    '''\n",
    "        使用说明书\n",
    "        就是这样使用\n",
    "        多说一点\n",
    "    '''\n",
    "    def __init__(self,name):\n",
    "        self.name = name\n",
    "\n",
    "# 显示成员组成\n",
    "print(A.__dict__)\n",
    "\n",
    "# 显示类的使用文档\n",
    "print(A.__doc__)\n",
    "\n",
    "# 显示类的名称\n",
    "print(A.__name__)\n",
    "\n",
    "# 显示类的父类 所有父类 元组形式\n",
    "print(A.__bases__)"
   ]
  }
 ],
 "metadata": {
  "kernelspec": {
   "display_name": "Python 3",
   "language": "python",
   "name": "python3"
  },
  "language_info": {
   "codemirror_mode": {
    "name": "ipython",
    "version": 3
   },
   "file_extension": ".py",
   "mimetype": "text/x-python",
   "name": "python",
   "nbconvert_exporter": "python",
   "pygments_lexer": "ipython3",
   "version": "3.7.0"
  }
 },
 "nbformat": 4,
 "nbformat_minor": 2
}
