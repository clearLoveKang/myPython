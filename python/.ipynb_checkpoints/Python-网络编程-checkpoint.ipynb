{
 "cells": [
  {
   "cell_type": "markdown",
   "metadata": {},
   "source": [
    "# 网络编程\n",
    "- 网络: \n",
    "- 网络协议: \n",
    "## 网络模型\n",
    "- 七层模型-理论模型\n",
    "    - 1物理层 (网线线)\n",
    "    - 2数据链路层 \n",
    "    - 3网络层\n",
    "    - 4传输层\n",
    "    - 5会话层\n",
    "    - 6表示层\n",
    "    - 7应用层\n",
    "    \n",
    "- 四层模型: 真正干活\n",
    "    - 链路层\n",
    "    - 网络层\n",
    "    - 传输层\n",
    "    - 应用层\n",
    "    \n",
    "## 每一层都有相应的协议 规则\n",
    "- TCP IP 协议族\n",
    "- IP地址: 负责在网络上唯一定位一个计算机身份\n",
    "    - 地址分五类 A B C D E\n",
    "    - 四个数字段组成 0-255\n",
    "    \n",
    "- 196.168.XXX.XXX 局域网\n",
    "- 127.0.0.1 本机\n",
    "- IPv4 IPv6\n",
    "## 端口\n",
    "- IP地址找到机器\n",
    "- 通过端口定位需要交流的文件\n",
    "- 范围 0-65535\n",
    "- 知名端口:0-1023\n",
    "    - 80 http\n",
    "- 非知名端口:1024-"
   ]
  },
  {
   "cell_type": "markdown",
   "metadata": {},
   "source": [
    "# TCP/UDP协议\n",
    "- TCP协议\n",
    "    - 基于链接通信\n",
    "    - 安全性高\n",
    "- UDP协议\n",
    "    - 非安全的不面向链接的传输\n",
    "    - 安全性差\n",
    "    - 大小限制在64kb\n",
    "    - 速度快"
   ]
  },
  {
   "cell_type": "markdown",
   "metadata": {},
   "source": [
    "# socket编程\n",
    "- 一个网络通信的端点,能实现不同主机之间的通信\n",
    "- 通过IP+端口能够定位对方并发送消息的通信机制\n",
    "- 分为UDP/TCP"
   ]
  }
 ],
 "metadata": {
  "kernelspec": {
   "display_name": "Python 3",
   "language": "python",
   "name": "python3"
  },
  "language_info": {
   "codemirror_mode": {
    "name": "ipython",
    "version": 3
   },
   "file_extension": ".py",
   "mimetype": "text/x-python",
   "name": "python",
   "nbconvert_exporter": "python",
   "pygments_lexer": "ipython3",
   "version": "3.7.0"
  }
 },
 "nbformat": 4,
 "nbformat_minor": 2
}
