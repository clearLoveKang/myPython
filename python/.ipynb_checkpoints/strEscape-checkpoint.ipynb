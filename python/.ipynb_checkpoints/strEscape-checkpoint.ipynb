{
 "cells": [
  {
   "cell_type": "markdown",
   "metadata": {},
   "source": [
    "# 字符串\n",
    "- 转义字符\n",
    "- 格式化\n",
    "- 内置函数\n",
    "## 转义字符\n",
    "- 用一个方法表示出一系列不方便写出的内容表示出来 回车 换行 退格键等等\n",
    "- 借助反斜杠字符来玩儿\n",
    "- 回车换行\\r\\n Linux \\n win"
   ]
  },
  {
   "cell_type": "code",
   "execution_count": 2,
   "metadata": {},
   "outputs": [
    {
     "name": "stdout",
     "output_type": "stream",
     "text": [
      "i love laobiao\n"
     ]
    }
   ],
   "source": [
    "str = 'i love laobiao' \n",
    "print(str)"
   ]
  },
  {
   "cell_type": "code",
   "execution_count": 10,
   "metadata": {},
   "outputs": [
    {
     "name": "stdout",
     "output_type": "stream",
     "text": [
      "let's go\n",
      "let's go\n",
      "c:\\user\n",
      "哦哟 \r\n",
      " 好屌啊\n"
     ]
    }
   ],
   "source": [
    "# 表示出来 let's go\n",
    "str = \"let's go\"\n",
    "print(str)\n",
    "str = 'let\\'s go'\n",
    "print(str)\n",
    "#转义字符 \\\\ == \\\n",
    "sss = \"c:\\\\user\"\n",
    "print(sss)\n",
    "#回车换行符打印两行\n",
    "s1 = \"哦哟 \\r\\n 好屌啊\"\n",
    "print(s1)"
   ]
  },
  {
   "cell_type": "markdown",
   "metadata": {},
   "source": [
    "## 字符串格式化\n",
    "- 把字符串按照一定格式打印或者填充\n",
    "- 格式化方法\n",
    "    - % 利用白饭好\n",
    "    - 利用format函数"
   ]
  },
  {
   "cell_type": "code",
   "execution_count": 11,
   "metadata": {},
   "outputs": [],
   "source": [
    "s = \"xxx,我听说你操作有点6\""
   ]
  },
  {
   "cell_type": "markdown",
   "metadata": {},
   "source": [
    "### 利用百分号格式化\n",
    "- %d 此处应该放个数字哟\n",
    "- %s 此处应有str"
   ]
  },
  {
   "cell_type": "code",
   "execution_count": 16,
   "metadata": {},
   "outputs": [
    {
     "name": "stdout",
     "output_type": "stream",
     "text": [
      "骚男,听说你操作很6\n"
     ]
    }
   ],
   "source": [
    "s = \"%s,听说你操作很6\"%'骚男'\n",
    "print(s)"
   ]
  },
  {
   "cell_type": "code",
   "execution_count": 20,
   "metadata": {},
   "outputs": [
    {
     "name": "stdout",
     "output_type": "stream",
     "text": [
      "I am 18 years old\n"
     ]
    }
   ],
   "source": [
    "s = 'I am %d years old'\n",
    "print(s%18)"
   ]
  },
  {
   "cell_type": "code",
   "execution_count": 25,
   "metadata": {},
   "outputs": [
    {
     "name": "stdout",
     "output_type": "stream",
     "text": [
      "I am 当弟弟 ,I am 15 years old\n"
     ]
    }
   ],
   "source": [
    "#有几个占位的,参数必须填写几个\n",
    "s = 'I am %s ,I am %d years old'\n",
    "print(s%(\"当弟弟\",15))"
   ]
  },
  {
   "cell_type": "markdown",
   "metadata": {},
   "source": [
    "### format函数格式化字符串\n",
    "- 推荐使用format函数\n",
    "- 在使用上,以{}和:代替%,后面用format带参数完成"
   ]
  },
  {
   "cell_type": "code",
   "execution_count": 28,
   "metadata": {},
   "outputs": [
    {
     "name": "stdout",
     "output_type": "stream",
     "text": [
      "i am kangkang\n",
      "yes, i am 18 years old, i love kangkang,i am 18 years old\n"
     ]
    }
   ],
   "source": [
    "s = \"i am {}\".format('kangkang')\n",
    "print(s)\n",
    "ss = \"yes, i am {1} years old, i love {0},i am {1} years old\".format('kangkang',18)\n",
    "print(ss)"
   ]
  },
  {
   "cell_type": "markdown",
   "metadata": {},
   "source": [
    "## None\n",
    "- 什么都没有\n",
    "- 函数没有函数值,可以返回None\n",
    "- 用来占位"
   ]
  }
 ],
 "metadata": {
  "kernelspec": {
   "display_name": "Python 3",
   "language": "python",
   "name": "python3"
  },
  "language_info": {
   "codemirror_mode": {
    "name": "ipython",
    "version": 3
   },
   "file_extension": ".py",
   "mimetype": "text/x-python",
   "name": "python",
   "nbconvert_exporter": "python",
   "pygments_lexer": "ipython3",
   "version": "3.7.0"
  }
 },
 "nbformat": 4,
 "nbformat_minor": 2
}
