{
 "cells": [
  {
   "cell_type": "markdown",
   "metadata": {},
   "source": [
    "# 类和对象的成员分析\n",
    "- 类和对象都可以存储成员,成员可以归类所有,也可以归对象所有\n",
    "- 类存储成员是使用的是一个和类关联的对象(定义一个类后 会在内存中存在一个类实例,只有一份)\n",
    "- 独享存储成员是存储在当前对象中\n",
    "- 对象访问一个成员\n",
    "    - 首先访问对象中成员\n",
    "    - 如果不存在该成员则访问类中该成员\n",
    "- 创建对象时类中的属性和方法不会放入对象中 建立的是一个空对象\n",
    "    - 只进行查看时  查看的是类中的对象属性\n",
    "    - 进行更改操作时 会从新开辟空间存储"
   ]
  },
  {
   "cell_type": "code",
   "execution_count": 10,
   "metadata": {},
   "outputs": [
    {
     "name": "stdout",
     "output_type": "stream",
     "text": [
      "康神\n",
      "18\n",
      "******************************\n",
      "4482814704\n",
      "4443711072\n",
      "******************************\n",
      "康神\n",
      "18\n",
      "******************************\n",
      "4482814704\n",
      "4443711072\n",
      "{'__module__': '__main__', 'name': '康神', 'age': 18, 'say': <function A.say at 0x10b33f1e0>, '__dict__': <attribute '__dict__' of 'A' objects>, '__weakref__': <attribute '__weakref__' of 'A' objects>, '__doc__': None}\n",
      "{}\n",
      "{'name': '蛋蛋', 'age': '19'}\n",
      "蛋蛋\n",
      "19\n",
      "******************************\n",
      "4482815056\n",
      "4481315984\n"
     ]
    }
   ],
   "source": [
    "class A():\n",
    "    name = '康神'\n",
    "    age = 18\n",
    "    def say(self):\n",
    "        self.name = '我康神'\n",
    "        self.age = 666\n",
    "print(A.name)\n",
    "print(A.age)\n",
    "print('*'*30)\n",
    "print(id(A.name))\n",
    "print(id(A.age))\n",
    "print('*'*30)\n",
    "# 类实例的属性和对象实例的属性在不对对象的属性进行赋值的情况下,指向的是同一块儿内存\n",
    "a = A()\n",
    "print(a.name)\n",
    "print(a.age)\n",
    "print('*'*30)\n",
    "print(id(a.name))\n",
    "print(id(a.age))\n",
    "print(A.__dict__)\n",
    "print(a.__dict__)\n",
    "a.name = '蛋蛋'\n",
    "a.age = '19'\n",
    "print(a.__dict__)\n",
    "print(a.name)\n",
    "print(a.age)\n",
    "print('*'*30)\n",
    "print(id(a.name))\n",
    "print(id(a.age))"
   ]
  },
  {
   "cell_type": "markdown",
   "metadata": {},
   "source": [
    "# self的相关知识\n",
    "- 这个东西就代表自己 比如我们前端的this\n",
    "- 代码look\n",
    "- self本身不是关键字,可用人以代替\n",
    "- 方法有self形参的方法为非绑定类方法,可以通过对象访问,没有self形参的方法是绑定类方法,只能通过类访问"
   ]
  },
  {
   "cell_type": "code",
   "execution_count": 13,
   "metadata": {},
   "outputs": [
    {
     "name": "stdout",
     "output_type": "stream",
     "text": [
      "My name is : dandan\n",
      "My age is : 19\n"
     ]
    }
   ],
   "source": [
    "# self本身不是一个关键字,可以使用任何代替\n",
    "class Student():\n",
    "    name = 'kangkang'\n",
    "    age = 18\n",
    "    def say(self):\n",
    "        self.name = 'dandan'\n",
    "        self.age = 19\n",
    "        print('My name is :',self.name)\n",
    "        print('My age is :',self.age)\n",
    "\n",
    "xiaoming = Student()\n",
    "xiaoming.say()"
   ]
  },
  {
   "cell_type": "code",
   "execution_count": 19,
   "metadata": {},
   "outputs": [
    {
     "name": "stdout",
     "output_type": "stream",
     "text": [
      "My name is : kangshen\n",
      "My age is : 17\n",
      "Hello 你看这是啥\n"
     ]
    },
    {
     "ename": "TypeError",
     "evalue": "sayAgain() takes 0 positional arguments but 1 was given",
     "output_type": "error",
     "traceback": [
      "\u001b[0;31m---------------------------------------------------------------------------\u001b[0m",
      "\u001b[0;31mTypeError\u001b[0m                                 Traceback (most recent call last)",
      "\u001b[0;32m<ipython-input-19-acdcd28189e6>\u001b[0m in \u001b[0;36m<module>\u001b[0;34m()\u001b[0m\n\u001b[1;32m     15\u001b[0m \u001b[0;31m# 没有self形参的方法,不能通过对象访问,需要通过类直接访问\u001b[0m\u001b[0;34m\u001b[0m\u001b[0;34m\u001b[0m\u001b[0m\n\u001b[1;32m     16\u001b[0m \u001b[0mTeacher\u001b[0m\u001b[0;34m.\u001b[0m\u001b[0msayAgain\u001b[0m\u001b[0;34m(\u001b[0m\u001b[0;34m)\u001b[0m\u001b[0;34m\u001b[0m\u001b[0m\n\u001b[0;32m---> 17\u001b[0;31m \u001b[0mt\u001b[0m\u001b[0;34m.\u001b[0m\u001b[0msayAgain\u001b[0m\u001b[0;34m(\u001b[0m\u001b[0;34m)\u001b[0m\u001b[0;34m\u001b[0m\u001b[0m\n\u001b[0m",
      "\u001b[0;31mTypeError\u001b[0m: sayAgain() takes 0 positional arguments but 1 was given"
     ]
    }
   ],
   "source": [
    "# 方法\n",
    "class Teacher():\n",
    "    name = 'kangkang'\n",
    "    age = 18\n",
    "    def say(self):\n",
    "        self.name = 'kangshen'\n",
    "        self.age = 17\n",
    "        print('My name is :',self.name)\n",
    "        print('My age is :',self.age)\n",
    "    def sayAgain():\n",
    "        print('Hello 你看这是啥')\n",
    "\n",
    "t = Teacher()\n",
    "t.say() \n",
    "# 没有self形参的方法,不能通过对象访问,需要通过类直接访问\n",
    "Teacher.sayAgain()\n",
    "t.sayAgain()\n"
   ]
  },
  {
   "cell_type": "code",
   "execution_count": 23,
   "metadata": {},
   "outputs": [
    {
     "name": "stdout",
     "output_type": "stream",
     "text": [
      "构造函数名字嗷嗷嗷\n",
      "19\n"
     ]
    },
    {
     "ename": "TypeError",
     "evalue": "say() missing 1 required positional argument: 'self'",
     "output_type": "error",
     "traceback": [
      "\u001b[0;31m---------------------------------------------------------------------------\u001b[0m",
      "\u001b[0;31mTypeError\u001b[0m                                 Traceback (most recent call last)",
      "\u001b[0;32m<ipython-input-23-3ff403557c4b>\u001b[0m in \u001b[0;36m<module>\u001b[0;34m()\u001b[0m\n\u001b[1;32m     16\u001b[0m \u001b[0ma\u001b[0m\u001b[0;34m.\u001b[0m\u001b[0msay\u001b[0m\u001b[0;34m(\u001b[0m\u001b[0;34m)\u001b[0m\u001b[0;34m\u001b[0m\u001b[0m\n\u001b[1;32m     17\u001b[0m \u001b[0;31m# 类直接调用方法不会吧A当成参数传入会报错\u001b[0m\u001b[0;34m\u001b[0m\u001b[0;34m\u001b[0m\u001b[0m\n\u001b[0;32m---> 18\u001b[0;31m \u001b[0mA\u001b[0m\u001b[0;34m.\u001b[0m\u001b[0msay\u001b[0m\u001b[0;34m(\u001b[0m\u001b[0;34m)\u001b[0m\u001b[0;34m\u001b[0m\u001b[0m\n\u001b[0m",
      "\u001b[0;31mTypeError\u001b[0m: say() missing 1 required positional argument: 'self'"
     ]
    }
   ],
   "source": [
    "# 搞个栗子\n",
    "class A():\n",
    "    name = '类名字嗷嗷嗷'\n",
    "    age = 18\n",
    "    def __init__(self):\n",
    "        self.name = '构造函数名字嗷嗷嗷'\n",
    "        self.age = 19\n",
    "    def say(self):\n",
    "        print(self.name)\n",
    "        print(self.age)\n",
    "class B():\n",
    "    name = 'B类名字嗷嗷嗷'\n",
    "    age = 20\n",
    "a = A()\n",
    "# 实例化后a会当成参数传入方法中 self位置\n",
    "a.say()\n",
    "# 类直接调用方法不会吧A当成参数传入会报错\n",
    "A.say()"
   ]
  },
  {
   "cell_type": "code",
   "execution_count": 26,
   "metadata": {},
   "outputs": [
    {
     "name": "stdout",
     "output_type": "stream",
     "text": [
      "构造函数名字嗷嗷嗷\n",
      "19\n",
      "类名字嗷嗷嗷\n",
      "18\n",
      "B类名字嗷嗷嗷\n",
      "20\n"
     ]
    }
   ],
   "source": [
    "# 非要实用类来调用方法,可以传入一个参数\n",
    "A.say(a)\n",
    "# 既然能传入参数那么我们就实施其他参数\n",
    "A.say(A)\n",
    "A.say(B)\n",
    "\n",
    "# 这种形式就是鸭子模型 ,挂您是不是鸭子 只要会叫会游泳就是鸭子"
   ]
  }
 ],
 "metadata": {
  "kernelspec": {
   "display_name": "Python 3",
   "language": "python",
   "name": "python3"
  },
  "language_info": {
   "codemirror_mode": {
    "name": "ipython",
    "version": 3
   },
   "file_extension": ".py",
   "mimetype": "text/x-python",
   "name": "python",
   "nbconvert_exporter": "python",
   "pygments_lexer": "ipython3",
   "version": "3.7.0"
  }
 },
 "nbformat": 4,
 "nbformat_minor": 2
}
