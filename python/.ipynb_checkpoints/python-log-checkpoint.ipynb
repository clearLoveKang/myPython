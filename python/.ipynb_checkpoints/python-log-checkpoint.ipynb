{
 "cells": [
  {
   "cell_type": "markdown",
   "metadata": {},
   "source": [
    "# log\n",
    "- 记录日志模块logging\n",
    "## 日志相关概念\n",
    "- 日志 记录程序执行\n",
    "- 日志级别 lever\n",
    "    - 不同用户关注不同的运行信息\n",
    "    - DEBUG \n",
    "    - INFO 详情\n",
    "    - NOTICE 注意\n",
    "    - WARNING 警告\n",
    "    - ERROR 错误\n",
    "    - CRITICAL 至关重要的\n",
    "    - ALERT 警报\n",
    "    - EMERGENCY 紧急\n",
    "- IO操作不要太频繁\n",
    "- log的作用\n",
    "    - 调试\n",
    "    - 了解运行情况\n",
    "    - 分析定位问题\n",
    "- 日志信息\n",
    "    - time 时间记录\n",
    "    - 地点 \n",
    "    - level 问题级别\n",
    "    - 出错内容\n",
    "- 使用log模块写日志\n",
    "- 日志级别\n",
    "    - 级别可以自定义\n",
    "    - DEBUG \n",
    "    - INFO 详情\n",
    "    - WARNING 警告\n",
    "    - ERROR 错误\n",
    "    - CRITICAL 至关重要的\n",
    "- 初始化日志的时候先定级别,超过某个级别才会记录\n",
    "- 使用方式\n",
    "    - 直接使用logging\n",
    "    - logging四大组件\n"
   ]
  },
  {
   "cell_type": "code",
   "execution_count": 2,
   "metadata": {},
   "outputs": [
    {
     "name": "stdout",
     "output_type": "stream",
     "text": [
      "red\n",
      "yellow\n",
      "bule\n",
      "green\n"
     ]
    }
   ],
   "source": [
    "# 显示台是IO操作 比较耗时\n",
    "color = ['red', 'yellow', 'bule', 'green']\n",
    "for green in color:\n",
    "    print(green)\n",
    "    if color == 'green':\n",
    "        print('Green')"
   ]
  },
  {
   "cell_type": "markdown",
   "metadata": {},
   "source": [
    "# logging 级别的日志\n",
    "- 常用函数\n",
    "    - logging.debug(msg, *args, **kwargs)\n",
    "    - logging.info(msg, *args, **kwargs)\n",
    "    - logging.warning(msg, *args, **kwargs)\n",
    "    - logging.error(msg, *args, **kwargs)\n",
    "    - logging.critical(msg, *args, **kwargs)\n",
    "    - logging.log(level, *args, **kwargs) \n",
    "    - logging.basicConfig(**kwargs) 对root logger进行一次性配置"
   ]
  },
  {
   "cell_type": "markdown",
   "metadata": {},
   "source": [
    "#  logging.basicConfig(**kwargs) \n",
    "- 只在第一次调用的时候起作用\n",
    "- 不配置logger的情况下使用默认值\n",
    "    - 输出: sys.stderr\n",
    "    - 级别: warning\n",
    "    - 格式: level : log_name : content"
   ]
  }
 ],
 "metadata": {
  "kernelspec": {
   "display_name": "Python 3",
   "language": "python",
   "name": "python3"
  },
  "language_info": {
   "codemirror_mode": {
    "name": "ipython",
    "version": 3
   },
   "file_extension": ".py",
   "mimetype": "text/x-python",
   "name": "python",
   "nbconvert_exporter": "python",
   "pygments_lexer": "ipython3",
   "version": "3.7.0"
  }
 },
 "nbformat": 4,
 "nbformat_minor": 2
}
