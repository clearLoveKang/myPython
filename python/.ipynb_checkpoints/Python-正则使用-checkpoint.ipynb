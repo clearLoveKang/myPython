{
 "cells": [
  {
   "cell_type": "markdown",
   "metadata": {},
   "source": [
    "# RE的使用\n",
    "- 1使用compile江表示正则的字符串编译为一个pattern对象\n",
    "- 2通富哦pattern对象提供一系列方法对文本进行查找匹配.获取匹配结果.有个Match对象\n",
    "- 3最后使用Match对象提供属性和方法活的信息,根据需要进行操作\n",
    "\n",
    "\n",
    "- group() 获取一个或多个分组匹配的字符串,当要活的整个匹配的字符串时,直接使用group或者group(0)\n",
    "- start: 获取分组匹配的字符串在整个字符串中的起始位置,默认参数为0\n",
    "- end: 获取分组匹配的字符串在整个字符串中的末尾位置,默认参数为0\n",
    "- span:返回的结构技术,(start(group), end(group))"
   ]
  },
  {
   "cell_type": "code",
   "execution_count": 5,
   "metadata": {},
   "outputs": [
    {
     "name": "stdout",
     "output_type": "stream",
     "text": [
      "None\n"
     ]
    }
   ],
   "source": [
    "# 使用正则需要导入re\n",
    "import re\n",
    "\n",
    "# 查找数字(规则)\n",
    "p = re.compile(r'\\d+')\n",
    "\n",
    "# 在字符串中按规则进行查找按照规则指定的正则进行查找(验证)\n",
    "m = p.match('ome234two333four534343')\n",
    "print(m)"
   ]
  },
  {
   "cell_type": "code",
   "execution_count": 15,
   "metadata": {},
   "outputs": [
    {
     "name": "stdout",
     "output_type": "stream",
     "text": [
      "<re.Match object; span=(3, 6), match='234'>\n",
      "234\n"
     ]
    }
   ],
   "source": [
    "# 使用正则需要导入re\n",
    "import re\n",
    "\n",
    "# 查找数字(规则)\n",
    "p = re.compile(r'\\d+')\n",
    "\n",
    "# 在字符串中按规则进行查找按照规则指定的正则进行查找(验证)\n",
    "# 指定下标进行查找\n",
    "m = p.match('ome234two333four534343', 3, 26)\n",
    "print(m)\n",
    "\n",
    "# match可以输入参数表示起始位置\n",
    "# 查找结果只表示一个 第一次出现的位置"
   ]
  },
  {
   "cell_type": "code",
   "execution_count": 20,
   "metadata": {},
   "outputs": [
    {
     "name": "stdout",
     "output_type": "stream",
     "text": [
      "234\n",
      "3\n",
      "6\n",
      "(3, 6)\n"
     ]
    }
   ],
   "source": [
    "print(m[0])\n",
    "print(m.start())\n",
    "print(m.end())\n",
    "print(m.span())"
   ]
  },
  {
   "cell_type": "code",
   "execution_count": 24,
   "metadata": {},
   "outputs": [
    {
     "name": "stdout",
     "output_type": "stream",
     "text": [
      "<re.Match object; span=(0, 6), match='i love'>\n"
     ]
    }
   ],
   "source": [
    "import re\n",
    "\n",
    "# l忽略大小写\n",
    "p = re.compile(r'([a-z]+) ([a-z]+)', re.I)\n",
    "m = p.match('i love wangxiaojing')\n",
    "print(m)"
   ]
  },
  {
   "cell_type": "code",
   "execution_count": 30,
   "metadata": {},
   "outputs": [
    {
     "name": "stdout",
     "output_type": "stream",
     "text": [
      "i love\n",
      "0\n",
      "6\n",
      "(0, 6)\n",
      "i\n",
      "0\n",
      "1\n",
      "(0, 1)\n",
      "('i', 'love')\n"
     ]
    }
   ],
   "source": [
    "print(m.group(0))\n",
    "print(m.start(0))\n",
    "print(m.end(0))\n",
    "print(m.span(0))\n",
    "\n",
    "print(m.group(1))\n",
    "print(m.start(1))\n",
    "print(m.end(1))\n",
    "print(m.span(1))\n",
    "\n",
    "\n",
    "# groups()所有租\n",
    "print(m.groups())"
   ]
  },
  {
   "cell_type": "markdown",
   "metadata": {},
   "source": [
    "# 查找\n",
    "- match(str, [,pos[,endpos]]) 在字符串中查找匹配,pos和endpos表示起始位置\n",
    "- findall 查找所有\n",
    "- findirer 查找返回一个iter结果"
   ]
  },
  {
   "cell_type": "code",
   "execution_count": 34,
   "metadata": {},
   "outputs": [
    {
     "name": "stdout",
     "output_type": "stream",
     "text": [
      "123\n"
     ]
    }
   ],
   "source": [
    "# 查找\n",
    "import re\n",
    "p = re.compile(r'\\d+')\n",
    "m = p.search('one123two334three6655')\n",
    "\n",
    "print(m.group())"
   ]
  },
  {
   "cell_type": "code",
   "execution_count": 37,
   "metadata": {
    "scrolled": true
   },
   "outputs": [
    {
     "name": "stdout",
     "output_type": "stream",
     "text": [
      "<class 'list'>\n",
      "['123', '334', '6655']\n"
     ]
    }
   ],
   "source": [
    "rst = p.findall('one123two334three6655')\n",
    "print(type(rst))\n",
    "print(rst)"
   ]
  },
  {
   "cell_type": "markdown",
   "metadata": {},
   "source": [
    "# sub 替换\n",
    "- sub(rep1, str[,count])"
   ]
  },
  {
   "cell_type": "code",
   "execution_count": 45,
   "metadata": {},
   "outputs": [
    {
     "name": "stdout",
     "output_type": "stream",
     "text": [
      "hello world hello world ankang, hello world you\n"
     ]
    }
   ],
   "source": [
    "# sub使用\n",
    "import re\n",
    "\n",
    "p = re.compile(r'(\\w+) (\\w+)')\n",
    "\n",
    "m = 'hello 333 cheng 3434 ankang, i love you'\n",
    "\n",
    "rst = p.sub(r'hello world', m)\n",
    "print(rst)"
   ]
  },
  {
   "cell_type": "markdown",
   "metadata": {},
   "source": [
    "# 匹配中文\n",
    "- 大部分中文表示范围是[u4e00-u9fa5] 不包括全角标点"
   ]
  }
 ],
 "metadata": {
  "kernelspec": {
   "display_name": "Python 3",
   "language": "python",
   "name": "python3"
  },
  "language_info": {
   "codemirror_mode": {
    "name": "ipython",
    "version": 3
   },
   "file_extension": ".py",
   "mimetype": "text/x-python",
   "name": "python",
   "nbconvert_exporter": "python",
   "pygments_lexer": "ipython3",
   "version": "3.7.0"
  }
 },
 "nbformat": 4,
 "nbformat_minor": 2
}
