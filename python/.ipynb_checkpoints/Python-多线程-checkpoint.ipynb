{
 "cells": [
  {
   "cell_type": "code",
   "execution_count": 1,
   "metadata": {},
   "outputs": [
    {
     "name": "stdout",
     "output_type": "stream",
     "text": [
      "main start ...Tue Nov 20 16:13:01 2018\n",
      "main end ...Tue Nov 20 16:13:01 2018\n",
      "loop2 start workTue Nov 20 16:13:01 2018\n",
      "loop1 start workTue Nov 20 16:13:01 2018\n",
      "loop1 end workTue Nov 20 16:13:04 2018\n",
      "loop2 end workTue Nov 20 16:13:05 2018\n"
     ]
    }
   ],
   "source": [
    "import _thread as thread\n",
    "import time\n",
    "\n",
    "def loop1():\n",
    "    print('loop1 start work{0}'.format(time.ctime()))\n",
    "    time.sleep(3)\n",
    "    print('loop1 end work{0}'.format(time.ctime()))\n",
    "\n",
    "def loop2():\n",
    "    print('loop2 start work{0}'.format(time.ctime()))\n",
    "    time.sleep(4)\n",
    "    print('loop2 end work{0}'.format(time.ctime()))\n",
    "\n",
    "def main():\n",
    "    print('main start ...{0}'.format(time.ctime()))\n",
    "    thread.start_new_thread(loop1, ())\n",
    "    thread.start_new_thread(loop2, ())\n",
    "    print('main end ...{0}'.format(time.ctime()))\n",
    "\n",
    "\n",
    "if __name__ == '__main__':\n",
    "    main()\n",
    "#     while True:\n",
    "#         time.sleep(5)"
   ]
  },
  {
   "cell_type": "markdown",
   "metadata": {},
   "source": [
    "# 共享变量\n",
    "- 多个线程享用同变量\n",
    "- 锁 Lock\n",
    "    - 是一个标准,表示一个线程在占用一些资源\n",
    "    - 使用方法\n",
    "        - 上锁\n",
    "        - 使用共享资源\n",
    "        - 取消锁 释放\n",
    "    - 锁谁\n",
    "        - 那个资源需要多个资源共享\n",
    "        - 并不是真正锁住,相当于令牌谁拿到谁能用"
   ]
  },
  {
   "cell_type": "code",
   "execution_count": 5,
   "metadata": {},
   "outputs": [
    {
     "name": "stdout",
     "output_type": "stream",
     "text": [
      "99999\n",
      "0\n"
     ]
    }
   ],
   "source": [
    "import threading\n",
    "\n",
    "sum = 0\n",
    "loopSum = 100000\n",
    "\n",
    "def add():\n",
    "    global sum, loopSum\n",
    "    for i in range(1, loopSum):\n",
    "        sum += 1\n",
    "        \n",
    "def sub():\n",
    "    global sum, loopSum\n",
    "    for i in range(1, loopSum):\n",
    "        sum -=1\n",
    "        \n",
    "if __name__ == '__main__':\n",
    "    add()\n",
    "    print(sum)\n",
    "    sub()\n",
    "    print(sum)\n",
    "    "
   ]
  },
  {
   "cell_type": "markdown",
   "metadata": {},
   "source": [
    "## 线程安全\n",
    "- 一个变量/资源 对于多线程来讲 不用加锁也不会出现任何问题 就称为线程安全问题\n",
    "- 线程不安全变量类型: list set dict\n",
    "- 线程安全变量类型: queue(队列)"
   ]
  },
  {
   "cell_type": "markdown",
   "metadata": {},
   "source": [
    "## 生产者消费问题\n",
    "- 一个模型 可以放置消息队列\n",
    "- queue\n",
    "    - 存放变量的数据结构\n",
    "    - 先进先出,内部元素排队 \n",
    "    - 特殊的list"
   ]
  }
 ],
 "metadata": {
  "kernelspec": {
   "display_name": "Python 3",
   "language": "python",
   "name": "python3"
  },
  "language_info": {
   "codemirror_mode": {
    "name": "ipython",
    "version": 3
   },
   "file_extension": ".py",
   "mimetype": "text/x-python",
   "name": "python",
   "nbconvert_exporter": "python",
   "pygments_lexer": "ipython3",
   "version": "3.7.0"
  }
 },
 "nbformat": 4,
 "nbformat_minor": 2
}
