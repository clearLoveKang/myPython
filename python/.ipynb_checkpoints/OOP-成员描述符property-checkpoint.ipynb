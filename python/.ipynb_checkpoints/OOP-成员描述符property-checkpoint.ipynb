{
 "cells": [
  {
   "cell_type": "markdown",
   "metadata": {},
   "source": [
    "# property\n"
   ]
  },
  {
   "cell_type": "code",
   "execution_count": 36,
   "metadata": {},
   "outputs": [
    {
     "name": "stdout",
     "output_type": "stream",
     "text": [
      "hah\n",
      "设置值时调用...\n",
      "获取值时运行...\n",
      "大神kk\n"
     ]
    }
   ],
   "source": [
    "class Person():\n",
    "    name = 'hah'\n",
    "    def sayHello(self):\n",
    "        print('hi')\n",
    "    \n",
    "    def fget(self):\n",
    "        print('获取值时运行...')\n",
    "        return self._name\n",
    "    \n",
    "    def fset(self, name):\n",
    "        print('设置值时调用...')\n",
    "        self._name = '大神'+name\n",
    "    \n",
    "    def fdel(self):\n",
    "        pass\n",
    "    name2 = property(fget, fset, fdel, '说明文档')\n",
    "\n",
    "p = Person()\n",
    "# p.name = 'hah'\n",
    "print(p.name) \n",
    "p.name2 = 'kk'\n",
    "print(p.name2)"
   ]
  },
  {
   "cell_type": "code",
   "execution_count": null,
   "metadata": {},
   "outputs": [],
   "source": []
  }
 ],
 "metadata": {
  "kernelspec": {
   "display_name": "Python 3",
   "language": "python",
   "name": "python3"
  },
  "language_info": {
   "codemirror_mode": {
    "name": "ipython",
    "version": 3
   },
   "file_extension": ".py",
   "mimetype": "text/x-python",
   "name": "python",
   "nbconvert_exporter": "python",
   "pygments_lexer": "ipython3",
   "version": "3.7.0"
  }
 },
 "nbformat": 4,
 "nbformat_minor": 2
}
