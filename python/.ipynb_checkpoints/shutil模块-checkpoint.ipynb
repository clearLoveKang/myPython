{
 "cells": [
  {
   "cell_type": "markdown",
   "metadata": {},
   "source": [
    "# shutil 模块\n",
    "- 主要是文件操作"
   ]
  },
  {
   "cell_type": "code",
   "execution_count": 1,
   "metadata": {},
   "outputs": [],
   "source": [
    "# copy() 复制文件\n",
    "# 使用方法 shutil.copy()\n",
    "# 返回目标路径"
   ]
  },
  {
   "cell_type": "code",
   "execution_count": 1,
   "metadata": {},
   "outputs": [
    {
     "name": "stdout",
     "output_type": "stream",
     "text": [
      "/Users/yimihaodi/md/python/python\n",
      "/Users/yimihaodi/md/python/python/myfile\n",
      "['kk123.ipynb', 'copy.ipynb', 'kk123.txt']\n",
      "/Users/yimihaodi/md/python/python/myfile/copy.txt\n"
     ]
    }
   ],
   "source": [
    "import os\n",
    "import shutil\n",
    "# 获取当前路径\n",
    "localpath = os.getcwd()\n",
    "print(localpath)\n",
    "\n",
    "# 更改当前路径\n",
    "nwepath = os.chdir('/Users/yimihaodi/md/python/python/myfile')\n",
    "print(os.getcwd())\n",
    "\n",
    "# 运行系统命令创建文件\n",
    "os.system('touch kk123.txt')\n",
    "\n",
    "# 打印当前文件夹所有文件\n",
    "print(os.listdir('/Users/yimihaodi/md/python/python/myfile'))\n",
    "\n",
    "# 复制文件\n",
    "rst = shutil.copy('/Users/yimihaodi/md/python/python/myfile/kk123.txt','/Users/yimihaodi/md/python/python/myfile/copy.txt')\n",
    "print(rst)"
   ]
  },
  {
   "cell_type": "code",
   "execution_count": 3,
   "metadata": {},
   "outputs": [
    {
     "name": "stdout",
     "output_type": "stream",
     "text": [
      "copy.txt\n"
     ]
    }
   ],
   "source": [
    "# copyfile('原路径,目标路径')讲一个文件内容复制到另一个文件\n",
    "# 返回值:无\n",
    "res = shutil.copyfile('kk123.txt','copy.txt')\n",
    "print(res)"
   ]
  },
  {
   "cell_type": "code",
   "execution_count": 4,
   "metadata": {},
   "outputs": [],
   "source": [
    "# move('原路径','目标路径') 移动文件\n",
    "# 使用 shutil.move()\n",
    "# 返回值\n",
    "# 移动文件后原来文件就木有啦\n",
    "# 注意移动目录必须有使用权限"
   ]
  },
  {
   "cell_type": "markdown",
   "metadata": {},
   "source": [
    "# 归档压缩\n",
    "- 归档: 吧一些文件放置到一个文件中去\n",
    "- 压缩: 运用算法吧文件或者多个文件有损或者无损的合并到一个文件当中"
   ]
  },
  {
   "cell_type": "code",
   "execution_count": 6,
   "metadata": {},
   "outputs": [
    {
     "name": "stdout",
     "output_type": "stream",
     "text": [
      "/Users/yimihaodi/md/python/python/myfile/archive.zip\n"
     ]
    }
   ],
   "source": [
    "# make_archive() 归档操作\n",
    "# 格式: shutil.make_archive('归档之后的文件名', '后缀', '需要归档的文件夹')\n",
    "# 返回值:返回归档之后的路径\n",
    "rst = shutil.make_archive('archive','zip','/Users/yimihaodi/md/python/python/myfile')\n",
    "print(rst)"
   ]
  },
  {
   "cell_type": "code",
   "execution_count": 14,
   "metadata": {},
   "outputs": [
    {
     "name": "stdout",
     "output_type": "stream",
     "text": [
      "Help on function unpack_archive in module shutil:\n",
      "\n",
      "unpack_archive(filename, extract_dir=None, format=None)\n",
      "    Unpack an archive.\n",
      "    \n",
      "    `filename` is the name of the archive.\n",
      "    \n",
      "    `extract_dir` is the name of the target directory, where the archive\n",
      "    is unpacked. If not provided, the current working directory is used.\n",
      "    \n",
      "    `format` is the archive format: one of \"zip\", \"tar\", \"gztar\", \"bztar\",\n",
      "    or \"xztar\".  Or any other registered format.  If not provided,\n",
      "    unpack_archive will use the filename extension and see if an unpacker\n",
      "    was registered for that extension.\n",
      "    \n",
      "    In case none is found, a ValueError is raised.\n",
      "\n"
     ]
    },
    {
     "ename": "ReadError",
     "evalue": "/Users/yimihaodi/md/python/python/myfile/archive.zip is not a zip file",
     "output_type": "error",
     "traceback": [
      "\u001b[0;31m---------------------------------------------------------------------------\u001b[0m",
      "\u001b[0;31mReadError\u001b[0m                                 Traceback (most recent call last)",
      "\u001b[0;32m<ipython-input-14-b9108ed06e58>\u001b[0m in \u001b[0;36m<module>\u001b[0;34m()\u001b[0m\n\u001b[1;32m      2\u001b[0m \u001b[0;31m# 格式 shutil.unpack_archive('归档文件地址','解包之后的文件地址')\u001b[0m\u001b[0;34m\u001b[0m\u001b[0;34m\u001b[0m\u001b[0m\n\u001b[1;32m      3\u001b[0m \u001b[0mhelp\u001b[0m\u001b[0;34m(\u001b[0m\u001b[0mshutil\u001b[0m\u001b[0;34m.\u001b[0m\u001b[0munpack_archive\u001b[0m\u001b[0;34m)\u001b[0m\u001b[0;34m\u001b[0m\u001b[0m\n\u001b[0;32m----> 4\u001b[0;31m \u001b[0ms\u001b[0m \u001b[0;34m=\u001b[0m \u001b[0mshutil\u001b[0m\u001b[0;34m.\u001b[0m\u001b[0munpack_archive\u001b[0m\u001b[0;34m(\u001b[0m\u001b[0;34m'/Users/yimihaodi/md/python/python/myfile/archive.zip'\u001b[0m\u001b[0;34m,\u001b[0m\u001b[0;34m'/Users/yimihaodi/md/python/python/myfile'\u001b[0m\u001b[0;34m)\u001b[0m\u001b[0;34m\u001b[0m\u001b[0m\n\u001b[0m\u001b[1;32m      5\u001b[0m \u001b[0mprint\u001b[0m\u001b[0;34m(\u001b[0m\u001b[0ms\u001b[0m\u001b[0;34m)\u001b[0m\u001b[0;34m\u001b[0m\u001b[0m\n",
      "\u001b[0;32m/anaconda3/lib/python3.7/shutil.py\u001b[0m in \u001b[0;36munpack_archive\u001b[0;34m(filename, extract_dir, format)\u001b[0m\n\u001b[1;32m    991\u001b[0m         \u001b[0mfunc\u001b[0m \u001b[0;34m=\u001b[0m \u001b[0m_UNPACK_FORMATS\u001b[0m\u001b[0;34m[\u001b[0m\u001b[0mformat\u001b[0m\u001b[0;34m]\u001b[0m\u001b[0;34m[\u001b[0m\u001b[0;36m1\u001b[0m\u001b[0;34m]\u001b[0m\u001b[0;34m\u001b[0m\u001b[0m\n\u001b[1;32m    992\u001b[0m         \u001b[0mkwargs\u001b[0m \u001b[0;34m=\u001b[0m \u001b[0mdict\u001b[0m\u001b[0;34m(\u001b[0m\u001b[0m_UNPACK_FORMATS\u001b[0m\u001b[0;34m[\u001b[0m\u001b[0mformat\u001b[0m\u001b[0;34m]\u001b[0m\u001b[0;34m[\u001b[0m\u001b[0;36m2\u001b[0m\u001b[0;34m]\u001b[0m\u001b[0;34m)\u001b[0m\u001b[0;34m\u001b[0m\u001b[0m\n\u001b[0;32m--> 993\u001b[0;31m         \u001b[0mfunc\u001b[0m\u001b[0;34m(\u001b[0m\u001b[0mfilename\u001b[0m\u001b[0;34m,\u001b[0m \u001b[0mextract_dir\u001b[0m\u001b[0;34m,\u001b[0m \u001b[0;34m**\u001b[0m\u001b[0mkwargs\u001b[0m\u001b[0;34m)\u001b[0m\u001b[0;34m\u001b[0m\u001b[0m\n\u001b[0m\u001b[1;32m    994\u001b[0m \u001b[0;34m\u001b[0m\u001b[0m\n\u001b[1;32m    995\u001b[0m \u001b[0;34m\u001b[0m\u001b[0m\n",
      "\u001b[0;32m/anaconda3/lib/python3.7/shutil.py\u001b[0m in \u001b[0;36m_unpack_zipfile\u001b[0;34m(filename, extract_dir)\u001b[0m\n\u001b[1;32m    888\u001b[0m \u001b[0;34m\u001b[0m\u001b[0m\n\u001b[1;32m    889\u001b[0m     \u001b[0;32mif\u001b[0m \u001b[0;32mnot\u001b[0m \u001b[0mzipfile\u001b[0m\u001b[0;34m.\u001b[0m\u001b[0mis_zipfile\u001b[0m\u001b[0;34m(\u001b[0m\u001b[0mfilename\u001b[0m\u001b[0;34m)\u001b[0m\u001b[0;34m:\u001b[0m\u001b[0;34m\u001b[0m\u001b[0m\n\u001b[0;32m--> 890\u001b[0;31m         \u001b[0;32mraise\u001b[0m \u001b[0mReadError\u001b[0m\u001b[0;34m(\u001b[0m\u001b[0;34m\"%s is not a zip file\"\u001b[0m \u001b[0;34m%\u001b[0m \u001b[0mfilename\u001b[0m\u001b[0;34m)\u001b[0m\u001b[0;34m\u001b[0m\u001b[0m\n\u001b[0m\u001b[1;32m    891\u001b[0m \u001b[0;34m\u001b[0m\u001b[0m\n\u001b[1;32m    892\u001b[0m     \u001b[0mzip\u001b[0m \u001b[0;34m=\u001b[0m \u001b[0mzipfile\u001b[0m\u001b[0;34m.\u001b[0m\u001b[0mZipFile\u001b[0m\u001b[0;34m(\u001b[0m\u001b[0mfilename\u001b[0m\u001b[0;34m)\u001b[0m\u001b[0;34m\u001b[0m\u001b[0m\n",
      "\u001b[0;31mReadError\u001b[0m: /Users/yimihaodi/md/python/python/myfile/archive.zip is not a zip file"
     ]
    }
   ],
   "source": [
    "# unpack_archive() 解压缩\n",
    "# 格式 shutil.unpack_archive('归档文件地址','解包之后的文件地址')\n",
    "help(shutil.unpack_archive)\n",
    "s = shutil.unpack_archive('/Users/yimihaodi/md/python/python/myfile/archive.zip','/Users/yimihaodi/md/python/python/myfile')\n",
    "print(s)"
   ]
  },
  {
   "cell_type": "markdown",
   "metadata": {},
   "source": [
    "# zip\n",
    "- 模块名称叫做 zipfile\n"
   ]
  },
  {
   "cell_type": "code",
   "execution_count": 20,
   "metadata": {},
   "outputs": [
    {
     "name": "stdout",
     "output_type": "stream",
     "text": [
      "/Users/yimihaodi/md/python/python/myfile\n",
      "/Users/yimihaodi/md/python/python/myfile\n",
      "/Users/yimihaodi/md/python/python/myfile/zipfile.zip\n",
      "<zipfile.ZipFile filename='/Users/yimihaodi/md/python/python/myfile/zipfile.zip' mode='r'>\n"
     ]
    }
   ],
   "source": [
    "import zipfile\n",
    "# 获取当前路径\n",
    "localpath = os.getcwd()\n",
    "print(localpath)\n",
    "\n",
    "# 更改当前路径\n",
    "nwepath = os.chdir('/Users/yimihaodi/md/python/python/myfile')\n",
    "print(os.getcwd())\n",
    "\n",
    "rst = shutil.make_archive('zipfile','zip','/Users/yimihaodi/md/python/python/myfile')\n",
    "print(rst)\n",
    "# c创建一个ZipFile对象\n",
    "zf = zipfile.ZipFile('/Users/yimihaodi/md/python/python/myfile/zipfile.zip')\n",
    "print(zf)"
   ]
  }
 ],
 "metadata": {
  "kernelspec": {
   "display_name": "Python 3",
   "language": "python",
   "name": "python3"
  },
  "language_info": {
   "codemirror_mode": {
    "name": "ipython",
    "version": 3
   },
   "file_extension": ".py",
   "mimetype": "text/x-python",
   "name": "python",
   "nbconvert_exporter": "python",
   "pygments_lexer": "ipython3",
   "version": "3.7.0"
  }
 },
 "nbformat": 4,
 "nbformat_minor": 2
}
