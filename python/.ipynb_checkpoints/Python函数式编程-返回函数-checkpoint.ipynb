{
 "cells": [
  {
   "cell_type": "markdown",
   "metadata": {},
   "source": [
    "# 返回函数\n",
    "- 函数可以返回一个具体值\n",
    "- 也可以返回一个函数"
   ]
  },
  {
   "cell_type": "code",
   "execution_count": 1,
   "metadata": {},
   "outputs": [],
   "source": [
    "# 定义一个普通函数\n",
    "def myF():\n",
    "    print('my function')\n",
    "    return None\n"
   ]
  },
  {
   "cell_type": "code",
   "execution_count": 3,
   "metadata": {},
   "outputs": [
    {
     "name": "stdout",
     "output_type": "stream",
     "text": [
      "my function\n",
      "None\n"
     ]
    }
   ],
   "source": [
    "a = myF()\n",
    "print(a)"
   ]
  },
  {
   "cell_type": "code",
   "execution_count": 6,
   "metadata": {},
   "outputs": [
    {
     "name": "stdout",
     "output_type": "stream",
     "text": [
      "<function bak.<locals>.cal at 0x103893f28>\n",
      "<class 'function'>\n",
      "w我是返回函数\n"
     ]
    },
    {
     "data": {
      "text/plain": [
       "3"
      ]
     },
     "execution_count": 6,
     "metadata": {},
     "output_type": "execute_result"
    }
   ],
   "source": [
    "# 函数作为返回值返回,返回函数在函数内定义\n",
    "\n",
    "def bak():\n",
    "    def cal():\n",
    "        print('w我是返回函数')\n",
    "        return 3\n",
    "    return cal\n",
    "\n",
    "f = bak()\n",
    "print(f)\n",
    "print(type(f))\n",
    "f()"
   ]
  },
  {
   "cell_type": "code",
   "execution_count": 10,
   "metadata": {},
   "outputs": [
    {
     "name": "stdout",
     "output_type": "stream",
     "text": [
      "21\n"
     ]
    }
   ],
   "source": [
    "# 复杂一点返回函数栗子\n",
    "# args 参数列表\n",
    "def myF(*args):\n",
    "    def myF1():\n",
    "        rst = 0\n",
    "        for i in args:\n",
    "            rst += i\n",
    "        return rst\n",
    "    return myF1\n",
    "\n",
    "# 调用myF的时候已经确定了参数\n",
    "# 赋值给f5 参数已经保存\n",
    "f5 = myF(1,2,3,4,5,6)\n",
    "\n",
    "# 调用f5的时候就不需要参数了,参数已经存在\n",
    "print(f5())"
   ]
  },
  {
   "cell_type": "markdown",
   "metadata": {},
   "source": [
    "# 闭包 closure\n",
    "- 注意到返回的函数在其定义内部引用了局部变量args，所以，当一个函数返回了一个函数后，其内部的局部变量还被新函数引用，所以，闭包用起来简单，实现起来可不容易。"
   ]
  },
  {
   "cell_type": "code",
   "execution_count": 14,
   "metadata": {},
   "outputs": [
    {
     "name": "stdout",
     "output_type": "stream",
     "text": [
      "9\n",
      "9\n",
      "9\n"
     ]
    }
   ],
   "source": [
    "# 闭包经典栗子\n",
    "\n",
    "def count():\n",
    "    fs = []\n",
    "    for i in range(1,4):\n",
    "        def f():\n",
    "            return i*i\n",
    "        fs.append(f)\n",
    "    return fs\n",
    "\n",
    "# 我们想要得到每次循环执行的结果\n",
    "# 可是与预期不太一样啊\n",
    "# 全部都是9！原因就在于返回的函数引用了变量i，但它并非立刻执行。等到3个函数都返回时，它们所引用的变量i已经变成了3，因此最终结果为9。\n",
    "\n",
    "f1,f2,f3 = count()\n",
    "print(f1())\n",
    "print(f2())\n",
    "print(f3())"
   ]
  },
  {
   "cell_type": "code",
   "execution_count": 16,
   "metadata": {},
   "outputs": [
    {
     "name": "stdout",
     "output_type": "stream",
     "text": [
      "1\n",
      "4\n",
      "9\n"
     ]
    }
   ],
   "source": [
    "# 我们修改一下代码\n",
    "# 使结果与我们预期的一样\n",
    "# 再创建一个函数，用该函数的参数绑定循环变量当前的值，无论该循环变量后续如何更改，已绑定到函数参数的值不变\n",
    "def count():\n",
    "    def f(n):\n",
    "        def g():\n",
    "            return n*n\n",
    "        return g\n",
    "    fs = []    \n",
    "    for i in range(1,4):\n",
    "        fs.append(f(i))\n",
    "    return fs\n",
    "\n",
    "f1,f2,f3 = count()\n",
    "print(f1())\n",
    "print(f2())\n",
    "print(f3())"
   ]
  }
 ],
 "metadata": {
  "kernelspec": {
   "display_name": "Python 3",
   "language": "python",
   "name": "python3"
  },
  "language_info": {
   "codemirror_mode": {
    "name": "ipython",
    "version": 3
   },
   "file_extension": ".py",
   "mimetype": "text/x-python",
   "name": "python",
   "nbconvert_exporter": "python",
   "pygments_lexer": "ipython3",
   "version": "3.7.0"
  }
 },
 "nbformat": 4,
 "nbformat_minor": 2
}
