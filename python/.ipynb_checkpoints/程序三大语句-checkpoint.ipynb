{
 "cells": [
  {
   "cell_type": "markdown",
   "metadata": {},
   "source": [
    "# 程序运行三大结构\n",
    "- 顺序结构\n",
    "- 分支结构\n",
    "- 循环结构"
   ]
  },
  {
   "cell_type": "markdown",
   "metadata": {},
   "source": [
    "## 顺序结构\n",
    "    - 程序从上而下顺序运行\n",
    "    - 没啥好BB的,显而易见从上到下"
   ]
  },
  {
   "cell_type": "code",
   "execution_count": 4,
   "metadata": {},
   "outputs": [
    {
     "name": "stdout",
     "output_type": "stream",
     "text": [
      "第一个\n",
      "第二个\n",
      "第三个\n"
     ]
    }
   ],
   "source": [
    "print('第一个')\n",
    "print('第二个')\n",
    "print('第三个')"
   ]
  },
  {
   "cell_type": "markdown",
   "metadata": {},
   "source": [
    "## 分支结构\n",
    "- 语法结构\n",
    "        if 条件语句:\n",
    "            语句1\n",
    "            语句2\n",
    "            ..."
   ]
  },
  {
   "cell_type": "code",
   "execution_count": 8,
   "metadata": {},
   "outputs": [
    {
     "name": "stdout",
     "output_type": "stream",
     "text": [
      "请输入年龄:19\n",
      "你输入的是:19\n",
      "小妹18咯\n",
      "可以开车了\n"
     ]
    }
   ],
   "source": [
    "gender = input('请输入年龄:')\n",
    "print('你输入的是:{0}'.format(gender))\n",
    "gender = int(gender)\n",
    "if gender > 18:\n",
    "    print('小妹18咯')\n",
    "print('可以开车了')"
   ]
  },
  {
   "cell_type": "markdown",
   "metadata": {},
   "source": [
    "### 双路分支\n",
    "- 语法结构\n",
    "\n",
    "        if 条件语句:\n",
    "            语句1\n",
    "            语句2\n",
    "            ...\n",
    "        else:\n",
    "            语句1\n",
    "            语句2\n",
    "            ..."
   ]
  },
  {
   "cell_type": "code",
   "execution_count": null,
   "metadata": {},
   "outputs": [],
   "source": [
    "gender = input('请输入年龄:')\n",
    "print('你输入的是:{0}'.format(gender))\n",
    "gender = int(gender)\n",
    "if gender > 18:\n",
    "    print('小妹18咯')\n",
    "else:\n",
    "    print('未满十八岁不能上')"
   ]
  },
  {
   "cell_type": "markdown",
   "metadata": {},
   "source": [
    "### 多路分支\n",
    "- 语法结构\n",
    "\n",
    "        if 条件语句:\n",
    "            语句1\n",
    "            语句2\n",
    "            ...\n",
    "        elif 条件语句:\n",
    "            语句1\n",
    "            语句2\n",
    "            ...\n",
    "        elif 条件语句:\n",
    "            语句1\n",
    "            语句2\n",
    "            ...\n",
    "        else:\n",
    "            语句1\n",
    "            语句2\n",
    "            ..."
   ]
  },
  {
   "cell_type": "code",
   "execution_count": 6,
   "metadata": {},
   "outputs": [
    {
     "name": "stdout",
     "output_type": "stream",
     "text": [
      "请输入学生成绩59\n",
      "学生成绩为:59\n",
      "有点闹啊!是猪吗\n"
     ]
    }
   ],
   "source": [
    "#经典的学生成绩来搞一搞吧\n",
    "result = input('请输入学生成绩')\n",
    "print('学生成绩为:{0}'.format(result))\n",
    "result = int(result)\n",
    "if result > 90:\n",
    "    print('牛逼咯')\n",
    "elif result >= 80:\n",
    "    print('有点稳')\n",
    "elif result >= 70:\n",
    "    print('小心咯')\n",
    "elif result >= 60:\n",
    "    print('有点悬')\n",
    "else:\n",
    "    print('有点闹啊!是猪吗')"
   ]
  },
  {
   "cell_type": "markdown",
   "metadata": {},
   "source": [
    "## 循环语句\n",
    "- 能够重复执行的动作或者固定的事物\n",
    "- 分类有哪些\n",
    "    - for循环语句\n",
    "    - while循环语句"
   ]
  },
  {
   "cell_type": "markdown",
   "metadata": {},
   "source": [
    "### for循环语句\n",
    "- 语法结构\n",
    "    \n",
    "        for 变量 in 序列:\n",
    "            语句1\n",
    "            语句2\n",
    "            ..."
   ]
  },
  {
   "cell_type": "code",
   "execution_count": 7,
   "metadata": {},
   "outputs": [
    {
     "name": "stdout",
     "output_type": "stream",
     "text": [
      "张三\n",
      "李四\n",
      "王五\n"
     ]
    }
   ],
   "source": [
    "#列表 : 是一列数字或者其他值,一般使用中括号表示\n",
    "# 例如['张三','李四','王五',]\n",
    "for name in ['张三','李四','王五',]:\n",
    "    print(name)"
   ]
  },
  {
   "cell_type": "code",
   "execution_count": 9,
   "metadata": {},
   "outputs": [
    {
     "name": "stdout",
     "output_type": "stream",
     "text": [
      "张三\n",
      "你不是最后一个\n",
      "李四\n",
      "你不是最后一个\n",
      "王五\n",
      "最后名字:王五\n"
     ]
    }
   ],
   "source": [
    "#列表 : 是一列数字或者其他值,一般使用中括号表示\n",
    "# 例如['张三','李四','王五',]\n",
    "for name in ['张三','李四','王五',]:\n",
    "    print(name)\n",
    "    if name == '王五':\n",
    "        print('最后名字:{0}'.format(name))\n",
    "    else:\n",
    "        print('你不是最后一个')"
   ]
  },
  {
   "cell_type": "markdown",
   "metadata": {},
   "source": [
    "### range介绍\n",
    "- 生成一个数字序列\n",
    "- 具体范围可以设定"
   ]
  },
  {
   "cell_type": "code",
   "execution_count": 16,
   "metadata": {},
   "outputs": [
    {
     "name": "stdout",
     "output_type": "stream",
     "text": [
      "1\n",
      "2\n",
      "3\n",
      "4\n",
      "5\n",
      "6\n",
      "7\n",
      "8\n",
      "9\n"
     ]
    }
   ],
   "source": [
    "#打印从一到十的数字\n",
    "# range 表示数字范围用两个数子表示 左边是包含在内 右边不包括\n",
    "# range 在Python2与Python3中有区别,这里只关心3滴\n",
    "for i in range(1,10):\n",
    "    print(i)"
   ]
  },
  {
   "cell_type": "markdown",
   "metadata": {},
   "source": [
    "### for-else语句\n",
    "- for循环结束的时候会执行else语句\n",
    "- else语句可以没有,可选\n",
    "- 基本不太用的,这种不太简洁"
   ]
  },
  {
   "cell_type": "code",
   "execution_count": 18,
   "metadata": {},
   "outputs": [
    {
     "name": "stdout",
     "output_type": "stream",
     "text": [
      "你不是最后一个\n",
      "你不是最后一个\n",
      "最后名字:王五\n",
      "报警\n"
     ]
    }
   ],
   "source": [
    "# 打印列表中数字\n",
    "# 如果不在的话就报警\n",
    "for name in ['张三','李四','王五',]:\n",
    "    if name == '王五':\n",
    "        print('最后名字:{0}'.format(name))\n",
    "    else:\n",
    "        print('你不是最后一个')\n",
    "else:\n",
    "    print('报警')"
   ]
  },
  {
   "cell_type": "markdown",
   "metadata": {},
   "source": [
    "### for 循环里面的break,continue,pass\n",
    "- break:无条件的结束整个循环\n",
    "- continue : 无条件结束本次循环,并进入下一次循环\n",
    "- pass: 表示略过"
   ]
  },
  {
   "cell_type": "code",
   "execution_count": 29,
   "metadata": {},
   "outputs": [
    {
     "name": "stdout",
     "output_type": "stream",
     "text": [
      "1\n",
      "2\n",
      "3\n",
      "4\n",
      "5\n",
      "6\n",
      "终于找到你\n"
     ]
    }
   ],
   "source": [
    "# 在数字1-10找数字7 ,找到后不要在往下走 break\n",
    "for i in range(1,11):\n",
    "    if i == 7:\n",
    "        print('终于找到你')\n",
    "        break\n",
    "    else:\n",
    "        print(i)"
   ]
  },
  {
   "cell_type": "code",
   "execution_count": 34,
   "metadata": {},
   "outputs": [
    {
     "name": "stdout",
     "output_type": "stream",
     "text": [
      "我是奇数1\n",
      "2\n",
      "我是奇数3\n",
      "4\n",
      "我是奇数5\n",
      "6\n",
      "我是奇数7\n",
      "8\n",
      "我是奇数9\n",
      "10\n"
     ]
    }
   ],
   "source": [
    "# 在数字1-10找所有偶数\n",
    "for i in range(1,11):\n",
    "    if i%2 == 0:\n",
    "        print(i)\n",
    "        continue\n",
    "    print('我是奇数{0}'.format(i))"
   ]
  },
  {
   "cell_type": "code",
   "execution_count": 38,
   "metadata": {},
   "outputs": [
    {
     "name": "stdout",
     "output_type": "stream",
     "text": [
      "占位\n",
      "占位\n",
      "占位\n",
      "占位\n",
      "占位\n",
      "占位\n",
      "占位\n",
      "占位\n",
      "占位\n",
      "占位\n"
     ]
    }
   ],
   "source": [
    "# pass 一般用于占位\n",
    "for i in range(1,11):\n",
    "    pass\n",
    "    print('占位')"
   ]
  },
  {
   "cell_type": "markdown",
   "metadata": {},
   "source": [
    "## while循环\n",
    "- 一个循环语句啊\n",
    "- 当一个条件成立时开始循环\n",
    "- 并不知道循环次数,只知道符合条件就循环\n",
    "- while语句语法结构\n",
    "\n",
    "        while 条件表达式:\n",
    "            语句块\n",
    "        else:\n",
    "            语句块"
   ]
  },
  {
   "cell_type": "code",
   "execution_count": 46,
   "metadata": {},
   "outputs": [
    {
     "name": "stdout",
     "output_type": "stream",
     "text": [
      "第1年拿了106700.0钱\n",
      "第2年拿了113848.9钱\n",
      "第3年拿了121476.77629999998钱\n",
      "第4年拿了129615.72031209998钱\n",
      "第5年拿了138299.97357301068钱\n",
      "第6年拿了147566.07180240238钱\n",
      "第7年拿了157452.99861316333钱\n",
      "第8年拿了168002.34952024528钱\n",
      "第9年拿了179258.5069381017钱\n",
      "第10年拿了191268.8269029545钱\n",
      "第11年拿了204083.83830545243钱\n"
     ]
    }
   ],
   "source": [
    "#如果说当年利率是6.7%,本利是收入总和,计算多少年后本钱会翻倍\n",
    "benqian = 100000\n",
    "year = 0\n",
    "while benqian < 200000:\n",
    "    benqian = benqian*(1+0.067)\n",
    "    year += 1 #year = year+1\n",
    "    print('第{0}年拿了{1}钱'.format(year,benqian))"
   ]
  },
  {
   "cell_type": "code",
   "execution_count": 47,
   "metadata": {},
   "outputs": [
    {
     "name": "stdout",
     "output_type": "stream",
     "text": [
      "第1年拿了106700.0钱\n",
      "第2年拿了113848.9钱\n",
      "第3年拿了121476.77629999998钱\n",
      "第4年拿了129615.72031209998钱\n",
      "第5年拿了138299.97357301068钱\n",
      "第6年拿了147566.07180240238钱\n",
      "第7年拿了157452.99861316333钱\n",
      "第8年拿了168002.34952024528钱\n",
      "第9年拿了179258.5069381017钱\n",
      "第10年拿了191268.8269029545钱\n",
      "第11年拿了204083.83830545243钱\n",
      "搜得是内,老子的前终于翻倍了\n"
     ]
    }
   ],
   "source": [
    "#如果说当年利率是6.7%,本利是收入总和,计算多少年后本钱会翻倍\n",
    "#如果翻倍了就庆祝一下下\n",
    "benqian = 100000\n",
    "year = 0\n",
    "while benqian < 200000:\n",
    "    benqian = benqian*(1+0.067)\n",
    "    year += 1 #year = year+1\n",
    "    print('第{0}年拿了{1}钱'.format(year,benqian))\n",
    "else:\n",
    "    print('搜得是内,老子的钱终于翻倍了')"
   ]
  }
 ],
 "metadata": {
  "kernelspec": {
   "display_name": "Python 3",
   "language": "python",
   "name": "python3"
  },
  "language_info": {
   "codemirror_mode": {
    "name": "ipython",
    "version": 3
   },
   "file_extension": ".py",
   "mimetype": "text/x-python",
   "name": "python",
   "nbconvert_exporter": "python",
   "pygments_lexer": "ipython3",
   "version": "3.7.0"
  }
 },
 "nbformat": 4,
 "nbformat_minor": 2
}
