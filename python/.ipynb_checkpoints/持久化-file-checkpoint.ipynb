{
 "cells": [
  {
   "cell_type": "markdown",
   "metadata": {},
   "source": [
    "# file文件操作相关\n",
    "- 长久保存一中数据信息集合\n",
    "- 常用操作\n",
    "    - 打开关闭(文件一旦打开,必须关闭)\n",
    "    - 读取内容\n",
    "    - 写内容\n",
    "    - 查找内容"
   ]
  },
  {
   "cell_type": "code",
   "execution_count": 4,
   "metadata": {},
   "outputs": [
    {
     "name": "stdout",
     "output_type": "stream",
     "text": [
      "/Users/yimihaodi/md/python/python\n"
     ]
    }
   ],
   "source": [
    "import os\n",
    "print(os.getcwd())"
   ]
  },
  {
   "cell_type": "code",
   "execution_count": 5,
   "metadata": {},
   "outputs": [
    {
     "data": {
      "text/plain": [
       "'\\n    r:以只读方式\\n    w:写方式打开,覆盖原内容 \\n    x:创建方式打开,文件存在会报错\\n    a:append方式,已追加方式写入内容\\n    b:binary方式 以二进制方式写入\\n    t:文本方式打开\\n    +: 可读写\\n'"
      ]
     },
     "execution_count": 5,
     "metadata": {},
     "output_type": "execute_result"
    }
   ],
   "source": [
    "# open函数\n",
    "# 负责打开文件\n",
    "# 第一个参数:必须有 文件路径和名称\n",
    "# mode: 打开方式 \n",
    "'''\n",
    "    r:以只读方式\n",
    "    w:写方式打开,覆盖原内容 \n",
    "    x:创建方式打开,文件存在会报错\n",
    "    a:append方式,已追加方式写入内容\n",
    "    b:binary方式 以二进制方式写入\n",
    "    t:文本方式打开\n",
    "    +: 可读写\n",
    "'''\n"
   ]
  },
  {
   "cell_type": "code",
   "execution_count": 7,
   "metadata": {},
   "outputs": [],
   "source": [
    "# 打开一个文件\n",
    "t = open(r'copy.txt', 'w')\n",
    "# 关闭一个文件\n",
    "t.close()\n",
    "# 用写方式打开文件,没有的话会进行创建"
   ]
  },
  {
   "cell_type": "code",
   "execution_count": 1,
   "metadata": {},
   "outputs": [
    {
     "name": "stdout",
     "output_type": "stream",
     "text": [
      "生活不止有苟且\n",
      "\n",
      "还有远方的苟且\n"
     ]
    }
   ],
   "source": [
    "# 使用一个with语句我们就不用考虑关闭文件\n",
    "# 使用上下文技术 系统来给你判断关闭\n",
    "with open(r'copy.txt', 'r') as f:\n",
    "    # 开始操作文件咯\n",
    "    # 按行读取内容 \n",
    "    strLine = f.readline()\n",
    "    # 使用while能够知道完整读取结果\n",
    "    while strLine:\n",
    "        print(strLine)\n",
    "        strLine = f.readline()"
   ]
  },
  {
   "cell_type": "code",
   "execution_count": 3,
   "metadata": {},
   "outputs": [
    {
     "name": "stdout",
     "output_type": "stream",
     "text": [
      "生活不止有苟且\n",
      "\n",
      "还有远方的苟且\n"
     ]
    }
   ],
   "source": [
    "# 一次性全部读取内容\n",
    "with open(r'copy.txt', 'r') as f:\n",
    "    l = list(f)\n",
    "    for line in l:\n",
    "        print(line)"
   ]
  },
  {
   "cell_type": "code",
   "execution_count": 10,
   "metadata": {},
   "outputs": [
    {
     "name": "stdout",
     "output_type": "stream",
     "text": [
      "生\n",
      "活\n",
      "不\n",
      "止\n",
      "有\n",
      "苟\n",
      "且\n",
      "\n",
      "\n",
      "还\n",
      "有\n",
      "远\n",
      "方\n",
      "的\n",
      "苟\n",
      "且\n",
      "\n"
     ]
    }
   ],
   "source": [
    "# read 按字符读取\n",
    "# 可以一个一个读,也可以有参数怎么读\n",
    "with open(r'copy.txt', 'r') as f:\n",
    "    strChar = f.read(1)\n",
    "    print(strChar)\n",
    "    while strChar:\n",
    "        strChar = f.read(1)\n",
    "        print(strChar)"
   ]
  },
  {
   "cell_type": "markdown",
   "metadata": {},
   "source": [
    "# seek(offset, from)\n",
    "- 移动文件的读取位置,也叫读取指针\n",
    "- from 读取的范围\n",
    "    - 0 : 从文件头开始偏移\n",
    "    - 1 : 从文件当前位置偏移\n",
    "    - 2 : 从文件末尾位置\n",
    "    \n",
    "- byte"
   ]
  },
  {
   "cell_type": "code",
   "execution_count": 13,
   "metadata": {},
   "outputs": [
    {
     "name": "stdout",
     "output_type": "stream",
     "text": [
      "活不止有苟且\n",
      "还有远方的苟且\n"
     ]
    }
   ],
   "source": [
    "# seek栗子\n",
    "with open(r'copy.txt', 'r') as f:\n",
    "    f.seek(3,0)\n",
    "    strbt = f.read()\n",
    "    print(strbt)"
   ]
  },
  {
   "cell_type": "code",
   "execution_count": 16,
   "metadata": {},
   "outputs": [
    {
     "name": "stdout",
     "output_type": "stream",
     "text": [
      "生活不\n",
      "止有苟\n",
      "且\n",
      "还\n",
      "有远方\n",
      "的苟且\n"
     ]
    }
   ],
   "source": [
    "# 读取文件\n",
    "# 打开文件 三个字符一组读出来\n",
    "# 读取一次休息一秒\n",
    "import time\n",
    "with open(r'copy.txt', 'r') as f:\n",
    "    strs = f.read(3)\n",
    "    while strs:\n",
    "        print(strs)\n",
    "        strs = f.read(3)\n",
    "        time.sleep(1)"
   ]
  },
  {
   "cell_type": "code",
   "execution_count": 18,
   "metadata": {},
   "outputs": [
    {
     "name": "stdout",
     "output_type": "stream",
     "text": [
      "生活不 9\n",
      "止有苟 18\n",
      "且\n",
      "还 25\n",
      "有远方 34\n",
      "的苟且 43\n"
     ]
    }
   ],
   "source": [
    "# tell 函数,显示读取当前位置的指针\n",
    "# tell 返回数字 ,是以byte 为单位\n",
    "# read是以字符问单位\n",
    "with open(r'copy.txt', 'r') as f:\n",
    "    strs = f.read(3)\n",
    "    pos = f.tell()\n",
    "    while strs:\n",
    "        print(strs,pos)\n",
    "        strs = f.read(3)\n",
    "        pos = f.tell()"
   ]
  },
  {
   "cell_type": "markdown",
   "metadata": {},
   "source": [
    "# write写文件操作\n",
    "- write(str) 把字符串写入\n",
    "- writelines(str) 按行写入文件\n",
    "    - 区别\n",
    "    - write 函数参数只能是字符串\n",
    "    - writelines 函数参数不只是字符串可以是字符串序列"
   ]
  },
  {
   "cell_type": "code",
   "execution_count": 21,
   "metadata": {},
   "outputs": [],
   "source": [
    "# 把字符串写入\n",
    "with open(r'copy.txt', 'a') as f:\n",
    "    f.write('假若他日相见, \\n我将何以相见')\n",
    "    "
   ]
  },
  {
   "cell_type": "code",
   "execution_count": 24,
   "metadata": {},
   "outputs": [],
   "source": [
    "# 按行写入\n",
    "with open(r'copy.txt', 'a') as f:\n",
    "    f.writelines('假若他日相见')\n",
    "    f.writelines('我将何以相见aaa')\n",
    "    "
   ]
  },
  {
   "cell_type": "code",
   "execution_count": 27,
   "metadata": {},
   "outputs": [],
   "source": [
    "# 写入一个字符串序列\n",
    "l = ['你好', '老表', '最近好吗']\n",
    "with open(r'copy.txt', 'a') as f:\n",
    "    f.writelines(l)"
   ]
  },
  {
   "cell_type": "markdown",
   "metadata": {},
   "source": [
    "# 序列化 - 持久化 -pickle\n",
    "- 序列化(持久化,落地) : 把程序中的信息保存在磁盘上\n",
    "- 反序列化 序列化的逆行过程\n",
    "- pickle: Python提供的序列化模块\n",
    "- pickle.dump 序列化\n",
    "- pickle.load 反序列化"
   ]
  },
  {
   "cell_type": "code",
   "execution_count": 34,
   "metadata": {},
   "outputs": [],
   "source": [
    "# 把序列化东西存入文件\n",
    "# 生成文件使用内存存储\n",
    "import pickle\n",
    "age = 19\n",
    "with open(r'copy1.txt', 'wb') as f:\n",
    "    pickle.dump(age, f)"
   ]
  },
  {
   "cell_type": "code",
   "execution_count": 36,
   "metadata": {},
   "outputs": [
    {
     "name": "stdout",
     "output_type": "stream",
     "text": [
      "19\n"
     ]
    }
   ],
   "source": [
    "# 反序列化\n",
    "with open(r'copy1.txt', 'rb') as f:\n",
    "    age = pickle.load(f)\n",
    "    print(age)"
   ]
  },
  {
   "cell_type": "code",
   "execution_count": 39,
   "metadata": {},
   "outputs": [
    {
     "name": "stdout",
     "output_type": "stream",
     "text": [
      "['ss', 'dd', {'one': 1, 'two': 2}]\n"
     ]
    }
   ],
   "source": [
    "# 复杂型序列存入\n",
    "l = ['ss', 'dd',{\"one\":1, 'two':2}]\n",
    "with open(r'copy1.txt', 'wb') as f:\n",
    "    pickle.dump(l,f)\n",
    "\n",
    "with open(r'copy1.txt', 'rb') as f:\n",
    "    a = pickle.load(f)\n",
    "    print(a)"
   ]
  },
  {
   "cell_type": "markdown",
   "metadata": {},
   "source": [
    "# 持久化工具 shelve\n",
    "- 持久化工具\n",
    "- 类似字典, 使用kv对进行保存, 存取方式类似字典\n",
    "- open close"
   ]
  },
  {
   "cell_type": "code",
   "execution_count": 50,
   "metadata": {},
   "outputs": [],
   "source": [
    "# shelve\n",
    "import shelve\n",
    "shv = shelve.open(r'shv1')\n",
    "shv['one'] = 1\n",
    "shv['two'] = 2\n",
    "shv['three'] = 3\n",
    "\n",
    "shv.close()"
   ]
  },
  {
   "cell_type": "code",
   "execution_count": 55,
   "metadata": {},
   "outputs": [
    {
     "name": "stdout",
     "output_type": "stream",
     "text": [
      "1\n",
      "2\n",
      "b'threee'\n"
     ]
    }
   ],
   "source": [
    "# with open(r'shv1.db', 'r') as f:\n",
    "#     print(f['one'])\n",
    "shv = shelve.open(r'shv1')\n",
    "try:\n",
    "    print(shv['one'])\n",
    "    print(shv['two'])\n",
    "    print(shv['threee'])\n",
    "except Exception as e:\n",
    "    print(e)\n",
    "finally:\n",
    "    shv.close()"
   ]
  },
  {
   "cell_type": "markdown",
   "metadata": {},
   "source": [
    "# shelve 特性\n",
    "- 不支持多个应用同时写入\n",
    "    - 解决问题 open的时候 flag=r\n",
    "- 写回问题\n",
    "    - shelve默认情况下不会对持久化对象进行修改\n",
    "    - 强制写回: writeback = True\n",
    "    "
   ]
  },
  {
   "cell_type": "code",
   "execution_count": 58,
   "metadata": {},
   "outputs": [
    {
     "name": "stdout",
     "output_type": "stream",
     "text": [
      "{'eins': 1, 'zwei': 2, 'drei': 3}\n"
     ]
    }
   ],
   "source": [
    "# 写入一个复杂结构\n",
    "shv = shelve.open(r'shv2.db')\n",
    "try:\n",
    "    shv['one'] = {'eins':1,'zwei':2,'drei':3}\n",
    "finally:\n",
    "    shv.close()\n",
    "    \n",
    "shv = shelve.open(r'shv2.db')\n",
    "try:\n",
    "    one = shv['one']\n",
    "    print(one)\n",
    "finally:\n",
    "    shv.close()"
   ]
  },
  {
   "cell_type": "code",
   "execution_count": null,
   "metadata": {},
   "outputs": [],
   "source": [
    "# 看下写回问题,如果不加writeback = True"
   ]
  }
 ],
 "metadata": {
  "kernelspec": {
   "display_name": "Python 3",
   "language": "python",
   "name": "python3"
  },
  "language_info": {
   "codemirror_mode": {
    "name": "ipython",
    "version": 3
   },
   "file_extension": ".py",
   "mimetype": "text/x-python",
   "name": "python",
   "nbconvert_exporter": "python",
   "pygments_lexer": "ipython3",
   "version": "3.7.0"
  }
 },
 "nbformat": 4,
 "nbformat_minor": 2
}
