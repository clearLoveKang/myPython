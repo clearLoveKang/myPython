{
 "cells": [
  {
   "cell_type": "markdown",
   "metadata": {},
   "source": [
    "# 函数\n",
    "- 代码的一种组织方式\n",
    "- 一个函数完成一项特定的功能\n",
    "- 一个函数不要太多,以我的尿性能少就少,绝不多写\n",
    "- 函数的使用\n",
    "    - 函数需要先定义\n",
    "    - 使用写好的函数--调用"
   ]
  },
  {
   "cell_type": "code",
   "execution_count": 3,
   "metadata": {},
   "outputs": [
    {
     "name": "stdout",
     "output_type": "stream",
     "text": [
      "这就是一个函数\n",
      "然后完特定功能\n",
      "最后就结束了\n"
     ]
    }
   ],
   "source": [
    "# 定义一个函数\n",
    "# 明确规定不要使用大驼峰,小驼峰就OK,大驼峰是给类命名的\n",
    "def func():\n",
    "    print('这就是一个函数')\n",
    "    print('然后完特定功能')\n",
    "    print('最后就结束了')\n",
    "func()"
   ]
  },
  {
   "cell_type": "markdown",
   "metadata": {},
   "source": [
    "## 函数的参数和返回值\n",
    "- 参数:负责给函数传递一些数据或者信息\n",
    "    - 实参:函数调用时传入的参数\n",
    "    - 形参:函数执行时接收函数的一个占位符\n",
    "- 返回值:函数的执行结果\n",
    "    - 函数执行完毕后给咱一个结果\n",
    "    - return 巴拉巴拉\n",
    "    - 返回东西不是必须的 如果没有return 会返回个None\n",
    "    - return只要执行之后的语句不会执行"
   ]
  },
  {
   "cell_type": "code",
   "execution_count": 8,
   "metadata": {},
   "outputs": [
    {
     "name": "stdout",
     "output_type": "stream",
     "text": [
      "kangkang,你怎么啦哟\n",
      "Sir,你好屌啊\n",
      "你看!最屌的还是kangkang\n"
     ]
    }
   ],
   "source": [
    "#参数的定义参数的使用\n",
    "def hello(person):\n",
    "    print('{0},你怎么啦哟'.format(person))\n",
    "    print('Sir,你好屌啊')\n",
    "    return '你看!最屌的还是{0}'.format(person)\n",
    "p = 'kangkang'\n",
    "str = hello(p)\n",
    "print(str)"
   ]
  },
  {
   "cell_type": "code",
   "execution_count": 16,
   "metadata": {},
   "outputs": [
    {
     "name": "stdout",
     "output_type": "stream",
     "text": [
      "kangkang,你怎么啦哟\n",
      "哈哈无条件结束\n"
     ]
    }
   ],
   "source": [
    "#return的例子咯\n",
    "def hello(person):\n",
    "    print('{0},你怎么啦哟'.format(person))\n",
    "    return '哈哈无条件结束'\n",
    "    print('Sir,你好屌啊')\n",
    "    return '你看!最屌的还是{0}'.format(person)\n",
    "p = 'kangkang'\n",
    "str = hello(p)\n",
    "print(str)\n",
    "    "
   ]
  },
  {
   "cell_type": "code",
   "execution_count": 17,
   "metadata": {},
   "outputs": [
    {
     "name": "stdout",
     "output_type": "stream",
     "text": [
      "Help on built-in function print in module builtins:\n",
      "\n",
      "print(...)\n",
      "    print(value, ..., sep=' ', end='\\n', file=sys.stdout, flush=False)\n",
      "    \n",
      "    Prints the values to a stream, or to sys.stdout by default.\n",
      "    Optional keyword arguments:\n",
      "    file:  a file-like object (stream); defaults to the current sys.stdout.\n",
      "    sep:   string inserted between values, default a space.\n",
      "    end:   string appended after the last value, default a newline.\n",
      "    flush: whether to forcibly flush the stream.\n",
      "\n"
     ]
    }
   ],
   "source": [
    "#查找函数帮助文档\n",
    "# 有一个方法 help函数\n",
    "help(print)"
   ]
  },
  {
   "cell_type": "code",
   "execution_count": 30,
   "metadata": {},
   "outputs": [
    {
     "name": "stdout",
     "output_type": "stream",
     "text": [
      "1*1=1 \n",
      "2*1=2 2*2=4 \n",
      "3*1=3 3*2=6 3*3=9 \n",
      "4*1=4 4*2=8 4*3=12 4*4=16 \n",
      "5*1=5 5*2=10 5*3=15 5*4=20 5*5=25 \n",
      "6*1=6 6*2=12 6*3=18 6*4=24 6*5=30 6*6=36 \n",
      "7*1=7 7*2=14 7*3=21 7*4=28 7*5=35 7*6=42 7*7=49 \n",
      "8*1=8 8*2=16 8*3=24 8*4=32 8*5=40 8*6=48 8*7=56 8*8=64 \n",
      "9*1=9 9*2=18 9*3=27 9*4=36 9*5=45 9*6=54 9*7=63 9*8=72 9*9=81 \n"
     ]
    }
   ],
   "source": [
    "# 九九乘法表咯\n",
    "for row in range(1,10):\n",
    "#     print('{0}... line'.format(row))\n",
    "    for col in range(1,row+1):\n",
    "        #print函数默认任务完成才执行换行/\n",
    "        print('{0}*{1}={2} '.format(row,col,row*col),end = '')\n",
    "    print('')"
   ]
  },
  {
   "cell_type": "code",
   "execution_count": 32,
   "metadata": {},
   "outputs": [
    {
     "name": "stdout",
     "output_type": "stream",
     "text": [
      "1*1=1 \n",
      "2*1=2 2*2=4 \n",
      "3*1=3 3*2=6 3*3=9 \n",
      "4*1=4 4*2=8 4*3=12 4*4=16 \n",
      "5*1=5 5*2=10 5*3=15 5*4=20 5*5=25 \n",
      "6*1=6 6*2=12 6*3=18 6*4=24 6*5=30 6*6=36 \n",
      "7*1=7 7*2=14 7*3=21 7*4=28 7*5=35 7*6=42 7*7=49 \n",
      "8*1=8 8*2=16 8*3=24 8*4=32 8*5=40 8*6=48 8*7=56 8*8=64 \n",
      "9*1=9 9*2=18 9*3=27 9*4=36 9*5=45 9*6=54 9*7=63 9*8=72 9*9=81 \n"
     ]
    }
   ],
   "source": [
    "# 九九乘法表咯\n",
    "def printCol(r):\n",
    "     for col in range(1,r+1):\n",
    "        #print函数默认任务完成才执行换行/\n",
    "        print('{0}*{1}={2} '.format(row,col,row*col),end = '')\n",
    "for row in range(1,10):\n",
    "#     print('{0}... line'.format(row))\n",
    "    printCol(row)\n",
    "    print('')"
   ]
  },
  {
   "cell_type": "code",
   "execution_count": 38,
   "metadata": {},
   "outputs": [
    {
     "name": "stdout",
     "output_type": "stream",
     "text": [
      "1*9=9 2*9=18 3*9=27 4*9=36 5*9=45 6*9=54 7*9=63 8*9=72 9*9=81 \n",
      "1*8=8 2*8=16 3*8=24 4*8=32 5*8=40 6*8=48 7*8=56 8*8=64 \n",
      "1*7=7 2*7=14 3*7=21 4*7=28 5*7=35 6*7=42 7*7=49 \n",
      "1*6=6 2*6=12 3*6=18 4*6=24 5*6=30 6*6=36 \n",
      "1*5=5 2*5=10 3*5=15 4*5=20 5*5=25 \n",
      "1*4=4 2*4=8 3*4=12 4*4=16 \n",
      "1*3=3 2*3=6 3*3=9 \n",
      "1*2=2 2*2=4 \n",
      "1*1=1 \n"
     ]
    }
   ],
   "source": [
    "# 九九乘法表咯\n",
    "def printCol(r):\n",
    "     for col in range(1,r+1):\n",
    "        #print函数默认任务完成才执行换行/\n",
    "        print('{1}*{0}={2} '.format(row,col,row*col),end = '')\n",
    "p = range(1,10)\n",
    "p = p[::-1]\n",
    "for row in p:\n",
    "#     print('{0}... line'.format(row))\n",
    "    printCol(row)\n",
    "    print('')"
   ]
  },
  {
   "cell_type": "markdown",
   "metadata": {},
   "source": [
    "## 参数详解\n",
    "- 参考资料问度娘 \n",
    "- 参数分类\n",
    "    - 普通参数\n",
    "    - 默认参数\n",
    "    - 关键字参数\n",
    "    - 收集参数\n",
    "- 普通参数\n",
    "    - 定义时直接定义变量名\n",
    "    - 使用时直接放置于相应位置,按位置调用\n",
    "            \n",
    "            def function(参数1.参数2,...)\n",
    "            调用\n",
    "            function(参数1,参数2,....)\n",
    "- 默认参数\n",
    "    - 形参带有默认值\n",
    "    - 只有形参没有实参的情况有默认值\n",
    "    - print(value, ..., sep=' ', end='\\n', file=sys.stdout, flush=False)\n",
    "    \n",
    "            def fun(p1=v1,p2=v2,...)\n",
    "            调用\n",
    "            fun()"
   ]
  },
  {
   "cell_type": "code",
   "execution_count": 44,
   "metadata": {},
   "outputs": [
    {
     "name": "stdout",
     "output_type": "stream",
     "text": [
      "kangkang is 18 years old,he is a good student\n",
      "yinyinis17years old,she is a good student\n"
     ]
    }
   ],
   "source": [
    "# 报名上学,提供一些基本信息\n",
    "def reg(name, age, gender='male'):\n",
    "    if gender == 'male':\n",
    "        print('{0} is {1} years old,he is a good student'.format(name,age))\n",
    "    else:\n",
    "        print('{0}is{1}years old,she is a good student'.format(name,age))\n",
    "reg('kangkang',18)\n",
    "reg('yinyin',17,'women')"
   ]
  },
  {
   "cell_type": "markdown",
   "metadata": {},
   "source": [
    "### 关键字参数\n",
    "- 语法\n",
    "        \n",
    "        def func(p1=v1,p2=v2,...)\n",
    "            func_body\n",
    "        调用的时候:\n",
    "        func(p1=value1,p2=value2,...)\n",
    "- 是有点麻烦,不过也有好处\n",
    "    - 抛出位置空置参数传入,容易出错参数多了混乱\n",
    "    - 关键字参数就比较清晰,就是麻烦点\n",
    "    "
   ]
  },
  {
   "cell_type": "code",
   "execution_count": 46,
   "metadata": {},
   "outputs": [
    {
     "name": "stdout",
     "output_type": "stream",
     "text": [
      "我是kangkang,今年18岁了,我家住在黄土高坡\n"
     ]
    }
   ],
   "source": [
    "#关键字参数\n",
    "def stu(name,age,addr):\n",
    "    print('我是{0},今年{1}岁了,我家住在{2}'.format(name,age,addr))\n",
    "n = 'kangkang'\n",
    "a = 18\n",
    "add = '黄土高坡'\n",
    "stu(n,a,add)"
   ]
  },
  {
   "cell_type": "code",
   "execution_count": 50,
   "metadata": {},
   "outputs": [
    {
     "name": "stdout",
     "output_type": "stream",
     "text": [
      "我是kangkang,今年18岁了,我家住在黄土高坡\n"
     ]
    }
   ],
   "source": [
    "#关键字参数 位置可以随意调换只要对应就OK\n",
    "def stu(name='lilei',age=0,addr='canada'):\n",
    "    print('我是{0},今年{1}岁了,我家住在{2}'.format(name,age,addr))\n",
    "n = 'kangkang'\n",
    "a = 18\n",
    "add = '黄土高坡'\n",
    "stu(age=a,addr=add,name=n)"
   ]
  },
  {
   "cell_type": "markdown",
   "metadata": {},
   "source": [
    "## 收集参数\n",
    "- 把没有位置的参数,也就是多传的参数一股脑打包放入一个特殊的结构中\n",
    "- 语法结构\n",
    "        \n",
    "        def func(*args):\n",
    "            func_body\n",
    "            可以运用list的方式访问参数\n",
    "        调用的时候:\n",
    "        func(v1,v2,v3...)\n",
    "- *args中args不必必须这样写,可以写其它各种,但是推荐这样写,比较规范吧\n",
    "- *必须要有的哟\n",
    "- 收集参数可以与其他的参数共存"
   ]
  },
  {
   "cell_type": "code",
   "execution_count": 54,
   "metadata": {},
   "outputs": [
    {
     "name": "stdout",
     "output_type": "stream",
     "text": [
      "hello 大家好,我简单说两句介绍下我自己:\n",
      "<class 'tuple'>\n",
      "夏琪\n",
      "18\n",
      "游泳\n",
      "hello 大家好,我简单说两句介绍下我自己:\n",
      "<class 'tuple'>\n",
      "尤勇\n",
      "19\n",
      "下棋\n",
      "hello 大家好,我简单说两句介绍下我自己:\n",
      "<class 'tuple'>\n"
     ]
    }
   ],
   "source": [
    "# 学生自我介绍,可以介绍好多东西\n",
    "def std(*args):\n",
    "    print('hello 大家好,我简单说两句介绍下我自己:')\n",
    "    print(type(args))\n",
    "    for item in args:\n",
    "        print(item)\n",
    "\n",
    "std('夏琪',18,'游泳')\n",
    "std('尤勇',19,'下棋')\n",
    "#收集参数可传可不传不影响程序运行\n",
    "std()"
   ]
  },
  {
   "cell_type": "markdown",
   "metadata": {},
   "source": [
    "## 收集参数之关键字收集参数\n",
    "- 把关键字参数按照字典格式存入收集参数\n",
    "- 语法\n",
    "        \n",
    "        def func(**keyargs):\n",
    "            func_body\n",
    "        调用:\n",
    "        func(p1=v1,p2=v2,...)"
   ]
  },
  {
   "cell_type": "code",
   "execution_count": 58,
   "metadata": {},
   "outputs": [
    {
     "name": "stdout",
     "output_type": "stream",
     "text": [
      "hello 大家好,我讲两句:\n",
      "<class 'dict'>\n",
      "name .... kangkang\n",
      "age .... 18\n",
      "addr .... 黄土高坡\n",
      "********************\n",
      "hello 大家好,我讲两句:\n",
      "<class 'dict'>\n",
      "name .... yinyin\n"
     ]
    }
   ],
   "source": [
    "# 自我介绍\n",
    "def stu(**keyargs):\n",
    "    print('hello 大家好,我讲两句:')\n",
    "    print(type(keyargs))\n",
    "    #字典得访问方法\n",
    "    for key,item in keyargs.items():\n",
    "        print(key,'....',item)\n",
    "stu(name='kangkang',age=18,addr='黄土高坡')\n",
    "print('*'*20)\n",
    "stu(name='yinyin')"
   ]
  },
  {
   "cell_type": "markdown",
   "metadata": {},
   "source": [
    "## 收集参数混合调用的顺序问题\n",
    "- 收集参数,,关键字参数,普通参数一起使用问题\n",
    "- 使用规则就是普通参数和关键字参数优选原则\n",
    "- 定义的时候一般普通参数 关键字参数 收集参数dict"
   ]
  },
  {
   "cell_type": "code",
   "execution_count": 67,
   "metadata": {},
   "outputs": [
    {
     "name": "stdout",
     "output_type": "stream",
     "text": [
      "hello 大家好\n",
      "我叫kangkang,今年19岁\n",
      "******************************\n",
      "老哥\n",
      "------------------------------\n",
      "val1 --- aaa\n",
      "val2 --- bbb\n"
     ]
    }
   ],
   "source": [
    "#混合使用的例子\n",
    "def stu(name, age, addr='china',*args, **keyargs):\n",
    "    print('hello 大家好')\n",
    "    print('我叫{0},今年{1}岁'.format(name,age))\n",
    "    if addr == 'china':\n",
    "        print('我来自{0}'.format(addr))\n",
    "    print('*'*30)\n",
    "    for i in args:\n",
    "        print(i)\n",
    "    print('-'*30)\n",
    "    for k,v in keyargs.items():\n",
    "        print(k,'---',v)\n",
    "name = 'kangkang'\n",
    "age = 19\n",
    "\n",
    "# stu(name,age)\n",
    "stu(name,age,'老表','老哥',val1='aaa',val2='bbb')"
   ]
  },
  {
   "cell_type": "markdown",
   "metadata": {},
   "source": [
    "## 收集参数的解包问题\n",
    "- 把参数放入list或者dict中,直接把list/dict中的值放入收集参数中\n",
    "- 调用时候实参前面加  *"
   ]
  },
  {
   "cell_type": "code",
   "execution_count": 72,
   "metadata": {},
   "outputs": [
    {
     "name": "stdout",
     "output_type": "stream",
     "text": [
      "吧啦吧啦\n",
      "0\n",
      "aaa\n",
      "1\n",
      "ssss\n",
      "2\n",
      "ddd\n"
     ]
    }
   ],
   "source": [
    "#收集参数解包问题\n",
    "def stu(*args):\n",
    "    print('吧啦吧啦')\n",
    "    n = 0\n",
    "    for i in args:\n",
    "        print(n)\n",
    "        n += 1\n",
    "        print(i)\n",
    "        \n",
    "stu('aaa','ssss','ddd')"
   ]
  },
  {
   "cell_type": "code",
   "execution_count": 75,
   "metadata": {},
   "outputs": [
    {
     "name": "stdout",
     "output_type": "stream",
     "text": [
      "吧啦吧啦\n",
      "<class 'tuple'>\n",
      "0\n",
      "['aaa', 'ssss', 'ddd']\n",
      "吧啦吧啦\n",
      "<class 'tuple'>\n",
      "0\n",
      "aaa\n",
      "1\n",
      "ssss\n",
      "2\n",
      "ddd\n"
     ]
    }
   ],
   "source": [
    "#收集参数解包问题\n",
    "def stu(*args):\n",
    "    print('吧啦吧啦')\n",
    "    n = 0\n",
    "    print(type(args))\n",
    "    for i in args:\n",
    "        print(n)\n",
    "        n += 1\n",
    "        print(i)\n",
    "l = ['aaa','ssss','ddd']\n",
    "stu(l)\n",
    "stu(*l)"
   ]
  },
  {
   "cell_type": "markdown",
   "metadata": {},
   "source": [
    "# 函数文档\n",
    "- 函数文档的所用是对当前的函数提供使用的相关参考信息\n",
    "- 文档方法:\n",
    "    - 函数内开始第一行 三字符串字符\n",
    "    - 一般具有一定格式\n",
    "- 文档查看\n",
    "    - help(func)\n",
    "    - func,__doc__"
   ]
  },
  {
   "cell_type": "code",
   "execution_count": 78,
   "metadata": {},
   "outputs": [
    {
     "name": "stdout",
     "output_type": "stream",
     "text": [
      "Help on function stu in module __main__:\n",
      "\n",
      "stu(name, age, addr='china')\n",
      "    你看呀下面就是我要介绍的功法\n",
      "    欲练此功,必先自宫\n",
      "    如果自宫,必不成功\n",
      "\n",
      "None\n"
     ]
    },
    {
     "data": {
      "text/plain": [
       "'\\n    你看呀下面就是我要介绍的功法\\n    欲练此功,必先自宫\\n    如果自宫,必不成功\\n    '"
      ]
     },
     "execution_count": 78,
     "metadata": {},
     "output_type": "execute_result"
    }
   ],
   "source": [
    "def stu(name, age, addr='china'):\n",
    "    '''\n",
    "    你看呀下面就是我要介绍的功法\n",
    "    欲练此功,必先自宫\n",
    "    如果自宫,必不成功\n",
    "    '''\n",
    "    print('随便写点')\n",
    "print(help(stu))\n",
    "stu.__doc__"
   ]
  }
 ],
 "metadata": {
  "kernelspec": {
   "display_name": "Python 3",
   "language": "python",
   "name": "python3"
  },
  "language_info": {
   "codemirror_mode": {
    "name": "ipython",
    "version": 3
   },
   "file_extension": ".py",
   "mimetype": "text/x-python",
   "name": "python",
   "nbconvert_exporter": "python",
   "pygments_lexer": "ipython3",
   "version": "3.7.0"
  }
 },
 "nbformat": 4,
 "nbformat_minor": 2
}
