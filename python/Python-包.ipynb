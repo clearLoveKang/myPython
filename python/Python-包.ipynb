{
 "cells": [
  {
   "cell_type": "markdown",
   "metadata": {},
   "source": [
    "# 模块\n",
    "- 一个模块就是包含Python代码的文件 .py结尾\n",
    "- 模块的优点\n",
    "    - 程序太大,编写维护不方便,需要拆分\n",
    "    - 模块可以增加代码的复用性\n",
    "    - 当成命名空间使用,避免命名冲突\n",
    "    \n",
    "- 定义模块\n",
    "    - 模块是一个普通文件,任何代码可以直接编写\n",
    "    - 模块应包含以下内容\n",
    "        - 函数 功能单一 类似mixin\n",
    "        - 类 相似功能组合,或者类似业务模块\n",
    "        - 包含测试代码\n",
    "        \n",
    "- 模块的使用\n",
    "    - 可以直接导入\n",
    "    - 语法\n",
    "        - import module_name\n",
    "        - module_name.class_name()\n",
    "    \n",
    "- 包\n",
    "    - 包是一种组织管理代码的方式,包里面存放的是模块\n",
    "    - 用于将模块包在一起\n",
    "    - 包的结构\n",
    "        - __init__.py 文件\n",
    "        - 模块1\n",
    "        - 模块2\n",
    "        - 子包\n",
    "            - __init__.py\n",
    "            - 模块1\n",
    "            - 模块2\n",
    "            \n",
    "- 包的导入操作\n",
    "    - import package_name\n",
    "        - 直接导入一个包可以直接使用__init__.py内容\n",
    "        - 使用方式\n",
    "        - package_name.func_name\n",
    "        - package_name.class_name"
   ]
  },
  {
   "cell_type": "code",
   "execution_count": null,
   "metadata": {},
   "outputs": [],
   "source": []
  }
 ],
 "metadata": {
  "kernelspec": {
   "display_name": "Python 3",
   "language": "python",
   "name": "python3"
  },
  "language_info": {
   "codemirror_mode": {
    "name": "ipython",
    "version": 3
   },
   "file_extension": ".py",
   "mimetype": "text/x-python",
   "name": "python",
   "nbconvert_exporter": "python",
   "pygments_lexer": "ipython3",
   "version": "3.7.0"
  }
 },
 "nbformat": 4,
 "nbformat_minor": 2
}
