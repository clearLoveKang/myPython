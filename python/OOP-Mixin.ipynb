{
 "cells": [
  {
   "cell_type": "markdown",
   "metadata": {},
   "source": [
    "# Mixin设计模式\n",
    "- 主要采用多继承方式对类的功能进行扩展\n",
    "- 功能增加不改变物种\n",
    "- 语法尚不支持,只能通过多继承实现\n",
    "- 使用Mixin实现多继承时小心\n",
    "    - 表示单一功能,并不是某个物种\n",
    "    - 功能必须单一,如果多个功能,需要写多个Mixin\n",
    "    - Mixin不能依赖于子类实现\n",
    "    - 子类即使没有及时继承这个Mixin,也可正常工作,就是缺失这个Mixin的这个功能\n",
    "    \n",
    "- 优点\n",
    "    - 使用Mixin,可以在对类不进行修改的情况下进行扩充\n",
    "    - 可以方便组织和维护不同功能组件的划分\n",
    "    - 可以根据需要任意调整组合\n",
    "    - 减少创建很多类,避免继承混乱"
   ]
  },
  {
   "cell_type": "code",
   "execution_count": 7,
   "metadata": {},
   "outputs": [
    {
     "name": "stdout",
     "output_type": "stream",
     "text": [
      "会工作\n",
      "会飞翔\n",
      "会游泳\n"
     ]
    }
   ],
   "source": [
    "# 普通多继承情况\n",
    "class Fish():\n",
    "    def __init__(self,name):\n",
    "        self.name = name\n",
    "    def swim(self):\n",
    "        print('会游泳')\n",
    "class Bird():\n",
    "    def __init__(self,name):\n",
    "        self.name = name\n",
    "    \n",
    "    def fly(self):\n",
    "        print('会飞翔')\n",
    "class Person():\n",
    "    def __init__(self,name):\n",
    "        self.name = name\n",
    "    def work(self):\n",
    "        print('会工作')\n",
    "        \n",
    "class SuperMan(Person,Bird,Fish):\n",
    "    def __init__(self,name):\n",
    "        self.name = name\n",
    "        \n",
    "s = SuperMan('jj')\n",
    "s.work()\n",
    "s.fly()\n",
    "s.swim()"
   ]
  },
  {
   "cell_type": "code",
   "execution_count": 9,
   "metadata": {},
   "outputs": [
    {
     "name": "stdout",
     "output_type": "stream",
     "text": [
      "会工作\n",
      "会飞翔\n",
      "会游泳\n"
     ]
    }
   ],
   "source": [
    "# Mixin 实现多功能\n",
    "# 仅仅是设计思想,并不做强求\n",
    "class FlyMixin():\n",
    "    def fly(self):\n",
    "        print('会飞翔')\n",
    "\n",
    "class SwimMixin():\n",
    "    def swim(self):\n",
    "        print('会游泳')\n",
    "    \n",
    "class Person():\n",
    "    def __init__(self,name):\n",
    "        self.name = name\n",
    "    def work(self):\n",
    "        print('会工作')\n",
    "        \n",
    "class SuperMan(Person,FlyMixin,SwimMixin):\n",
    "    def __init__(self,name):\n",
    "        self.name = name\n",
    "        \n",
    "s = SuperMan('jj')\n",
    "s.work()\n",
    "s.fly()\n",
    "s.swim()"
   ]
  },
  {
   "cell_type": "markdown",
   "metadata": {},
   "source": [
    "# 类的相关函数\n",
    "- issubclass 判断一个类是否为另一个类子类\n",
    "- isinstance 判断一个对象是否为另一个类的实例\n",
    "- hasattr 检测一个对象是否有XXX成员\n",
    "- getattr 获取一个XXX成员\n",
    "- setattr 设置一个成员\n",
    "- delattr 删除一个成员\n",
    "- dir 获取对象的成员列表"
   ]
  },
  {
   "cell_type": "code",
   "execution_count": 22,
   "metadata": {},
   "outputs": [
    {
     "name": "stdout",
     "output_type": "stream",
     "text": [
      "True\n",
      "True\n",
      "True\n",
      "['__class__', '__delattr__', '__dict__', '__dir__', '__doc__', '__eq__', '__format__', '__ge__', '__getattribute__', '__gt__', '__hash__', '__init__', '__init_subclass__', '__le__', '__lt__', '__module__', '__ne__', '__new__', '__reduce__', '__reduce_ex__', '__repr__', '__setattr__', '__sizeof__', '__str__', '__subclasshook__', '__weakref__', 'name']\n"
     ]
    }
   ],
   "source": [
    "# 类的相关函数\n",
    "class A():\n",
    "    pass\n",
    "\n",
    "class B(A):\n",
    "    pass\n",
    "\n",
    "class C():\n",
    "    name = 'xiaoming'\n",
    "\n",
    "\n",
    "# 检测一个类是否为另一个类子类\n",
    "print(issubclass(B,A))\n",
    "\n",
    "# 判断一个对象是否为一个类的实例\n",
    "s = C()\n",
    "print(isinstance(s,C))\n",
    "\n",
    "# 检测一个类是否有XXX成员\n",
    "print(hasattr(C,'name'))\n",
    "# 获取一个类的成员列表\n",
    "print(dir(C))"
   ]
  }
 ],
 "metadata": {
  "kernelspec": {
   "display_name": "Python 3",
   "language": "python",
   "name": "python3"
  },
  "language_info": {
   "codemirror_mode": {
    "name": "ipython",
    "version": 3
   },
   "file_extension": ".py",
   "mimetype": "text/x-python",
   "name": "python",
   "nbconvert_exporter": "python",
   "pygments_lexer": "ipython3",
   "version": "3.7.0"
  }
 },
 "nbformat": 4,
 "nbformat_minor": 2
}
