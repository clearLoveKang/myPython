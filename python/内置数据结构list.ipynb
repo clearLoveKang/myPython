{
 "cells": [
  {
   "cell_type": "markdown",
   "metadata": {},
   "source": [
    "# 内置数据结构(变量类型)\n",
    "- list\n",
    "- set\n",
    "- dict\n",
    "- tuple\n",
    "## list(列表)\n",
    "- 一组有顺序的数据组合而成"
   ]
  },
  {
   "cell_type": "code",
   "execution_count": 4,
   "metadata": {},
   "outputs": [
    {
     "name": "stdout",
     "output_type": "stream",
     "text": [
      "<class 'list'>\n",
      "[1, 2, 3, 4, 5]\n",
      "<class 'list'>\n",
      "[]\n"
     ]
    }
   ],
   "source": [
    "#创建列表o\n",
    "l = []\n",
    "l2 = [1,2,3,4,5]\n",
    "print(type(l))\n",
    "print(l2)\n",
    "l3 = list()\n",
    "print(type(l3))\n",
    "print(l3)"
   ]
  },
  {
   "cell_type": "markdown",
   "metadata": {},
   "source": [
    "## list基本操作\n",
    "- 访问\n",
    "    - 通过列表索引访问\n",
    "- 分片操作\n",
    "    - 访问部分列表,截取\n",
    "    - [:] 开始:结束(不包括) -- 全部是下标值"
   ]
  },
  {
   "cell_type": "code",
   "execution_count": 6,
   "metadata": {},
   "outputs": [
    {
     "name": "stdout",
     "output_type": "stream",
     "text": [
      "1\n"
     ]
    }
   ],
   "source": [
    "#下标操作list(索引)\n",
    "l = [1,2,3,4,5,6]\n",
    "print(l[0])"
   ]
  },
  {
   "cell_type": "code",
   "execution_count": 14,
   "metadata": {},
   "outputs": [
    {
     "name": "stdout",
     "output_type": "stream",
     "text": [
      "[3, 4]\n",
      "[1, 2, 3, 4, 5, 6]\n",
      "[5, 6]\n",
      "[1, 2, 3, 4]\n"
     ]
    }
   ],
   "source": [
    "#切片操作\n",
    "print(l[2:4]) #从2号位置开始 到 4号位置结束并不包括四号位\n",
    "print(l[:])   # :前后没有任何标识,及截取全部\n",
    "print(l[4:])\n",
    "print(l[:4])"
   ]
  },
  {
   "cell_type": "code",
   "execution_count": 23,
   "metadata": {},
   "outputs": [
    {
     "name": "stdout",
     "output_type": "stream",
     "text": [
      "[1, 2, 3, 4, 5]\n",
      "[1, 3, 5]\n",
      "[1, 2, 3, 4, 5]\n",
      "[6, 5, 4, 3, 2, 1]\n",
      "[1, 2, 3, 4]\n"
     ]
    }
   ],
   "source": [
    "# 切片增长操作\n",
    "print(l[0:5:1])\n",
    "print(l[0:5:2])\n",
    "print(l[-7:5])\n",
    "#反序截取 最后一位负数下标为-1,负数表示从右往左\n",
    "print(l[::-1])\n",
    "#切片的顺序永远是从小的开始到大的,负数也遵循这个规则\n",
    "print(l[-6:-2])"
   ]
  },
  {
   "cell_type": "markdown",
   "metadata": {},
   "source": [
    "## 分片操作是生成了新的list\n",
    "- 内置函数id,负责显示变量或者数据的唯一编号\n",
    "    - 深浅拷贝概念的直观验证这就是Python神奇地方"
   ]
  },
  {
   "cell_type": "code",
   "execution_count": 26,
   "metadata": {},
   "outputs": [
    {
     "name": "stdout",
     "output_type": "stream",
     "text": [
      "4446269600\n",
      "4446272800\n",
      "4446269600\n"
     ]
    }
   ],
   "source": [
    "a = 100\n",
    "b = 200\n",
    "c = a\n",
    "print(id(a))\n",
    "print(id(b))\n",
    "print(id(c))"
   ]
  },
  {
   "cell_type": "code",
   "execution_count": 36,
   "metadata": {},
   "outputs": [
    {
     "name": "stdout",
     "output_type": "stream",
     "text": [
      "[1, 2, 3, 4, 5, 6, 7, 8, 9, 0] 4483856072\n",
      "[1, 2, 3, 4, 5, 6, 7, 8, 9, 0] 4483855112\n",
      "[1, 2, 3, 4, 5, 6, 7, 8, 9, 0] 4483855112\n",
      "[1, 100, 3, 4, 5, 6, 7, 8, 9, 0]\n",
      "[1, 2, 3, 4, 5, 6, 7, 8, 9, 0]\n",
      "[1, 2, 3, 4, 5, 6, 7, 8, 9, 0]\n",
      "[1, 100, 3, 4, 5, 6, 7, 8, 9, 0]\n",
      "[1, 111, 222, 4, 5, 6, 7, 8, 9, 0]\n",
      "[1, 111, 222, 4, 5, 6, 7, 8, 9, 0]\n"
     ]
    }
   ],
   "source": [
    "#切片操作生成新的一个list\n",
    "l = [1,2,3,4,5,6,7,8,9,0]\n",
    "a = l[:]\n",
    "b = a\n",
    "print(l,id(l))\n",
    "print(a,id(a))\n",
    "print(b,id(b))\n",
    "#切片后内存指向不同块儿\n",
    "l[1] = 100\n",
    "print(l)\n",
    "print(a)\n",
    "print(b)\n",
    "#赋值操作指向一内存\n",
    "a[1] = 111\n",
    "b[2] = 222\n",
    "print(l)\n",
    "print(a)\n",
    "print(b)"
   ]
  }
 ],
 "metadata": {
  "kernelspec": {
   "display_name": "Python 3",
   "language": "python",
   "name": "python3"
  },
  "language_info": {
   "codemirror_mode": {
    "name": "ipython",
    "version": 3
   },
   "file_extension": ".py",
   "mimetype": "text/x-python",
   "name": "python",
   "nbconvert_exporter": "python",
   "pygments_lexer": "ipython3",
   "version": "3.7.0"
  }
 },
 "nbformat": 4,
 "nbformat_minor": 2
}
