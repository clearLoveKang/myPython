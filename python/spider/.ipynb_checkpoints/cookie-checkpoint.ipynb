{
 "cells": [
  {
   "cell_type": "markdown",
   "metadata": {},
   "source": [
    "# cookie & session\n",
    "- 由于http协议的无状态性,新增的一种补充协议\n",
    "- cookie是发给用户的, session是保存在服务器上的\n",
    "- cookie不安全\n",
    "- session保存在服务器有一定的期限\n",
    "- cookie大小只有4kb 一个站点限制保存20个\n",
    "- session存在服务器,一般情况下默认放在数据库上,一般不用人为干预,框架自放"
   ]
  },
  {
   "cell_type": "markdown",
   "metadata": {},
   "source": [
    "# http模块\n",
    "- CookieJar\n",
    "    - cookie保存在内存中\n",
    "- FileCookieJar(filename, delayload=None, policy=None)\n",
    "    - 文件存储cookie\n",
    "    - filename是保存cookie的文件名称\n",
    "- MozillaCookieJar\n",
    "- LwpCookieJar"
   ]
  },
  {
   "cell_type": "markdown",
   "metadata": {},
   "source": [
    "# 自动登录cookie\n",
    "- 打开登录输入用户名密码\n",
    "- 自动提取返回的cookie\n",
    "- 利用cookie进入私有页面"
   ]
  },
  {
   "cell_type": "code",
   "execution_count": null,
   "metadata": {},
   "outputs": [],
   "source": [
    "# 创建实例\n",
    "cookie = cookiejar.CookieJar()\n",
    "\n",
    "# 生成cookie管理器\n",
    "cookie_handler = request.HTTPCookieProcessor(cookie)\n",
    "\n",
    "# 创建http请求管理器\n",
    "http_handler = request.HTTPHandler()\n",
    "\n",
    "# 创建一个https请求管理器\n",
    "https_handler = request.HTTPSHandler()\n",
    "\n",
    "# 创建请求管理器\n",
    "opener = request.build_opener(http_handler, https_handler, cookie_handler)\n"
   ]
  }
 ],
 "metadata": {
  "kernelspec": {
   "display_name": "Python 3",
   "language": "python",
   "name": "python3"
  },
  "language_info": {
   "codemirror_mode": {
    "name": "ipython",
    "version": 3
   },
   "file_extension": ".py",
   "mimetype": "text/x-python",
   "name": "python",
   "nbconvert_exporter": "python",
   "pygments_lexer": "ipython3",
   "version": "3.6.6"
  }
 },
 "nbformat": 4,
 "nbformat_minor": 2
}
