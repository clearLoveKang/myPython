{
 "cells": [
  {
   "cell_type": "markdown",
   "metadata": {},
   "source": [
    "# 前提准备\n",
    "- url\n",
    "- http协议\n",
    "- ajax\n",
    "- re, xpath\n",
    "- xml"
   ]
  },
  {
   "cell_type": "markdown",
   "metadata": {},
   "source": [
    "# 爬虫特征\n",
    "- 按照作者要求下载数据或者内容\n",
    "- 能够自主在网络上流穿\n",
    "## 三大步骤\n",
    "- 下载信息网页\n",
    "- 提提取正确信息数据\n",
    "- 根据一定规则跳转到另一个网站  重复12\n",
    "## 爬虫分类\n",
    "- 通用爬虫\n",
    "    - 百度之类通用型\n",
    "- 专用爬虫(聚焦爬虫)\n",
    "    - 聚焦小方向小领域\n"
   ]
  },
  {
   "cell_type": "markdown",
   "metadata": {},
   "source": [
    "# Python网络包\n",
    "- Python 2.x: urllib urllib2 urllib3 httplib httplib2 requests\n",
    "- Python 3.x: urllib urllib3 httplib3 requests\n",
    "## 经常使用\n",
    "- Python2 : urllib urllib2 和requests\n",
    "- Python3 :urllib requests"
   ]
  },
  {
   "cell_type": "markdown",
   "metadata": {},
   "source": [
    "# urllib\n",
    "- 包含模块\n",
    "    - urllib.request: 打开和读取urls\n",
    "    - urllib.error: 错误信息提示, 使用try捕捉\n",
    "    - urllib.parse: 包含解析url方法\n",
    "    - urllib.robotparse : 解析robots.txt信息 ...(禁止对网站进行频繁访问--道德底线)\n"
   ]
  },
  {
   "cell_type": "markdown",
   "metadata": {},
   "source": [
    "# chardet \n",
    "- 可以检测编码格式 如果没有<meta charset=''/> 返回有误\n",
    "- 下载三方依赖包 conda install chardet"
   ]
  },
  {
   "cell_type": "markdown",
   "metadata": {},
   "source": [
    "# urlopen\n",
    "- geturl 获取链接地址\n",
    "- getcode 获取状态码\n",
    "- info 获取http报文详情\n",
    "# request.data\n",
    "- 访问网络的两种方法\n",
    "- get\n",
    "    - 利用参数给服务器传递信息\n",
    "    - 参数dict形式 然后使用parse编码\n",
    "- POST\n",
    "    - 一般向服务器传递参数使用\n",
    "    - POST其实就是自动把信息进行加密\n",
    "    - 使用POST信息,需要使用data\n",
    "    - 使用post需要更改http头部信息\n",
    "        - Content-Type: appliscation/x-www.form-urlencode\n",
    "        - Content-Length: 数据长度\n",
    "        - 更改请求方法需要将头部信息相适应\n",
    "    - urllib.parse.urlencode 可以将字符串自动转换成上面格式\n",
    "    - urllib.parse.uelencode.encode"
   ]
  },
  {
   "cell_type": "markdown",
   "metadata": {},
   "source": [
    "# request\n",
    "- 可以构建header头部\n",
    "- req = request.Request(url=xx, data=xx, header=xx)\n",
    "- request.uelopen(req)"
   ]
  },
  {
   "cell_type": "markdown",
   "metadata": {},
   "source": [
    "# error\n",
    "- error.HTTPError http返回错误信息 (子类)\n",
    "- error.URLError url错误 (父类)"
   ]
  },
  {
   "cell_type": "markdown",
   "metadata": {},
   "source": [
    "# proxyHandler\n",
    "- 代理服务器\n",
    "- 获取代理服务器的地址\n",
    "    - www.xicidaili.com\n",
    "    - www.goubanjia.com\n",
    "- 代理用来伪装真是访问,代理也不可以一直访问一个完整网址,需要很多个代理 \n",
    "- 代理使用\n",
    "    - 设置代理 proxy = {'http', '122.222.222.22:8080'}\n",
    "    - 创建一个proxyHandler  proxy-handler = request.ProxyHandler(proxy)\n",
    "    - 创建Opener opener = request.build_opener(proxy-handler)\n",
    "    - 安装Opener request.install_opener(opener)"
   ]
  },
  {
   "cell_type": "code",
   "execution_count": null,
   "metadata": {},
   "outputs": [],
   "source": []
  }
 ],
 "metadata": {
  "kernelspec": {
   "display_name": "Python 3",
   "language": "python",
   "name": "python3"
  },
  "language_info": {
   "codemirror_mode": {
    "name": "ipython",
    "version": 3
   },
   "file_extension": ".py",
   "mimetype": "text/x-python",
   "name": "python",
   "nbconvert_exporter": "python",
   "pygments_lexer": "ipython3",
   "version": "3.6.6"
  }
 },
 "nbformat": 4,
 "nbformat_minor": 2
}
