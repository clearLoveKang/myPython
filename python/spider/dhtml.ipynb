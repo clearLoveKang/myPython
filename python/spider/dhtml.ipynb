{
 "cells": [
  {
   "cell_type": "markdown",
   "metadata": {},
   "source": [
    "# 动态HTML语言\n",
    "- JavaScript\n",
    "- jquer\n",
    "- ajax\n",
    "- Dhtml\n",
    "## python采集动态数据\n",
    "- 从JavaScript代码入手\n",
    "- Python三方库运行JavaScript\n"
   ]
  },
  {
   "cell_type": "markdown",
   "metadata": {},
   "source": [
    "# selenium\n",
    "- 自动化web测试工具\n",
    "    - 自动加载页面\n",
    "    - 获取页面数据\n",
    "    - 截屏\n",
    "# phantomJS\n",
    "- 基于webkit的无界面浏览器"
   ]
  }
 ],
 "metadata": {
  "kernelspec": {
   "display_name": "Python 3",
   "language": "python",
   "name": "python3"
  },
  "language_info": {
   "codemirror_mode": {
    "name": "ipython",
    "version": 3
   },
   "file_extension": ".py",
   "mimetype": "text/x-python",
   "name": "python",
   "nbconvert_exporter": "python",
   "pygments_lexer": "ipython3",
   "version": "3.6.6"
  }
 },
 "nbformat": 4,
 "nbformat_minor": 2
}
