{
 "cells": [
  {
   "cell_type": "markdown",
   "metadata": {},
   "source": [
    "# XPath\n",
    "- 在XML文件中查找信息的一种规则语言, 根据XML的元素或者属性进行遍历\n",
    "- XPath开发工具\n",
    "    - 开源的XPath表达式编辑分工具, XMLQuire\n",
    "    - Chrome插件 XPath helper\n",
    "    - Firefox 插件 XPath checker"
   ]
  },
  {
   "cell_type": "code",
   "execution_count": 1,
   "metadata": {},
   "outputs": [
    {
     "ename": "SyntaxError",
     "evalue": "invalid syntax (<ipython-input-1-1b7df855c963>, line 11)",
     "output_type": "error",
     "traceback": [
      "\u001b[0;36m  File \u001b[0;32m\"<ipython-input-1-1b7df855c963>\"\u001b[0;36m, line \u001b[0;32m11\u001b[0m\n\u001b[0;31m    p = //Student # 返回所有的Student节点\u001b[0m\n\u001b[0m         ^\u001b[0m\n\u001b[0;31mSyntaxError\u001b[0m\u001b[0;31m:\u001b[0m invalid syntax\n"
     ]
    }
   ],
   "source": [
    "# XML文件查找节点\n",
    "# nodename 选取节点的所有子节点\n",
    "# / 从根节点开始选取\n",
    "# // 选取节点不考虑位置\n",
    "# . 选取当前的节点\n",
    "# .. 选取父节点\n",
    "# @ 选取属性\n",
    "\n",
    "# XPath一般按照路径方式查找\n",
    "p = School/Teacher # 返回Teacher节点\n",
    "p = //Student # 返回所有的Student节点\n",
    "p = School//Age # 返回school后代所有的age节点\n",
    "p = @other # 选取other属性\n",
    "p = //Age[@Detail] # 选取带有detail属性的age元素\n"
   ]
  },
  {
   "cell_type": "markdown",
   "metadata": {},
   "source": [
    "# 谓语-predicates\n",
    "- /School/Student[1] 选取School下的第一个student节点\n",
    "- /School/Student[last()] 选取School下的最后一个student节点\n",
    "- /School/Student[last()-1] 选取School下的倒数第二个student节点\n",
    "- /School/Student[position()<3] 选取School下的前两个student节点\n",
    "- //Student[@score] 选取School下的带有属性score的节点\n",
    "- //Student[@score = '99] 选取School下的带有属性score并且属性为99的节点\n",
    "- //Student[@score]/Age 选取School下的带有属性score的节点的子节点Age"
   ]
  },
  {
   "cell_type": "markdown",
   "metadata": {},
   "source": [
    "# XPath 的操作\n",
    "- | : 或者\n",
    "- 文档瞅一眼"
   ]
  }
 ],
 "metadata": {
  "kernelspec": {
   "display_name": "Python 3",
   "language": "python",
   "name": "python3"
  },
  "language_info": {
   "codemirror_mode": {
    "name": "ipython",
    "version": 3
   },
   "file_extension": ".py",
   "mimetype": "text/x-python",
   "name": "python",
   "nbconvert_exporter": "python",
   "pygments_lexer": "ipython3",
   "version": "3.7.0"
  }
 },
 "nbformat": 4,
 "nbformat_minor": 2
}
