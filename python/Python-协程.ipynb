{
 "cells": [
  {
   "cell_type": "markdown",
   "metadata": {},
   "source": [
    "# asyncio\n",
    "- Python3.4开始引入的队异步IO的支持\n",
    "- asyncio本身是一个消息循环\n",
    "    - 创建消息循环\n",
    "    - 把协程放进去\n",
    "    - 关闭"
   ]
  },
  {
   "cell_type": "code",
   "execution_count": 2,
   "metadata": {},
   "outputs": [
    {
     "ename": "RuntimeError",
     "evalue": "This event loop is already running",
     "output_type": "error",
     "traceback": [
      "\u001b[0;31m---------------------------------------------------------------------------\u001b[0m",
      "\u001b[0;31mRuntimeError\u001b[0m                              Traceback (most recent call last)",
      "\u001b[0;32m<ipython-input-2-d87d1a252568>\u001b[0m in \u001b[0;36m<module>\u001b[0;34m()\u001b[0m\n\u001b[1;32m     19\u001b[0m \u001b[0;34m\u001b[0m\u001b[0m\n\u001b[1;32m     20\u001b[0m \u001b[0;31m# asyncio使用wait等待tasks执行完毕\u001b[0m\u001b[0;34m\u001b[0m\u001b[0;34m\u001b[0m\u001b[0m\n\u001b[0;32m---> 21\u001b[0;31m \u001b[0mloop\u001b[0m\u001b[0;34m.\u001b[0m\u001b[0mrun_until_complete\u001b[0m\u001b[0;34m(\u001b[0m\u001b[0masyncio\u001b[0m\u001b[0;34m.\u001b[0m\u001b[0mwait\u001b[0m\u001b[0;34m(\u001b[0m\u001b[0mtasks\u001b[0m\u001b[0;34m)\u001b[0m\u001b[0;34m)\u001b[0m\u001b[0;34m\u001b[0m\u001b[0m\n\u001b[0m\u001b[1;32m     22\u001b[0m \u001b[0;34m\u001b[0m\u001b[0m\n\u001b[1;32m     23\u001b[0m \u001b[0;31m# 关闭消息队列\u001b[0m\u001b[0;34m\u001b[0m\u001b[0;34m\u001b[0m\u001b[0m\n",
      "\u001b[0;32m/anaconda3/lib/python3.7/asyncio/base_events.py\u001b[0m in \u001b[0;36mrun_until_complete\u001b[0;34m(self, future)\u001b[0m\n\u001b[1;32m    553\u001b[0m         \u001b[0mfuture\u001b[0m\u001b[0;34m.\u001b[0m\u001b[0madd_done_callback\u001b[0m\u001b[0;34m(\u001b[0m\u001b[0m_run_until_complete_cb\u001b[0m\u001b[0;34m)\u001b[0m\u001b[0;34m\u001b[0m\u001b[0m\n\u001b[1;32m    554\u001b[0m         \u001b[0;32mtry\u001b[0m\u001b[0;34m:\u001b[0m\u001b[0;34m\u001b[0m\u001b[0m\n\u001b[0;32m--> 555\u001b[0;31m             \u001b[0mself\u001b[0m\u001b[0;34m.\u001b[0m\u001b[0mrun_forever\u001b[0m\u001b[0;34m(\u001b[0m\u001b[0;34m)\u001b[0m\u001b[0;34m\u001b[0m\u001b[0m\n\u001b[0m\u001b[1;32m    556\u001b[0m         \u001b[0;32mexcept\u001b[0m\u001b[0;34m:\u001b[0m\u001b[0;34m\u001b[0m\u001b[0m\n\u001b[1;32m    557\u001b[0m             \u001b[0;32mif\u001b[0m \u001b[0mnew_task\u001b[0m \u001b[0;32mand\u001b[0m \u001b[0mfuture\u001b[0m\u001b[0;34m.\u001b[0m\u001b[0mdone\u001b[0m\u001b[0;34m(\u001b[0m\u001b[0;34m)\u001b[0m \u001b[0;32mand\u001b[0m \u001b[0;32mnot\u001b[0m \u001b[0mfuture\u001b[0m\u001b[0;34m.\u001b[0m\u001b[0mcancelled\u001b[0m\u001b[0;34m(\u001b[0m\u001b[0;34m)\u001b[0m\u001b[0;34m:\u001b[0m\u001b[0;34m\u001b[0m\u001b[0m\n",
      "\u001b[0;32m/anaconda3/lib/python3.7/asyncio/base_events.py\u001b[0m in \u001b[0;36mrun_forever\u001b[0;34m(self)\u001b[0m\n\u001b[1;32m    508\u001b[0m         \u001b[0mself\u001b[0m\u001b[0;34m.\u001b[0m\u001b[0m_check_closed\u001b[0m\u001b[0;34m(\u001b[0m\u001b[0;34m)\u001b[0m\u001b[0;34m\u001b[0m\u001b[0m\n\u001b[1;32m    509\u001b[0m         \u001b[0;32mif\u001b[0m \u001b[0mself\u001b[0m\u001b[0;34m.\u001b[0m\u001b[0mis_running\u001b[0m\u001b[0;34m(\u001b[0m\u001b[0;34m)\u001b[0m\u001b[0;34m:\u001b[0m\u001b[0;34m\u001b[0m\u001b[0m\n\u001b[0;32m--> 510\u001b[0;31m             \u001b[0;32mraise\u001b[0m \u001b[0mRuntimeError\u001b[0m\u001b[0;34m(\u001b[0m\u001b[0;34m'This event loop is already running'\u001b[0m\u001b[0;34m)\u001b[0m\u001b[0;34m\u001b[0m\u001b[0m\n\u001b[0m\u001b[1;32m    511\u001b[0m         \u001b[0;32mif\u001b[0m \u001b[0mevents\u001b[0m\u001b[0;34m.\u001b[0m\u001b[0m_get_running_loop\u001b[0m\u001b[0;34m(\u001b[0m\u001b[0;34m)\u001b[0m \u001b[0;32mis\u001b[0m \u001b[0;32mnot\u001b[0m \u001b[0;32mNone\u001b[0m\u001b[0;34m:\u001b[0m\u001b[0;34m\u001b[0m\u001b[0m\n\u001b[1;32m    512\u001b[0m             raise RuntimeError(\n",
      "\u001b[0;31mRuntimeError\u001b[0m: This event loop is already running"
     ]
    },
    {
     "name": "stdout",
     "output_type": "stream",
     "text": [
      "Hello World (<_MainThread(MainThread, started 140735735083840)>)\n",
      "Start.....(<_MainThread(MainThread, started 140735735083840)>)\n",
      "Hello World (<_MainThread(MainThread, started 140735735083840)>)\n",
      "Start.....(<_MainThread(MainThread, started 140735735083840)>)\n",
      "Done...(<_MainThread(MainThread, started 140735735083840)>)\n",
      "Hello again (<_MainThread(MainThread, started 140735735083840)>)\n",
      "Done...(<_MainThread(MainThread, started 140735735083840)>)\n",
      "Hello again (<_MainThread(MainThread, started 140735735083840)>)\n"
     ]
    }
   ],
   "source": [
    "# 消息队列来实现异步IO\n",
    "import threading\n",
    "import asyncio\n",
    "\n",
    "#使用协程 装饰器\n",
    "@asyncio.coroutine\n",
    "def hello():\n",
    "    print('Hello World (%s)' % threading.currentThread())\n",
    "    print('Start.....(%s)' % threading.currentThread())\n",
    "    yield from asyncio.sleep(10)\n",
    "    print('Done...(%s)' % threading.currentThread())\n",
    "    print('Hello again (%s)' % threading.currentThread())\n",
    "    \n",
    "# 启动消息循环\n",
    "loop = asyncio.get_event_loop()\n",
    "\n",
    "# 定义任务\n",
    "tasks = [hello(), hello()]\n",
    "\n",
    "# asyncio使用wait等待tasks执行完毕\n",
    "loop.run_until_complete(asyncio.wait(tasks))\n",
    "\n",
    "# 关闭消息队列\n",
    "loop.close()\n"
   ]
  },
  {
   "cell_type": "markdown",
   "metadata": {},
   "source": [
    "# aiohttp\n",
    "- asyncio 实现单线程的并发IO,在客户端没卵用\n",
    "- 在服务端可以asyncio+coroutine配合,因为http是IO操作\n",
    "- asyncio实现了tcp, udp, ssl等协议\n",
    "- aiohttp是给予asyncio实现的http框架\n",
    "- pip, install, aiohttp安装"
   ]
  },
  {
   "cell_type": "markdown",
   "metadata": {},
   "source": [
    "# concurrent.futures\n",
    "- 类似其他语言的线程池\n",
    "- 利用multiprocess实现的真正并行计算\n",
    "- concurrent.futures.Executor\n",
    "    - ThreadPoolExecutor\n",
    "    - ProcessPoolExecutor\n",
    "    - 执行需要自己选择\n",
    "- submit(fun, args, kwargs)\n",
    "    - fun 异步执行函数\n",
    "    - 参数"
   ]
  },
  {
   "cell_type": "code",
   "execution_count": 4,
   "metadata": {},
   "outputs": [
    {
     "name": "stdout",
     "output_type": "stream",
     "text": [
      "False\n",
      "第一个\n",
      "第二个\n",
      "True\n",
      "None\n",
      "None\n"
     ]
    }
   ],
   "source": [
    "# 线程池概念里子\n",
    "from concurrent.futures import ThreadPoolExecutor\n",
    "import time\n",
    "\n",
    "def func(msg):\n",
    "    time.sleep(3)\n",
    "    print(msg)\n",
    "    \n",
    "# 创建一个线程池\n",
    "pool = ThreadPoolExecutor(max_workers = 2)\n",
    "\n",
    "# 通过submit方法提交被执行函数到线程池中\n",
    "t1 = pool.submit(func, '第一个')\n",
    "t2 = pool.submit(func, '第二个')\n",
    "\n",
    "# 等待执行\n",
    "print(t1.done())\n",
    "time.sleep(3)\n",
    "print(t2.done())\n",
    "\n",
    "# 结果\n",
    "print(t1.result())\n",
    "print(t2.result())"
   ]
  },
  {
   "cell_type": "markdown",
   "metadata": {},
   "source": [
    "# concurrent中的map\n",
    "- map(fn, *iterables, timeout=None)\n",
    "    - 异步执行map\n",
    "    - timeout 超时时间\n",
    "    \n",
    "- map submit都有提交到线程池功能\n",
    "# Future\n",
    "- "
   ]
  },
  {
   "cell_type": "code",
   "execution_count": 8,
   "metadata": {},
   "outputs": [
    {
     "name": "stdout",
     "output_type": "stream",
     "text": [
      "12\n",
      "\n",
      "OK\n",
      "OK\n"
     ]
    }
   ],
   "source": [
    "# map 栗子\n",
    "import time, re\n",
    "import os, datetime\n",
    "from concurrent import futures\n",
    "\n",
    "data = ['1','2']\n",
    "\n",
    "def wait_on(argument):\n",
    "    print(argument)\n",
    "    time.sleep(2)\n",
    "    return 'OK'\n",
    "\n",
    "ex = futures.ThreadPoolExecutor(max_workers=2)\n",
    "for i in ex.map(wait_on,data):\n",
    "    print(i)"
   ]
  }
 ],
 "metadata": {
  "kernelspec": {
   "display_name": "Python 3",
   "language": "python",
   "name": "python3"
  },
  "language_info": {
   "codemirror_mode": {
    "name": "ipython",
    "version": 3
   },
   "file_extension": ".py",
   "mimetype": "text/x-python",
   "name": "python",
   "nbconvert_exporter": "python",
   "pygments_lexer": "ipython3",
   "version": "3.7.0"
  }
 },
 "nbformat": 4,
 "nbformat_minor": 2
}
