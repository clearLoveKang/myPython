{
 "cells": [
  {
   "cell_type": "markdown",
   "metadata": {},
   "source": [
    "# Number数字类型\n",
    "- 数字类型没有大小\n",
    "### 整数\n",
    "- 没有小数部分,表示个数的数字\n",
    "- 自然数, 0, 负自然数\n",
    "- 整数分进制\n",
    "    - 二进制\n",
    "        - 计算机常用\n",
    "        - 是计算机唯一能够是别的数字\n",
    "        - 表示为0b开头的0,1代码\n",
    "        - 例如:0b1101,0b1001\n",
    "    - 八进制\n",
    "        - 不常用\n",
    "        - 以0o开头 0-7 没有8哈哈\n",
    "    - 十六进制\n",
    "        - 碰见16就进1\n",
    "        - 其实就是4个二进制表示一个16进制\n",
    "        - 包含0-9,a-f\n",
    "        - 数字上以0x开头\n",
    "        - 计算机用的比较多\n",
    "    - 十进制\n",
    "        - 10 18 33"
   ]
  },
  {
   "cell_type": "code",
   "execution_count": 6,
   "metadata": {},
   "outputs": [
    {
     "name": "stdout",
     "output_type": "stream",
     "text": [
      "18\n",
      "18\n",
      "255\n"
     ]
    }
   ],
   "source": [
    "age = 18\n",
    "print(age)\n",
    "age = 0b10010\n",
    "print(age)\n",
    "age = 0xff\n",
    "print(age)"
   ]
  },
  {
   "cell_type": "markdown",
   "metadata": {},
   "source": [
    "### 浮点数\n",
    "- 小数\n",
    "- 计算机表示的浮点数可以有条件省略\n",
    "- 3.14159 3.\n",
    "- 0.5 .5\n",
    "- 科学计数法\n",
    "    - 定义跟数学定义\n",
    "    - 写法使用e/E 指数"
   ]
  },
  {
   "cell_type": "code",
   "execution_count": 13,
   "metadata": {},
   "outputs": [
    {
     "name": "stdout",
     "output_type": "stream",
     "text": [
      "183.33\n",
      "0.2\n",
      "0.6\n"
     ]
    }
   ],
   "source": [
    "height = 183.33\n",
    "print(height)\n",
    "\n",
    "shili = 0.2\n",
    "print(shili)\n",
    "shili = .6\n",
    "print(shili)"
   ]
  },
  {
   "cell_type": "markdown",
   "metadata": {},
   "source": [
    "### 复数complex\n",
    "- "
   ]
  }
 ],
 "metadata": {
  "kernelspec": {
   "display_name": "Python 3",
   "language": "python",
   "name": "python3"
  },
  "language_info": {
   "codemirror_mode": {
    "name": "ipython",
    "version": 3
   },
   "file_extension": ".py",
   "mimetype": "text/x-python",
   "name": "python",
   "nbconvert_exporter": "python",
   "pygments_lexer": "ipython3",
   "version": "3.7.0"
  }
 },
 "nbformat": 4,
 "nbformat_minor": 2
}
