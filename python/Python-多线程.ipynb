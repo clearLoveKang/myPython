{
 "cells": [
  {
   "cell_type": "code",
   "execution_count": 1,
   "metadata": {},
   "outputs": [
    {
     "name": "stdout",
     "output_type": "stream",
     "text": [
      "main start ...Tue Nov 20 16:13:01 2018\n",
      "main end ...Tue Nov 20 16:13:01 2018\n",
      "loop2 start workTue Nov 20 16:13:01 2018\n",
      "loop1 start workTue Nov 20 16:13:01 2018\n",
      "loop1 end workTue Nov 20 16:13:04 2018\n",
      "loop2 end workTue Nov 20 16:13:05 2018\n"
     ]
    }
   ],
   "source": [
    "import _thread as thread\n",
    "import time\n",
    "\n",
    "def loop1():\n",
    "    print('loop1 start work{0}'.format(time.ctime()))\n",
    "    time.sleep(3)\n",
    "    print('loop1 end work{0}'.format(time.ctime()))\n",
    "\n",
    "def loop2():\n",
    "    print('loop2 start work{0}'.format(time.ctime()))\n",
    "    time.sleep(4)\n",
    "    print('loop2 end work{0}'.format(time.ctime()))\n",
    "\n",
    "def main():\n",
    "    print('main start ...{0}'.format(time.ctime()))\n",
    "    thread.start_new_thread(loop1, ())\n",
    "    thread.start_new_thread(loop2, ())\n",
    "    print('main end ...{0}'.format(time.ctime()))\n",
    "\n",
    "\n",
    "if __name__ == '__main__':\n",
    "    main()\n",
    "#     while True:\n",
    "#         time.sleep(5)"
   ]
  },
  {
   "cell_type": "markdown",
   "metadata": {},
   "source": [
    "# 共享变量\n",
    "- 多个线程享用同变量\n",
    "- 锁 Lock\n",
    "    - 是一个标准,表示一个线程在占用一些资源\n",
    "    - 使用方法\n",
    "        - 上锁\n",
    "        - 使用共享资源\n",
    "        - 取消锁 释放\n",
    "    - 锁谁\n",
    "        - 那个资源需要多个资源共享\n",
    "        - 并不是真正锁住,相当于令牌谁拿到谁能用"
   ]
  },
  {
   "cell_type": "code",
   "execution_count": 5,
   "metadata": {},
   "outputs": [
    {
     "name": "stdout",
     "output_type": "stream",
     "text": [
      "99999\n",
      "0\n"
     ]
    }
   ],
   "source": [
    "import threading\n",
    "\n",
    "sum = 0\n",
    "loopSum = 100000\n",
    "\n",
    "def add():\n",
    "    global sum, loopSum\n",
    "    for i in range(1, loopSum):\n",
    "        sum += 1\n",
    "        \n",
    "def sub():\n",
    "    global sum, loopSum\n",
    "    for i in range(1, loopSum):\n",
    "        sum -=1\n",
    "        \n",
    "if __name__ == '__main__':\n",
    "    add()\n",
    "    print(sum)\n",
    "    sub()\n",
    "    print(sum)\n",
    "    "
   ]
  },
  {
   "cell_type": "markdown",
   "metadata": {},
   "source": [
    "## 线程安全\n",
    "- 一个变量/资源 对于多线程来讲 不用加锁也不会出现任何问题 就称为线程安全问题\n",
    "- 线程不安全变量类型: list set dict\n",
    "- 线程安全变量类型: queue(队列)"
   ]
  },
  {
   "cell_type": "markdown",
   "metadata": {},
   "source": [
    "## 生产者消费问题\n",
    "- 一个模型 可以放置消息队列\n",
    "- queue\n",
    "    - 存放变量的数据结构\n",
    "    - 先进先出,内部元素排队 \n",
    "    - 特殊的list"
   ]
  },
  {
   "cell_type": "code",
   "execution_count": 8,
   "metadata": {},
   "outputs": [
    {
     "name": "stdout",
     "output_type": "stream",
     "text": [
      "Help on Queue in module queue object:\n",
      "\n",
      "class Queue(builtins.object)\n",
      " |  Queue(maxsize=0)\n",
      " |  \n",
      " |  Create a queue object with a given maximum size.\n",
      " |  \n",
      " |  If maxsize is <= 0, the queue size is infinite.\n",
      " |  \n",
      " |  Methods defined here:\n",
      " |  \n",
      " |  __init__(self, maxsize=0)\n",
      " |      Initialize self.  See help(type(self)) for accurate signature.\n",
      " |  \n",
      " |  empty(self)\n",
      " |      Return True if the queue is empty, False otherwise (not reliable!).\n",
      " |      \n",
      " |      This method is likely to be removed at some point.  Use qsize() == 0\n",
      " |      as a direct substitute, but be aware that either approach risks a race\n",
      " |      condition where a queue can grow before the result of empty() or\n",
      " |      qsize() can be used.\n",
      " |      \n",
      " |      To create code that needs to wait for all queued tasks to be\n",
      " |      completed, the preferred technique is to use the join() method.\n",
      " |  \n",
      " |  full(self)\n",
      " |      Return True if the queue is full, False otherwise (not reliable!).\n",
      " |      \n",
      " |      This method is likely to be removed at some point.  Use qsize() >= n\n",
      " |      as a direct substitute, but be aware that either approach risks a race\n",
      " |      condition where a queue can shrink before the result of full() or\n",
      " |      qsize() can be used.\n",
      " |  \n",
      " |  get(self, block=True, timeout=None)\n",
      " |      Remove and return an item from the queue.\n",
      " |      \n",
      " |      If optional args 'block' is true and 'timeout' is None (the default),\n",
      " |      block if necessary until an item is available. If 'timeout' is\n",
      " |      a non-negative number, it blocks at most 'timeout' seconds and raises\n",
      " |      the Empty exception if no item was available within that time.\n",
      " |      Otherwise ('block' is false), return an item if one is immediately\n",
      " |      available, else raise the Empty exception ('timeout' is ignored\n",
      " |      in that case).\n",
      " |  \n",
      " |  get_nowait(self)\n",
      " |      Remove and return an item from the queue without blocking.\n",
      " |      \n",
      " |      Only get an item if one is immediately available. Otherwise\n",
      " |      raise the Empty exception.\n",
      " |  \n",
      " |  join(self)\n",
      " |      Blocks until all items in the Queue have been gotten and processed.\n",
      " |      \n",
      " |      The count of unfinished tasks goes up whenever an item is added to the\n",
      " |      queue. The count goes down whenever a consumer thread calls task_done()\n",
      " |      to indicate the item was retrieved and all work on it is complete.\n",
      " |      \n",
      " |      When the count of unfinished tasks drops to zero, join() unblocks.\n",
      " |  \n",
      " |  put(self, item, block=True, timeout=None)\n",
      " |      Put an item into the queue.\n",
      " |      \n",
      " |      If optional args 'block' is true and 'timeout' is None (the default),\n",
      " |      block if necessary until a free slot is available. If 'timeout' is\n",
      " |      a non-negative number, it blocks at most 'timeout' seconds and raises\n",
      " |      the Full exception if no free slot was available within that time.\n",
      " |      Otherwise ('block' is false), put an item on the queue if a free slot\n",
      " |      is immediately available, else raise the Full exception ('timeout'\n",
      " |      is ignored in that case).\n",
      " |  \n",
      " |  put_nowait(self, item)\n",
      " |      Put an item into the queue without blocking.\n",
      " |      \n",
      " |      Only enqueue the item if a free slot is immediately available.\n",
      " |      Otherwise raise the Full exception.\n",
      " |  \n",
      " |  qsize(self)\n",
      " |      Return the approximate size of the queue (not reliable!).\n",
      " |  \n",
      " |  task_done(self)\n",
      " |      Indicate that a formerly enqueued task is complete.\n",
      " |      \n",
      " |      Used by Queue consumer threads.  For each get() used to fetch a task,\n",
      " |      a subsequent call to task_done() tells the queue that the processing\n",
      " |      on the task is complete.\n",
      " |      \n",
      " |      If a join() is currently blocking, it will resume when all items\n",
      " |      have been processed (meaning that a task_done() call was received\n",
      " |      for every item that had been put() into the queue).\n",
      " |      \n",
      " |      Raises a ValueError if called more times than there were items\n",
      " |      placed in the queue.\n",
      " |  \n",
      " |  ----------------------------------------------------------------------\n",
      " |  Data descriptors defined here:\n",
      " |  \n",
      " |  __dict__\n",
      " |      dictionary for instance variables (if defined)\n",
      " |  \n",
      " |  __weakref__\n",
      " |      list of weak references to the object (if defined)\n",
      "\n"
     ]
    }
   ],
   "source": [
    "import queue\n",
    "help(queue.Queue())"
   ]
  }
 ],
 "metadata": {
  "kernelspec": {
   "display_name": "Python 3",
   "language": "python",
   "name": "python3"
  },
  "language_info": {
   "codemirror_mode": {
    "name": "ipython",
    "version": 3
   },
   "file_extension": ".py",
   "mimetype": "text/x-python",
   "name": "python",
   "nbconvert_exporter": "python",
   "pygments_lexer": "ipython3",
   "version": "3.7.0"
  }
 },
 "nbformat": 4,
 "nbformat_minor": 2
}
