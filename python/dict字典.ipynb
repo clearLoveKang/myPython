{
 "cells": [
  {
   "cell_type": "markdown",
   "metadata": {},
   "source": [
    "# dict字典\n",
    "- 字典是一种数据结构,没有顺序的组合数据,数据已键值对的形式存在"
   ]
  },
  {
   "cell_type": "code",
   "execution_count": 9,
   "metadata": {},
   "outputs": [
    {
     "name": "stdout",
     "output_type": "stream",
     "text": [
      "<class 'dict'>\n",
      "<class 'dict'>\n",
      "{'one': 1, 'two': 2, 'three': 3}\n",
      "{'one': 1, 'two': 2, 'three': 3}\n",
      "{'one': 1, 'two': 2, 'three': 3}\n",
      "{'one': 1, 'two': 2, 'three': 3}\n"
     ]
    }
   ],
   "source": [
    "# 首先那就是字典创建咯\n",
    "d = {}\n",
    "print(type(d))\n",
    "\n",
    "d1 = dict()\n",
    "print(type(d1))\n",
    "\n",
    "d2 = {'one':1,'two':2, 'three':3}\n",
    "print(d2)\n",
    "\n",
    "d3 = dict({'one':1,'two':2, 'three':3})\n",
    "print(d3)\n",
    "\n",
    "# 通过关键字参数形式创建\n",
    "d4 = dict(one=1,two=2, three=3)\n",
    "print(d4)\n",
    "\n",
    "# 复杂型的创建dict\n",
    "d5 = dict([('one',1),('two',2),('three',3)])\n",
    "print(d5)"
   ]
  },
  {
   "cell_type": "markdown",
   "metadata": {},
   "source": [
    "# dict字典的特性\n",
    "- 字典是序列类型,但是无序序列,所以没有分片和索引操作\n",
    "- 字典中的数据每个都是键值对 kv类型\n",
    "    - key: 必须可哈希的值,str int float tuple 但是 list dict set 不行\n",
    "    - value : 任何值"
   ]
  },
  {
   "cell_type": "markdown",
   "metadata": {},
   "source": [
    "# 字典常见操作"
   ]
  },
  {
   "cell_type": "code",
   "execution_count": 13,
   "metadata": {},
   "outputs": [
    {
     "name": "stdout",
     "output_type": "stream",
     "text": [
      "1\n",
      "{'one': 111, 'two': 2, 'three': 3}\n",
      "{'two': 2, 'three': 3}\n"
     ]
    }
   ],
   "source": [
    "# 字典的查询\n",
    "d = {'one':1,'two':2, 'three':3}\n",
    "print(d['one'])\n",
    "\n",
    "# 字典的修改\n",
    "d['one'] = 111\n",
    "print(d)\n",
    "\n",
    "# 字典的删除操作\n",
    "del d['one']\n",
    "print(d)"
   ]
  },
  {
   "cell_type": "code",
   "execution_count": 15,
   "metadata": {},
   "outputs": [
    {
     "name": "stdout",
     "output_type": "stream",
     "text": [
      "KEY\n"
     ]
    }
   ],
   "source": [
    "# 成员检测\n",
    "# in   ont in \n",
    "d = {'one':1,'two':2, 'three':3}\n",
    "if 'one' in d:\n",
    "    print('KEY')\n",
    "    \n",
    "if 1 in d:\n",
    "    print('value')\n",
    "    \n",
    "if ('one',1) in d:\n",
    "    print('kv')\n",
    "    "
   ]
  },
  {
   "cell_type": "markdown",
   "metadata": {},
   "source": [
    "# dict字典的遍历"
   ]
  },
  {
   "cell_type": "code",
   "execution_count": 20,
   "metadata": {},
   "outputs": [
    {
     "name": "stdout",
     "output_type": "stream",
     "text": [
      "one ... 1\n",
      "two ... 2\n",
      "three ... 3\n",
      "one\n",
      "two\n",
      "three\n",
      "1\n",
      "2\n",
      "3\n",
      "('one', 1)\n",
      "('two', 2)\n",
      "('three', 3)\n"
     ]
    }
   ],
   "source": [
    "# 字典的遍历\n",
    "d = {'one':1,'two':2, 'three':3}\n",
    "\n",
    "# 使用for循环直接访问键值\n",
    "for k in d:\n",
    "    print(k,'...',d[k])\n",
    "\n",
    "# 使用for循环直接访问 keys\n",
    "for k in d.keys():\n",
    "    print(k)\n",
    "    \n",
    "# 使用for循环直接访问 values\n",
    "for k in d.values():\n",
    "    print(k)\n",
    "    \n",
    "# 使用for循环直接访问 kv items\n",
    "for k in d.items():\n",
    "    print(k)"
   ]
  },
  {
   "cell_type": "markdown",
   "metadata": {},
   "source": [
    "# dict字典生成式"
   ]
  },
  {
   "cell_type": "code",
   "execution_count": 25,
   "metadata": {},
   "outputs": [
    {
     "name": "stdout",
     "output_type": "stream",
     "text": [
      "{'one': 1, 'two': 2, 'three': 3}\n",
      "{'two': 2}\n"
     ]
    }
   ],
   "source": [
    "# dict字典生成是\n",
    "d = {'one':1,'two':2, 'three':3}\n",
    "\n",
    "dd = {k:v for k,v in d.items()}\n",
    "print(dd)\n",
    "\n",
    "# 字典生成式本身无意义, 用途常在过滤操作\n",
    "dd = {k:v for k,v in d.items() if v%2 == 0} \n",
    "print(dd)"
   ]
  },
  {
   "cell_type": "markdown",
   "metadata": {},
   "source": [
    "# 字典相关的函数"
   ]
  },
  {
   "cell_type": "code",
   "execution_count": 28,
   "metadata": {},
   "outputs": [
    {
     "name": "stdout",
     "output_type": "stream",
     "text": [
      "{'one': 1, 'two': 2, 'three': 3}\n"
     ]
    }
   ],
   "source": [
    "# 常见函数 max min len dict\n",
    "# str 返回字典的字符串格式\n",
    "d = {'one':1,'two':2, 'three':3}\n",
    "print(str(d))"
   ]
  },
  {
   "cell_type": "code",
   "execution_count": 31,
   "metadata": {},
   "outputs": [
    {
     "name": "stdout",
     "output_type": "stream",
     "text": [
      "{}\n",
      "<class 'dict'>\n"
     ]
    }
   ],
   "source": [
    "# clear 清除操作\n",
    "d = {'one':1,'two':2, 'three':3}\n",
    "d.clear()\n",
    "print(d)\n",
    "print(type(d))"
   ]
  },
  {
   "cell_type": "code",
   "execution_count": 34,
   "metadata": {},
   "outputs": [
    {
     "name": "stdout",
     "output_type": "stream",
     "text": [
      "<class 'dict_items'>\n",
      "dict_items([('one', 1), ('two', 2), ('three', 3)])\n"
     ]
    }
   ],
   "source": [
    "# items 返回字典的键值组成的结构\n",
    "d = {'one':1,'two':2, 'three':3}\n",
    "l = d.items()\n",
    "print(type(l))\n",
    "print(l)"
   ]
  },
  {
   "cell_type": "code",
   "execution_count": 36,
   "metadata": {},
   "outputs": [
    {
     "name": "stdout",
     "output_type": "stream",
     "text": [
      "<class 'dict_keys'>\n",
      "dict_keys(['one', 'two', 'three'])\n"
     ]
    }
   ],
   "source": [
    "# keys 返回字典的key组成的结构\n",
    "d = {'one':1,'two':2, 'three':3}\n",
    "l = d.keys()\n",
    "print(type(l))\n",
    "print(l)"
   ]
  },
  {
   "cell_type": "code",
   "execution_count": 38,
   "metadata": {},
   "outputs": [
    {
     "name": "stdout",
     "output_type": "stream",
     "text": [
      "<class 'dict_values'>\n",
      "dict_values([1, 2, 3])\n"
     ]
    }
   ],
   "source": [
    "# values 返回字典的value组成的结构 一个可迭代的结构\n",
    "d = {'one':1,'two':2, 'three':3}\n",
    "l = d.values()\n",
    "print(type(l))\n",
    "print(l)"
   ]
  },
  {
   "cell_type": "code",
   "execution_count": 42,
   "metadata": {},
   "outputs": [
    {
     "name": "stdout",
     "output_type": "stream",
     "text": [
      "没有找到返回的默认值\n"
     ]
    },
    {
     "ename": "NameError",
     "evalue": "name 'osos' is not defined",
     "output_type": "error",
     "traceback": [
      "\u001b[0;31m---------------------------------------------------------------------------\u001b[0m",
      "\u001b[0;31mNameError\u001b[0m                                 Traceback (most recent call last)",
      "\u001b[0;32m<ipython-input-42-a4b1d36085f7>\u001b[0m in \u001b[0;36m<module>\u001b[0;34m()\u001b[0m\n\u001b[1;32m      3\u001b[0m \u001b[0md\u001b[0m \u001b[0;34m=\u001b[0m \u001b[0;34m{\u001b[0m\u001b[0;34m'one'\u001b[0m\u001b[0;34m:\u001b[0m\u001b[0;36m1\u001b[0m\u001b[0;34m,\u001b[0m\u001b[0;34m'two'\u001b[0m\u001b[0;34m:\u001b[0m\u001b[0;36m2\u001b[0m\u001b[0;34m,\u001b[0m \u001b[0;34m'three'\u001b[0m\u001b[0;34m:\u001b[0m\u001b[0;36m3\u001b[0m\u001b[0;34m}\u001b[0m\u001b[0;34m\u001b[0m\u001b[0m\n\u001b[1;32m      4\u001b[0m \u001b[0mprint\u001b[0m\u001b[0;34m(\u001b[0m\u001b[0md\u001b[0m\u001b[0;34m.\u001b[0m\u001b[0mget\u001b[0m\u001b[0;34m(\u001b[0m\u001b[0;34m'osos'\u001b[0m\u001b[0;34m,\u001b[0m\u001b[0;34m'没有找到返回的默认值'\u001b[0m\u001b[0;34m)\u001b[0m\u001b[0;34m)\u001b[0m\u001b[0;34m\u001b[0m\u001b[0m\n\u001b[0;32m----> 5\u001b[0;31m \u001b[0mprint\u001b[0m\u001b[0;34m(\u001b[0m\u001b[0md\u001b[0m\u001b[0;34m[\u001b[0m\u001b[0mosos\u001b[0m\u001b[0;34m]\u001b[0m\u001b[0;34m)\u001b[0m\u001b[0;34m\u001b[0m\u001b[0m\n\u001b[0m",
      "\u001b[0;31mNameError\u001b[0m: name 'osos' is not defined"
     ]
    }
   ],
   "source": [
    "# get 根据指定键返回相应的值 \n",
    "# get 好处是可以设置默认值 防止报错\n",
    "d = {'one':1,'two':2, 'three':3}\n",
    "print(d.get('osos','没有找到返回的默认值'))\n",
    "print(d[osos])"
   ]
  },
  {
   "cell_type": "code",
   "execution_count": 47,
   "metadata": {},
   "outputs": [
    {
     "name": "stdout",
     "output_type": "stream",
     "text": [
      "{'one': 'haha', 'two': 'haha', 'three': 'haha'}\n",
      "{'one': 'haha', 'two': 'haha', 'three': 'haha'}\n"
     ]
    }
   ],
   "source": [
    "# fromkeys 使用指定的序列为键,使用一个值作为字典的所有键的值\n",
    "l = ['one','two','three']\n",
    "d = dict.fromkeys(l,'haha')\n",
    "print(d)"
   ]
  }
 ],
 "metadata": {
  "kernelspec": {
   "display_name": "Python 3",
   "language": "python",
   "name": "python3"
  },
  "language_info": {
   "codemirror_mode": {
    "name": "ipython",
    "version": 3
   },
   "file_extension": ".py",
   "mimetype": "text/x-python",
   "name": "python",
   "nbconvert_exporter": "python",
   "pygments_lexer": "ipython3",
   "version": "3.6.6"
  }
 },
 "nbformat": 4,
 "nbformat_minor": 2
}
