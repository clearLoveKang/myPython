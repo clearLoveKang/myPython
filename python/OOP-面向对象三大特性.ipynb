{
 "cells": [
  {
   "cell_type": "markdown",
   "metadata": {},
   "source": [
    "# 面向对象三大特性\n",
    "- 封装\n",
    "    - 封装就是对对象里面成员访问权限的限制\n",
    "    - 三个级别 \n",
    "        - public 公开的\n",
    "        - protected 受保护的\n",
    "        - private 私有的\n",
    "    - 判别对象的位置\n",
    "        - 对象内部\n",
    "        - 对象外部\n",
    "        - 子类中\n",
    "    - 私有\n",
    "        - 私有成员是最高级别的封装,只能在当前类和对象中访问\n",
    "        - 在成员前面加两个下划线即可 两个下划线\n",
    "        \n",
    "            class A():\n",
    "                __name = 'kk'\n",
    "- 继承\n",
    "\n",
    "- 多态"
   ]
  },
  {
   "cell_type": "code",
   "execution_count": 3,
   "metadata": {},
   "outputs": [
    {
     "name": "stdout",
     "output_type": "stream",
     "text": [
      "xiaoming\n"
     ]
    },
    {
     "ename": "AttributeError",
     "evalue": "'Person' object has no attribute '__age'",
     "output_type": "error",
     "traceback": [
      "\u001b[0;31m---------------------------------------------------------------------------\u001b[0m",
      "\u001b[0;31mAttributeError\u001b[0m                            Traceback (most recent call last)",
      "\u001b[0;32m<ipython-input-3-159e10e95824>\u001b[0m in \u001b[0;36m<module>\u001b[0;34m()\u001b[0m\n\u001b[1;32m      6\u001b[0m \u001b[0mp\u001b[0m \u001b[0;34m=\u001b[0m \u001b[0mPerson\u001b[0m\u001b[0;34m(\u001b[0m\u001b[0;34m)\u001b[0m\u001b[0;34m\u001b[0m\u001b[0m\n\u001b[1;32m      7\u001b[0m \u001b[0mprint\u001b[0m\u001b[0;34m(\u001b[0m\u001b[0mp\u001b[0m\u001b[0;34m.\u001b[0m\u001b[0mname\u001b[0m\u001b[0;34m)\u001b[0m\u001b[0;34m\u001b[0m\u001b[0m\n\u001b[0;32m----> 8\u001b[0;31m \u001b[0mprint\u001b[0m\u001b[0;34m(\u001b[0m\u001b[0mp\u001b[0m\u001b[0;34m.\u001b[0m\u001b[0m__age\u001b[0m\u001b[0;34m)\u001b[0m\u001b[0;34m\u001b[0m\u001b[0m\n\u001b[0m",
      "\u001b[0;31mAttributeError\u001b[0m: 'Person' object has no attribute '__age'"
     ]
    }
   ],
   "source": [
    "# python 的私有并不是真的私有,障眼法只是name mangling的改变\n",
    "class Person():\n",
    "    name = 'xiaoming'\n",
    "    __age = 18\n",
    "\n",
    "p = Person()\n",
    "print(p.name)\n",
    "print(p.__age)"
   ]
  },
  {
   "cell_type": "code",
   "execution_count": 6,
   "metadata": {},
   "outputs": [
    {
     "name": "stdout",
     "output_type": "stream",
     "text": [
      "{'__module__': '__main__', 'name': 'xiaoming', '_Person__age': 18, '__dict__': <attribute '__dict__' of 'Person' objects>, '__weakref__': <attribute '__weakref__' of 'Person' objects>, '__doc__': None}\n",
      "19\n"
     ]
    }
   ],
   "source": [
    "# name mangling技术\n",
    "print(Person.__dict__)\n",
    "# 老子不信邪非要访问\n",
    "p._Person__age = 19\n",
    "print(p._Person__age)"
   ]
  },
  {
   "cell_type": "markdown",
   "metadata": {},
   "source": [
    "## 受保护的封装\n",
    "    - protected 受保护的\n",
    "    - 是对类的成员进行一定的访问限制\n",
    "    - 在类中或者子类中可进行访问在外部不可以进行访问\n",
    "    - 方法是在名字前加上一个下划线   一个下划线"
   ]
  },
  {
   "cell_type": "markdown",
   "metadata": {},
   "source": [
    "# 继承 \n",
    "- 一个类可以使用另一个类的属性和方法\n",
    "- 父类是子类的一个子集 \n",
    "- 子类拥有父类所有属性方法,还可有自己属性方法\n",
    "## 作用\n",
    "- 减少代码\n",
    "- 增加代码的可读性,复用性\n",
    "- 长江后浪推前浪一代更比一代强\n",
    "## 继承与被继承的关系\n",
    "- 被继承的类叫父类,也叫基类,超类\n",
    "- 用于继承的类叫子类,也叫派生类\n",
    "- 继承与被继承一定存在一个 is a 关系"
   ]
  },
  {
   "cell_type": "code",
   "execution_count": 8,
   "metadata": {},
   "outputs": [
    {
     "name": "stdout",
     "output_type": "stream",
     "text": [
      "xiaoming\n",
      "xiaoming\n"
     ]
    }
   ],
   "source": [
    "#  继承的语法\n",
    "# 在Python中任何类都有一个共同的父类 object\n",
    "class Person():\n",
    "    name = 'xiaoming'\n",
    "    age = 18\n",
    "    def sleep(self):\n",
    "        print('Sleeping...')\n",
    "    \n",
    "# 继承父类 父类写在括号里\n",
    "class Teacher(Person):\n",
    "    pass\n",
    "t = Teacher()\n",
    "print(t.name)\n",
    "print(Teacher.name)"
   ]
  },
  {
   "cell_type": "markdown",
   "metadata": {},
   "source": [
    "# 继承的特征\n",
    "- 所有的类都继承自object\n",
    "- 子类一旦继承,可以使用父类除私有外所有的内容\n",
    "- 子类继承父类后并不是把父类的属性方法赋值到子类中,而是通过引用关系访问\n",
    "- 子类可以定义独有的属性和方法\n",
    "    - 老师继承自人,然而老师有自己教学功能,就成了一个新的物种\n",
    "- 子类父类拥有相同属性方法,优先使用子类的\n",
    "- 子类想要扩充父类的内容\n",
    "    - 父类名.子类名格式进行调用\n",
    "    - 也可以使用super()"
   ]
  },
  {
   "cell_type": "code",
   "execution_count": 14,
   "metadata": {},
   "outputs": [
    {
     "name": "stdout",
     "output_type": "stream",
     "text": [
      "公开的属性 xiaoming\n",
      "限制性内容 mingming\n",
      "优先使用子类属性 25\n"
     ]
    }
   ],
   "source": [
    "# 基本继承特征\n",
    "class Person():\n",
    "    name = 'xiaoming'\n",
    "    age = 18\n",
    "    # 搜保护的内容\n",
    "    _petname = 'mingming'\n",
    "    # 私有内容\n",
    "    __score = '99分'\n",
    "    def sleep(self):\n",
    "        print('Sleeping...')\n",
    "class Teacher(Person):\n",
    "    age = 25\n",
    "    \n",
    "\n",
    "t = Teacher()\n",
    "print('公开的属性',t.name)\n",
    "print('限制性内容',t._petname)\n",
    "print('优先使用子类属性',t.age)\n",
    "# print('私有内容访问报错',t.__score)\n"
   ]
  },
  {
   "cell_type": "code",
   "execution_count": 42,
   "metadata": {},
   "outputs": [
    {
     "name": "stdout",
     "output_type": "stream",
     "text": [
      "<super: <class 'Teacher'>, <Teacher object>>\n",
      "(<class '__main__.Teacher'>, <class '__main__.Person'>, <class 'object'>)\n",
      "赚钱养家\n",
      "老师需要考试\n"
     ]
    }
   ],
   "source": [
    "# 特地来搞一下扩充\n",
    "class Person():\n",
    "    name = 'xiaoming'\n",
    "    age = 18\n",
    "    # 搜保护的内容\n",
    "    _petname = 'mingming'\n",
    "    # 私有内容\n",
    "    __score = '99分'\n",
    "    def sleep(self):\n",
    "        print('Sleeping...')\n",
    "    def work(self):\n",
    "        print('赚钱养家')\n",
    "        \n",
    "# 老师继承自人属性        \n",
    "class Teacher(Person):\n",
    "    age = 25\n",
    "    def make_test(self):\n",
    "        print('老师需要考试')\n",
    "    def work(self):\n",
    "        # 扩充弗雷功能只需要调用父类相应的函数\n",
    "        #Person.work(self)\n",
    "        \n",
    "        #第二种方法\n",
    "        print(super())\n",
    "        print(Teacher.__mro__)\n",
    "        super().work()\n",
    "        self.make_test()\n",
    "\n",
    "t = Teacher()\n",
    "t.work()"
   ]
  },
  {
   "cell_type": "markdown",
   "metadata": {},
   "source": [
    "# 继承变量函数的查找顺序问题\n",
    "- 优先查找自己的变量\n",
    "- 没有的话去查找父类变量\n",
    "- 构造函数如果本身没有定义,自动查找构父类造函数\n",
    "- 如果本类有构造函数,则不再向上查找"
   ]
  },
  {
   "cell_type": "markdown",
   "metadata": {},
   "source": [
    "# 构造函数\n",
    "- 概念\n",
    "    - 是一类特殊的函数,在类进行初始化的时候就调用"
   ]
  },
  {
   "cell_type": "code",
   "execution_count": 20,
   "metadata": {},
   "outputs": [
    {
     "name": "stdout",
     "output_type": "stream",
     "text": [
      "I am Dog\n"
     ]
    }
   ],
   "source": [
    "# 构造函数的概念\n",
    "class Dog():\n",
    "    # __init__ 函数名\n",
    "    # 每次实例化的时候第一个自动被调用\n",
    "    # 主要作用于初始化\n",
    "    def __init__(self):\n",
    "        print('I am Dog')\n",
    "\n",
    "# 实例化的时候括号内的参数,必须与构造函数的参数匹配\n",
    "d = Dog()"
   ]
  },
  {
   "cell_type": "code",
   "execution_count": 22,
   "metadata": {},
   "outputs": [
    {
     "name": "stdout",
     "output_type": "stream",
     "text": [
      "I am Dog\n"
     ]
    }
   ],
   "source": [
    "# 在继承中的构造函数01\n",
    "class Animel():\n",
    "    pass\n",
    "class PaxingAni(Animel):\n",
    "    pass\n",
    "\n",
    "\n",
    "class Dog(PaxingAni):\n",
    "    # __init__ 函数名\n",
    "    # 每次实例化的时候第一个自动被调用\n",
    "    # 主要作用于初始化\n",
    "    def __init__(self):\n",
    "        print('I am Dog')\n",
    "\n",
    "d = Dog()"
   ]
  },
  {
   "cell_type": "code",
   "execution_count": 25,
   "metadata": {},
   "outputs": [
    {
     "name": "stdout",
     "output_type": "stream",
     "text": [
      "I am Dog\n",
      "爬行动物构造函数\n"
     ]
    }
   ],
   "source": [
    "# 在继承中的构造函数02\n",
    "class Animel():\n",
    "    pass\n",
    "class PaxingAni(Animel):\n",
    "    def __init__(self):\n",
    "        print('爬行动物构造函数')\n",
    "\n",
    "\n",
    "class Dog(PaxingAni):\n",
    "    # __init__ 函数名\n",
    "    # 每次实例化的时候第一个自动被调用\n",
    "    # 主要作用于初始化\n",
    "    def __init__(self):\n",
    "        print('I am Dog')\n",
    "\n",
    "d = Dog()\n",
    "\n",
    "class Cat(PaxingAni):\n",
    "    pass\n",
    "# 类cat中没有构造函数,看是否去寻找上层构造函数\n",
    "c = Cat()"
   ]
  },
  {
   "cell_type": "code",
   "execution_count": 30,
   "metadata": {},
   "outputs": [
    {
     "name": "stdout",
     "output_type": "stream",
     "text": [
      "I am Dog\n",
      "爬行动物构造函数kk\n"
     ]
    },
    {
     "ename": "TypeError",
     "evalue": "__init__() missing 1 required positional argument: 'name'",
     "output_type": "error",
     "traceback": [
      "\u001b[0;31m---------------------------------------------------------------------------\u001b[0m",
      "\u001b[0;31mTypeError\u001b[0m                                 Traceback (most recent call last)",
      "\u001b[0;32m<ipython-input-30-70be71a1d472>\u001b[0m in \u001b[0;36m<module>\u001b[0;34m()\u001b[0m\n\u001b[1;32m     22\u001b[0m     \u001b[0;32mpass\u001b[0m\u001b[0;34m\u001b[0m\u001b[0m\n\u001b[1;32m     23\u001b[0m \u001b[0mc\u001b[0m \u001b[0;34m=\u001b[0m \u001b[0mCat\u001b[0m\u001b[0;34m(\u001b[0m\u001b[0;34m'kk'\u001b[0m\u001b[0;34m)\u001b[0m\u001b[0;34m\u001b[0m\u001b[0m\n\u001b[0;32m---> 24\u001b[0;31m \u001b[0mc\u001b[0m \u001b[0;34m=\u001b[0m \u001b[0mCat\u001b[0m\u001b[0;34m(\u001b[0m\u001b[0;34m)\u001b[0m\u001b[0;34m\u001b[0m\u001b[0m\n\u001b[0m\u001b[1;32m     25\u001b[0m \u001b[0;31m# 查找构造函数会逐层向上查找,查到最近的就停止\u001b[0m\u001b[0;34m\u001b[0m\u001b[0;34m\u001b[0m\u001b[0m\n",
      "\u001b[0;31mTypeError\u001b[0m: __init__() missing 1 required positional argument: 'name'"
     ]
    }
   ],
   "source": [
    "# 在继承中的构造函数03\n",
    "class Animel():\n",
    "    pass\n",
    "class PaxingAni(Animel):\n",
    "    # 构造函数多加了name\n",
    "    def __init__(self,name):\n",
    "        print('爬行动物构造函数{0}'.format(name))\n",
    "\n",
    "\n",
    "class Dog(PaxingAni):\n",
    "    # __init__ 函数名\n",
    "    # 每次实例化的时候第一个自动被调用\n",
    "    # 主要作用于初始化\n",
    "    def __init__(self):\n",
    "        print('I am Dog')\n",
    "\n",
    "# 实例化Dog时 Dog存在构造函数,不报错    \n",
    "d = Dog()\n",
    "\n",
    "# 子类没有构造函数,想上去找构造函数,上层构造函数有两个参数会报错\n",
    "class Cat(PaxingAni):\n",
    "    pass\n",
    "c = Cat('kk')\n",
    "c = Cat()\n",
    "# 查找构造函数会逐层向上查找,查到最近的就停止"
   ]
  },
  {
   "cell_type": "markdown",
   "metadata": {},
   "source": [
    "# super \n",
    "- 不是一个关键字,而是一个类啊\n",
    "- 还真不是代表父类,他是表示获取MRO(方法解析顺序)列表中的第一个类\n",
    "- 可以当成获取父类\n",
    "## super的使用\n",
    "    - 在构造函数中调用父类构造函数"
   ]
  },
  {
   "cell_type": "code",
   "execution_count": 35,
   "metadata": {},
   "outputs": [
    {
     "name": "stdout",
     "output_type": "stream",
     "text": [
      "<class 'type'>\n",
      "Help on class super in module builtins:\n",
      "\n",
      "class super(object)\n",
      " |  super() -> same as super(__class__, <first argument>)\n",
      " |  super(type) -> unbound super object\n",
      " |  super(type, obj) -> bound super object; requires isinstance(obj, type)\n",
      " |  super(type, type2) -> bound super object; requires issubclass(type2, type)\n",
      " |  Typical use to call a cooperative superclass method:\n",
      " |  class C(B):\n",
      " |      def meth(self, arg):\n",
      " |          super().meth(arg)\n",
      " |  This works for class methods too:\n",
      " |  class C(B):\n",
      " |      @classmethod\n",
      " |      def cmeth(cls, arg):\n",
      " |          super().cmeth(arg)\n",
      " |  \n",
      " |  Methods defined here:\n",
      " |  \n",
      " |  __get__(self, instance, owner, /)\n",
      " |      Return an attribute of instance, which is of type owner.\n",
      " |  \n",
      " |  __getattribute__(self, name, /)\n",
      " |      Return getattr(self, name).\n",
      " |  \n",
      " |  __init__(self, /, *args, **kwargs)\n",
      " |      Initialize self.  See help(type(self)) for accurate signature.\n",
      " |  \n",
      " |  __repr__(self, /)\n",
      " |      Return repr(self).\n",
      " |  \n",
      " |  ----------------------------------------------------------------------\n",
      " |  Static methods defined here:\n",
      " |  \n",
      " |  __new__(*args, **kwargs) from builtins.type\n",
      " |      Create and return a new object.  See help(type) for accurate signature.\n",
      " |  \n",
      " |  ----------------------------------------------------------------------\n",
      " |  Data descriptors defined here:\n",
      " |  \n",
      " |  __self__\n",
      " |      the instance invoking super(); may be None\n",
      " |  \n",
      " |  __self_class__\n",
      " |      the type of the instance invoking super(); may be None\n",
      " |  \n",
      " |  __thisclass__\n",
      " |      the class invoking super()\n",
      "\n"
     ]
    }
   ],
   "source": [
    "# 证明super不是关键字是个类\n",
    "print(type(super))\n",
    "help(super)"
   ]
  },
  {
   "cell_type": "code",
   "execution_count": 36,
   "metadata": {},
   "outputs": [
    {
     "name": "stdout",
     "output_type": "stream",
     "text": [
      "(<class '__main__.A'>, <class 'object'>)\n",
      "(<class '__main__.B'>, <class '__main__.A'>, <class 'object'>)\n"
     ]
    }
   ],
   "source": [
    "# MRO\n",
    "# 查询类的继承结构列表\n",
    "class A():\n",
    "    pass\n",
    "class B(A):\n",
    "    pass\n",
    "\n",
    "print(A.__mro__)\n",
    "print(B.__mro__)\n"
   ]
  }
 ],
 "metadata": {
  "kernelspec": {
   "display_name": "Python 3",
   "language": "python",
   "name": "python3"
  },
  "language_info": {
   "codemirror_mode": {
    "name": "ipython",
    "version": 3
   },
   "file_extension": ".py",
   "mimetype": "text/x-python",
   "name": "python",
   "nbconvert_exporter": "python",
   "pygments_lexer": "ipython3",
   "version": "3.7.0"
  }
 },
 "nbformat": 4,
 "nbformat_minor": 2
}
