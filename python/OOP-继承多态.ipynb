{
 "cells": [
  {
   "cell_type": "markdown",
   "metadata": {},
   "source": [
    "# 单继承多继承\n",
    "- 单继承\n",
    "    - 传承有序,逻辑清晰,语法简单,隐患少\n",
    "    - 功能不能无限扩展,只能在当前类中扩展功能\n",
    "- 多继承\n",
    "    - 类的功能扩展起来比较方便\n",
    "    - 缺点:继承关系混乱\n",
    "    "
   ]
  },
  {
   "cell_type": "code",
   "execution_count": 2,
   "metadata": {},
   "outputs": [
    {
     "name": "stdout",
     "output_type": "stream",
     "text": [
      "会飞翔\n",
      "会工作\n",
      "会游泳\n"
     ]
    }
   ],
   "source": [
    "# 多继承单继承栗子\n",
    "class Fish():\n",
    "    def __init__(self,name):\n",
    "        self.name = name\n",
    "    def swim(self):\n",
    "        print('会游泳')\n",
    "class Bird():\n",
    "    def __init__(self,name):\n",
    "        self.name = name\n",
    "    \n",
    "    def fly(self):\n",
    "        print('会飞翔')\n",
    "class Person():\n",
    "    def __init__(self,name):\n",
    "        self.name = name\n",
    "    def work(self):\n",
    "        print('会工作')\n",
    "        \n",
    "class SuperMan(Person,Bird,Fish):\n",
    "    def __init__(self,name):\n",
    "        self.name = name\n",
    "\n",
    "s = SuperMan('xiaoming')\n",
    "# 小明继承了各种功能\n",
    "s.fly()\n",
    "s.work()\n",
    "s.swim()"
   ]
  },
  {
   "cell_type": "markdown",
   "metadata": {},
   "source": [
    "## 多继承问题\n",
    "- 菱形继承(钻石继承)问题  画图很好弄\n",
    "- 多个类继承自一个父类,而这多个类又被同一个类继承\n",
    "- 多重继承经典形象问题\n",
    "### 多继承的MRO\n",
    "- MRO 就是多继承中,用于保存继承顺序的一个列表\n",
    "- Python中的MRO是采用C3算法计算出来的\n",
    "- 大致规则:\n",
    "    - 子类永远在父类前面\n",
    "    - 多个父类,按照括号内书写顺序计算\n",
    "    - 多个父类继承了同一个爷爷类,孙子类会选择继承第一个父类的爷爷类"
   ]
  },
  {
   "cell_type": "code",
   "execution_count": 3,
   "metadata": {},
   "outputs": [],
   "source": [
    "#菱形问题的代码结构\n",
    "class A():\n",
    "    pass\n",
    "\n",
    "class B(A):\n",
    "    pass\n",
    "class C(A):\n",
    "    pass\n",
    "\n",
    "class D(B,C):\n",
    "    pass"
   ]
  },
  {
   "cell_type": "markdown",
   "metadata": {},
   "source": [
    "# 多态\n",
    "- 多态就是同一个对象在不同情况下有不同的状态\n",
    "- 多态不是语法,是一种设计思想\n",
    "- 多态性:同一中调用方法,不同的执行结果\n",
    "- 多态,同一事物的多种形态"
   ]
  },
  {
   "cell_type": "code",
   "execution_count": 8,
   "metadata": {},
   "outputs": [
    {
     "name": "stdout",
     "output_type": "stream",
     "text": [
      "Animal is running...\n",
      "Animal is running...\n",
      "同一种方法,同一种执行结果\n"
     ]
    }
   ],
   "source": [
    "# 只是继承了父类方法\n",
    "# 拥有父类run方法 然后打印 Animal is running...\n",
    "class Animal(object):\n",
    "    def run(self):\n",
    "        print('Animal is running...')\n",
    "        \n",
    "class Dog(Animal):\n",
    "    pass\n",
    "\n",
    "class Cat(Animal):\n",
    "    pass\n",
    "\n",
    "dog = Dog()\n",
    "dog.run()\n",
    "\n",
    "cat = Cat()\n",
    "cat.run()\n",
    "print('同一种方法,同一种执行结果')"
   ]
  },
  {
   "cell_type": "code",
   "execution_count": 7,
   "metadata": {},
   "outputs": [
    {
     "name": "stdout",
     "output_type": "stream",
     "text": [
      "Dog is running...\n",
      "Cat is running...\n",
      "同一种方法不同执行结果\n"
     ]
    }
   ],
   "source": [
    "# 多态来咯\n",
    "# 我们定义一个父类 他有run方法\n",
    "class Animal(object):\n",
    "    def run(self):\n",
    "        print('Animal is running...')\n",
    "# 定义一个子类他也有 自身run方法        \n",
    "class Dog(Animal):\n",
    "    def run(self):\n",
    "        print('Dog is running...')\n",
    "# 定义另一个子类他还有自己的润方法\n",
    "class Cat(Animal):\n",
    "    def run(self):\n",
    "        print('Cat is running...')\n",
    "# 实例化一只狗        \n",
    "dog = Dog()\n",
    "dog.run()\n",
    "# 实例化一只猫\n",
    "cat = Cat()\n",
    "cat.run()\n",
    "\n",
    "print('同一种方法不同执行结果')"
   ]
  },
  {
   "cell_type": "code",
   "execution_count": null,
   "metadata": {},
   "outputs": [],
   "source": []
  }
 ],
 "metadata": {
  "kernelspec": {
   "display_name": "Python 3",
   "language": "python",
   "name": "python3"
  },
  "language_info": {
   "codemirror_mode": {
    "name": "ipython",
    "version": 3
   },
   "file_extension": ".py",
   "mimetype": "text/x-python",
   "name": "python",
   "nbconvert_exporter": "python",
   "pygments_lexer": "ipython3",
   "version": "3.7.0"
  }
 },
 "nbformat": 4,
 "nbformat_minor": 2
}
