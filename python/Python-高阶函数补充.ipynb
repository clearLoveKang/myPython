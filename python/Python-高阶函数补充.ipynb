{
 "cells": [
  {
   "cell_type": "markdown",
   "metadata": {},
   "source": [
    "# zip \n",
    "- 把两个可迭代的内容生成一个可迭代的 tuple元素类型组成的内容"
   ]
  },
  {
   "cell_type": "code",
   "execution_count": 3,
   "metadata": {},
   "outputs": [
    {
     "name": "stdout",
     "output_type": "stream",
     "text": [
      "<zip object at 0x106dafc48>\n",
      "[(1, 11), (2, 22), (3, 33), (4, 44), (5, 55)]\n"
     ]
    }
   ],
   "source": [
    "# zip栗子\n",
    "l1 = [1,2,3,4,5]\n",
    "l2 = [11,22,33,44,55]\n",
    "z = zip(l1,l2)\n",
    "print(z)\n",
    "\n",
    "print(list(z))"
   ]
  },
  {
   "cell_type": "code",
   "execution_count": 6,
   "metadata": {},
   "outputs": [
    {
     "name": "stdout",
     "output_type": "stream",
     "text": [
      "[('蛋蛋', 99), ('小明', 44), ('小刚', 55)]\n"
     ]
    }
   ],
   "source": [
    "# zip 接地气的栗子\n",
    "# 学生及成绩合并\n",
    "l1 = ['蛋蛋','小明','小刚']\n",
    "l2 = [99,44,55]\n",
    "z1 = zip(l1,l2)\n",
    "print(list(z1))"
   ]
  },
  {
   "cell_type": "markdown",
   "metadata": {},
   "source": [
    "# enumerate\n",
    "- 跟zip功能类似\n",
    "- 对可迭代的对象里的每个元素,加上一个索引值,然后返回tuple类型的可迭代内容"
   ]
  },
  {
   "cell_type": "code",
   "execution_count": 10,
   "metadata": {},
   "outputs": [
    {
     "name": "stdout",
     "output_type": "stream",
     "text": [
      "[(0, '蛋蛋'), (1, '小明'), (2, '小刚'), (3, '蛋蛋'), (4, '小明'), (5, '小刚')]\n",
      "[(10, '蛋蛋'), (11, '小明'), (12, '小刚'), (13, '蛋蛋'), (14, '小明'), (15, '小刚')]\n"
     ]
    }
   ],
   "source": [
    "# enumerate\n",
    "l = ['蛋蛋','小明','小刚','蛋蛋','小明','小刚']\n",
    "e = enumerate(l)\n",
    "print(list(e))\n",
    "e2 = enumerate(l,start=10)\n",
    "print(list(e2))"
   ]
  },
  {
   "cell_type": "markdown",
   "metadata": {},
   "source": [
    "# collections 模块\n",
    "- namedtuple\n",
    "- deque"
   ]
  },
  {
   "cell_type": "markdown",
   "metadata": {},
   "source": [
    "### namedtuple\n",
    "- tuple 类型\n",
    "- 是一个可命名的tuple"
   ]
  },
  {
   "cell_type": "code",
   "execution_count": 12,
   "metadata": {},
   "outputs": [
    {
     "name": "stdout",
     "output_type": "stream",
     "text": [
      "Help on function namedtuple in module collections:\n",
      "\n",
      "namedtuple(typename, field_names, *, rename=False, defaults=None, module=None)\n",
      "    Returns a new subclass of tuple with named fields.\n",
      "    \n",
      "    >>> Point = namedtuple('Point', ['x', 'y'])\n",
      "    >>> Point.__doc__                   # docstring for the new class\n",
      "    'Point(x, y)'\n",
      "    >>> p = Point(11, y=22)             # instantiate with positional args or keywords\n",
      "    >>> p[0] + p[1]                     # indexable like a plain tuple\n",
      "    33\n",
      "    >>> x, y = p                        # unpack like a regular tuple\n",
      "    >>> x, y\n",
      "    (11, 22)\n",
      "    >>> p.x + p.y                       # fields also accessible by name\n",
      "    33\n",
      "    >>> d = p._asdict()                 # convert to a dictionary\n",
      "    >>> d['x']\n",
      "    11\n",
      "    >>> Point(**d)                      # convert from a dictionary\n",
      "    Point(x=11, y=22)\n",
      "    >>> p._replace(x=100)               # _replace() is like str.replace() but targets named fields\n",
      "    Point(x=100, y=22)\n",
      "\n"
     ]
    }
   ],
   "source": [
    "import collections as ct\n",
    "help(ct.namedtuple)"
   ]
  },
  {
   "cell_type": "code",
   "execution_count": 18,
   "metadata": {},
   "outputs": [
    {
     "name": "stdout",
     "output_type": "stream",
     "text": [
      "Point(x=11, y=12)\n",
      "11\n"
     ]
    },
    {
     "data": {
      "text/plain": [
       "True"
      ]
     },
     "execution_count": 18,
     "metadata": {},
     "output_type": "execute_result"
    }
   ],
   "source": [
    "# namedtuple 相当于定义一个结构\n",
    "Point = ct.namedtuple('Point',['x','y'])\n",
    "# 需要实例化下使用\n",
    "p = Point(11,12)\n",
    "print(p)\n",
    "print(p.x)\n",
    "\n",
    "# 判断是否是一个tuple的实例\n",
    "isinstance(p,tuple)"
   ]
  },
  {
   "cell_type": "markdown",
   "metadata": {},
   "source": [
    "# deque\n",
    "- 比较简单的解决了频繁删除插入带来的效率问题"
   ]
  },
  {
   "cell_type": "code",
   "execution_count": 22,
   "metadata": {},
   "outputs": [
    {
     "name": "stdout",
     "output_type": "stream",
     "text": [
      "deque([1, 2, 3, 4])\n",
      "deque([1, 2, 3, 4, '333'])\n",
      "deque(['x', 1, 2, 3, 4, '333'])\n"
     ]
    }
   ],
   "source": [
    "from collections import deque \n",
    "q = deque([1,2,3,4])\n",
    "print(q)\n",
    "\n",
    "q.append('333')\n",
    "print(q)\n",
    "\n",
    "q.appendleft('x')\n",
    "print(q)"
   ]
  },
  {
   "cell_type": "markdown",
   "metadata": {},
   "source": [
    "# defaultdict\n",
    "- 当我们查询dict中没有的元素时返回一个默认值"
   ]
  },
  {
   "cell_type": "code",
   "execution_count": 31,
   "metadata": {},
   "outputs": [
    {
     "name": "stdout",
     "output_type": "stream",
     "text": [
      "defaultdict(<function <lambda> at 0x106e56d08>, {'one': 1, 'two': 2, 'three': 3})\n",
      "1\n",
      "默认值\n"
     ]
    }
   ],
   "source": [
    "from collections import defaultdict\n",
    "d1 = {'one':1, 'two':2, 'three':3}\n",
    "fun = lambda: '默认值'\n",
    "d2 = defaultdict(fun)\n",
    "d2['one'] = 1\n",
    "d2['two'] = 2\n",
    "d2['three'] = 3\n",
    "print(d2)\n",
    "print(d2['one'])\n",
    "print(d2['sss'])"
   ]
  },
  {
   "cell_type": "markdown",
   "metadata": {},
   "source": [
    "# Counter\n",
    "- 统计字符串出现次数"
   ]
  },
  {
   "cell_type": "code",
   "execution_count": 34,
   "metadata": {},
   "outputs": [
    {
     "name": "stdout",
     "output_type": "stream",
     "text": [
      "Counter({'e': 6, 'r': 5, 'd': 4, 'a': 2, 'w': 1, 's': 1})\n"
     ]
    }
   ],
   "source": [
    "from collections import Counter\n",
    "# 字符串里的东西必须为可迭代的\n",
    "str = 'dereerererwreasddad'\n",
    "print(Counter(str))"
   ]
  },
  {
   "cell_type": "code",
   "execution_count": 35,
   "metadata": {},
   "outputs": [
    {
     "name": "stdout",
     "output_type": "stream",
     "text": [
      "Counter({'sss': 2, 'ddd': 1, 'fff': 1})\n"
     ]
    }
   ],
   "source": [
    "# 来个规整的\n",
    "l = ['sss', 'sss', 'ddd','fff']\n",
    "print(Counter(l))"
   ]
  }
 ],
 "metadata": {
  "kernelspec": {
   "display_name": "Python 3",
   "language": "python",
   "name": "python3"
  },
  "language_info": {
   "codemirror_mode": {
    "name": "ipython",
    "version": 3
   },
   "file_extension": ".py",
   "mimetype": "text/x-python",
   "name": "python",
   "nbconvert_exporter": "python",
   "pygments_lexer": "ipython3",
   "version": "3.7.0"
  }
 },
 "nbformat": 4,
 "nbformat_minor": 2
}
