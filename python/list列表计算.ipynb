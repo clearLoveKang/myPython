{
 "cells": [
  {
   "cell_type": "markdown",
   "metadata": {},
   "source": [
    "# list列表\n",
    "- del删除"
   ]
  },
  {
   "cell_type": "code",
   "execution_count": 4,
   "metadata": {},
   "outputs": [
    {
     "name": "stdout",
     "output_type": "stream",
     "text": [
      "4579571720\n",
      "[1, 3, 4, 5, 6, 7, 8, 9, 0]\n",
      "4579571720\n"
     ]
    }
   ],
   "source": [
    "#删除操作\n",
    "#原地删除\n",
    "l = [1,2,3,4,5,6,7,8,9,0]\n",
    "print(id(l))\n",
    "del l[1]\n",
    "print(l)\n",
    "print(id(l))"
   ]
  },
  {
   "cell_type": "code",
   "execution_count": 6,
   "metadata": {},
   "outputs": [
    {
     "ename": "NameError",
     "evalue": "name 'l' is not defined",
     "output_type": "error",
     "traceback": [
      "\u001b[0;31m---------------------------------------------------------------------------\u001b[0m",
      "\u001b[0;31mNameError\u001b[0m                                 Traceback (most recent call last)",
      "\u001b[0;32m<ipython-input-6-3db29c61a670>\u001b[0m in \u001b[0;36m<module>\u001b[0;34m()\u001b[0m\n\u001b[0;32m----> 1\u001b[0;31m \u001b[0;32mdel\u001b[0m \u001b[0ml\u001b[0m\u001b[0;34m\u001b[0m\u001b[0m\n\u001b[0m\u001b[1;32m      2\u001b[0m \u001b[0mprint\u001b[0m\u001b[0;34m(\u001b[0m\u001b[0ml\u001b[0m\u001b[0;34m)\u001b[0m\u001b[0;34m\u001b[0m\u001b[0m\n",
      "\u001b[0;31mNameError\u001b[0m: name 'l' is not defined"
     ]
    }
   ],
   "source": [
    "del l\n",
    "print(l)"
   ]
  },
  {
   "cell_type": "markdown",
   "metadata": {},
   "source": [
    "## 列表相加\n",
    "- 是用加号连接两个list"
   ]
  },
  {
   "cell_type": "code",
   "execution_count": 15,
   "metadata": {},
   "outputs": [
    {
     "name": "stdout",
     "output_type": "stream",
     "text": [
      "4579392328\n",
      "4579392520\n",
      "[1, 2, 3, 4, 5, 6]\n",
      "4579393416\n",
      "[1, 2, 3, 1, 2, 3]\n",
      "4579345352\n"
     ]
    }
   ],
   "source": [
    "a = [1,2,3]\n",
    "b = [4,5,6]\n",
    "print(id(a))\n",
    "print(id(b))\n",
    "# 列表相加\n",
    "c = a+b\n",
    "print(c)\n",
    "print(id(c))\n",
    "#列表跟一个整数相乘,就是复制n遍\n",
    "d = a*2\n",
    "print(d)\n",
    "print(id(d))"
   ]
  },
  {
   "cell_type": "markdown",
   "metadata": {},
   "source": [
    "## 成员资格运算\n",
    "- in \n",
    "- not in"
   ]
  },
  {
   "cell_type": "code",
   "execution_count": 18,
   "metadata": {},
   "outputs": [
    {
     "name": "stdout",
     "output_type": "stream",
     "text": [
      "True\n",
      "False\n"
     ]
    }
   ],
   "source": [
    "a = [1,2,3,4,5,6]\n",
    "b = 6\n",
    "print(b in a)\n",
    "print(b not in a)\n"
   ]
  },
  {
   "cell_type": "markdown",
   "metadata": {},
   "source": [
    "## 链表的遍历\n",
    "- for\n",
    "- while"
   ]
  },
  {
   "cell_type": "code",
   "execution_count": 1,
   "metadata": {},
   "outputs": [
    {
     "name": "stdout",
     "output_type": "stream",
     "text": [
      "1\n",
      "2\n",
      "4\n",
      "5\n",
      "6\n"
     ]
    }
   ],
   "source": [
    "# for i in v\n",
    "# in后面的元素必须是可迭代的元素\n",
    "a = [1,2,4,5,6]\n",
    "for i in a:\n",
    "    print(i)"
   ]
  },
  {
   "cell_type": "code",
   "execution_count": 2,
   "metadata": {},
   "outputs": [
    {
     "name": "stdout",
     "output_type": "stream",
     "text": [
      "6\n",
      "1\n",
      "2\n",
      "3\n",
      "4\n",
      "5\n",
      "6\n"
     ]
    }
   ],
   "source": [
    "# while循环访问list\n",
    "# 一般不用,超级麻烦\n",
    "a = [1,2,3,4,5,6]\n",
    "length = len(a)\n",
    "print(length)\n",
    "index = 0\n",
    "while index<length:\n",
    "    print(a[index])\n",
    "    index += 1\n"
   ]
  },
  {
   "cell_type": "code",
   "execution_count": 5,
   "metadata": {},
   "outputs": [
    {
     "name": "stdout",
     "output_type": "stream",
     "text": [
      "zhao .. 1 .. qian\n",
      "sun .. 2 .. li\n",
      "zhou .. 3 .. wu\n"
     ]
    }
   ],
   "source": [
    "# 双重列表的操作\n",
    "s = [['zhao',1,'qian'],['sun',2,'li'],['zhou',3,'wu']]\n",
    "for k,v,w in s:\n",
    "    print(k,'..',v,'..',w)"
   ]
  },
  {
   "cell_type": "markdown",
   "metadata": {},
   "source": [
    "## list content 列表内涵\n",
    "- 通过简单的方法创建列表\n",
    "- 在某些情况下可以简便操作\n",
    "    - 例如把一个列表所有值*10生成新列表\n",
    "    - 把列表中某些特定值过滤出来"
   ]
  },
  {
   "cell_type": "code",
   "execution_count": 9,
   "metadata": {},
   "outputs": [
    {
     "name": "stdout",
     "output_type": "stream",
     "text": [
      "[10, 20, 30, 40, 50]\n",
      "4492606664\n",
      "4493233032\n"
     ]
    }
   ],
   "source": [
    "a = [1,2,3,4,5]\n",
    "b = [i*10 for i in a]\n",
    "print(b)\n",
    "print(id(a))\n",
    "print(id(b))"
   ]
  },
  {
   "cell_type": "code",
   "execution_count": 15,
   "metadata": {},
   "outputs": [
    {
     "name": "stdout",
     "output_type": "stream",
     "text": [
      "[2, 4, 6, 8]\n"
     ]
    }
   ],
   "source": [
    "#过滤操作\n",
    "a = [1,2,3,4,5,6,7,8,9]\n",
    "b = [i for i in a if i%2 == 0]\n",
    "print(b)"
   ]
  },
  {
   "cell_type": "code",
   "execution_count": 23,
   "metadata": {},
   "outputs": [
    {
     "name": "stdout",
     "output_type": "stream",
     "text": [
      "[1, 2, 3]\n",
      "[100, 200, 300]\n",
      "[101, 201, 301, 102, 202, 302, 103, 203, 303]\n",
      "101 201 301 102 202 302 103 203 303 "
     ]
    }
   ],
   "source": [
    "# 列表生成可以嵌套\n",
    "a = [i for i in range(1,4)]\n",
    "print(a)\n",
    "\n",
    "b = [i for i in range(100,400) if i%100 ==0]\n",
    "print(b)\n",
    "\n",
    "#for循环嵌套的简写\n",
    "c = [m+n for m in a for n in b]\n",
    "print(c)\n",
    "for m in a:\n",
    "    for n in b:\n",
    "        print(m+n, end=' ')"
   ]
  },
  {
   "cell_type": "markdown",
   "metadata": {},
   "source": [
    "## 关于列表的常用函数\n",
    "- len()长度"
   ]
  },
  {
   "cell_type": "code",
   "execution_count": 27,
   "metadata": {},
   "outputs": [
    {
     "name": "stdout",
     "output_type": "stream",
     "text": [
      "99\n",
      "99\n",
      "1\n"
     ]
    }
   ],
   "source": [
    "a = [i for i in range(1,100)]\n",
    "#长度\n",
    "print(len(a))\n",
    "#max:最大\n",
    "#min:最小\n",
    "print(max(a))\n",
    "print(min(a))"
   ]
  },
  {
   "cell_type": "code",
   "execution_count": 29,
   "metadata": {},
   "outputs": [
    {
     "name": "stdout",
     "output_type": "stream",
     "text": [
      "[1, 2, 3]\n",
      "['m', 'y', ' ', 'n', 'a', 'm', 'e', ' ', 'i', 's', ' ', 'k', 'a', 'n', 'g', 'k', 'a', 'n', 'g']\n"
     ]
    }
   ],
   "source": [
    "# list()函数 可迭代的数据才可以转化为list\n",
    "a = [1,2,3]\n",
    "b = list(a)\n",
    "print(b)\n",
    "c = 'my name is kangkang'\n",
    "d = list(c)\n",
    "print(d)"
   ]
  }
 ],
 "metadata": {
  "kernelspec": {
   "display_name": "Python 3",
   "language": "python",
   "name": "python3"
  },
  "language_info": {
   "codemirror_mode": {
    "name": "ipython",
    "version": 3
   },
   "file_extension": ".py",
   "mimetype": "text/x-python",
   "name": "python",
   "nbconvert_exporter": "python",
   "pygments_lexer": "ipython3",
   "version": "3.7.0"
  }
 },
 "nbformat": 4,
 "nbformat_minor": 2
}
