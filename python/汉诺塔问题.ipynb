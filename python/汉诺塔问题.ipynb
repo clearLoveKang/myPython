{
 "cells": [
  {
   "cell_type": "markdown",
   "metadata": {},
   "source": [
    "# 汉诺塔问题\n",
    "- 规则每次一动一个盘子\n",
    "- 小盘子必须放上面\n",
    "- 最后完成金字塔形盘子\n",
    "- 方法\n",
    "    - 一个盘子:\n",
    "        - A => c\n",
    "    - 两个盘子:\n",
    "        - A => B  小盘子放到B上\n",
    "        - A => C  大盘子放到C上\n",
    "        - B => C  小盘子放到C上\n",
    "    - 三个盘子(大 中 小)\n",
    "        - A => C  小盘子从A到C\n",
    "        - A => B  中盘子到从A到B\n",
    "        - C => B  小盘子到从C到B\n",
    "        - A => C  大盘子到从A到C\n",
    "        - B => A  小盘子从B到A\n",
    "        - B => C  中盘子从B到C\n",
    "        - A => C  小盘子从A到C\n",
    "- 不行搞迷了直接撸代码让程序帮助我们吧"
   ]
  },
  {
   "cell_type": "code",
   "execution_count": 4,
   "metadata": {},
   "outputs": [
    {
     "name": "stdout",
     "output_type": "stream",
     "text": [
      "A => C\n"
     ]
    }
   ],
   "source": [
    "#只有一个盘子噻\n",
    "def hano(n,a,b,c):\n",
    "    if n == 1:\n",
    "        print(a ,\"=>\", c)\n",
    "hano(1,'A','B','C')"
   ]
  },
  {
   "cell_type": "code",
   "execution_count": 6,
   "metadata": {},
   "outputs": [
    {
     "name": "stdout",
     "output_type": "stream",
     "text": [
      "A => B\n",
      "A => C\n",
      "B => C\n"
     ]
    }
   ],
   "source": [
    "#这回有两个个盘子噻\n",
    "def hano(n,a,b,c):\n",
    "    if n == 1:\n",
    "        print(a ,\"=>\", c)\n",
    "        return None\n",
    "    if n == 2:\n",
    "        print(a ,\"=>\", b)\n",
    "        print(a ,\"=>\", c)\n",
    "        print(b ,\"=>\", c)\n",
    "        return None\n",
    "        \n",
    "hano(2,'A','B','C')"
   ]
  },
  {
   "cell_type": "code",
   "execution_count": 13,
   "metadata": {},
   "outputs": [
    {
     "name": "stdout",
     "output_type": "stream",
     "text": [
      "A => C\n",
      "A => B\n",
      "C => B\n",
      "A => C\n",
      "B => A\n",
      "B => C\n",
      "A => C\n"
     ]
    }
   ],
   "source": [
    "#这回有三个盘子噻\n",
    "def hano(n,a,b,c):\n",
    "    if n == 1:\n",
    "        print(a ,\"=>\", c)\n",
    "        return None\n",
    "    '''\n",
    "    if n == 2:\n",
    "        print(a ,\"=>\", b)\n",
    "        print(a ,\"=>\", c)\n",
    "        print(b ,\"=>\", c)\n",
    "        return None\n",
    "    '''\n",
    "    #超过两个的话,把n-1个盘子借助于c塔挪到b塔上\n",
    "    hano(n-1,a,c,b)\n",
    "    print(a ,\"=>\", c)\n",
    "    hano(n-1,b,a,c)\n",
    "        \n",
    "hano(3,'A','B','C')"
   ]
  },
  {
   "cell_type": "code",
   "execution_count": 18,
   "metadata": {},
   "outputs": [
    {
     "name": "stdout",
     "output_type": "stream",
     "text": [
      "A => C\n"
     ]
    }
   ],
   "source": [
    "def myHano(n,a,b,c):\n",
    "    if n == 1:\n",
    "        print(a,'=>',c)\n",
    "        return None #n = 1时记住结束程序\n",
    "    myHano(n-1,a,c,b)\n",
    "    print(a,'=>',c)\n",
    "    myHano(n-1,b,a,c)\n",
    "myHano(1,'A','B','C')"
   ]
  }
 ],
 "metadata": {
  "kernelspec": {
   "display_name": "Python 3",
   "language": "python",
   "name": "python3"
  },
  "language_info": {
   "codemirror_mode": {
    "name": "ipython",
    "version": 3
   },
   "file_extension": ".py",
   "mimetype": "text/x-python",
   "name": "python",
   "nbconvert_exporter": "python",
   "pygments_lexer": "ipython3",
   "version": "3.7.0"
  }
 },
 "nbformat": 4,
 "nbformat_minor": 2
}
