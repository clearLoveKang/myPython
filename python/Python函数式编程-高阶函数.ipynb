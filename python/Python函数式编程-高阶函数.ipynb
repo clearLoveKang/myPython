{
 "cells": [
  {
   "cell_type": "markdown",
   "metadata": {},
   "source": [
    "# 函数式编程\n",
    "- 基于lambda盐酸的一中编程方式\n",
    "    - 程序中只有函数\n",
    "    - 函数可以作为参数,同样可以作为返回值\n",
    "    \n",
    "## 函数式编程\n",
    "- 高阶函数\n",
    "- 返回函数\n",
    "- 匿名函数\n",
    "- 装饰器\n",
    "- 偏函数"
   ]
  },
  {
   "cell_type": "markdown",
   "metadata": {},
   "source": [
    "### lambda表达式\n",
    "- Python的匿名函数\n",
    "- 函数\n",
    "    - 函数很小很短,有点浪费\n",
    "    - 如果函数调用次数太少浪费\n",
    "    - 难以阅读"
   ]
  },
  {
   "cell_type": "code",
   "execution_count": 2,
   "metadata": {},
   "outputs": [
    {
     "name": "stdout",
     "output_type": "stream",
     "text": [
      "z这是个很小的函数\n"
     ]
    }
   ],
   "source": [
    "# 小函数\n",
    "def printA():\n",
    "    print('z这是个很小的函数')\n",
    "    \n",
    "printA()"
   ]
  },
  {
   "cell_type": "code",
   "execution_count": 4,
   "metadata": {},
   "outputs": [
    {
     "data": {
      "text/plain": [
       "1000"
      ]
     },
     "execution_count": 4,
     "metadata": {},
     "output_type": "execute_result"
    }
   ],
   "source": [
    "# lambda表达式\n",
    "# 是一个表达式,函数体相对简单\n",
    "# 不是一个代码块儿,仅仅是个表达式\n",
    "# 可以有参数,多个参数也可以,使用 逗号隔开\n",
    "# 没有return\n",
    "stm = lambda x: x*100\n",
    "stm(10)"
   ]
  },
  {
   "cell_type": "code",
   "execution_count": 9,
   "metadata": {},
   "outputs": [
    {
     "name": "stdout",
     "output_type": "stream",
     "text": [
      "30\n"
     ]
    }
   ],
   "source": [
    "stm1 = lambda x,y: x+y\n",
    "print(stm1(10,20))"
   ]
  },
  {
   "cell_type": "markdown",
   "metadata": {},
   "source": [
    "# 高阶函数\n",
    "- 把函数作为参数使用的函数,叫高阶函数"
   ]
  },
  {
   "cell_type": "code",
   "execution_count": 11,
   "metadata": {},
   "outputs": [
    {
     "name": "stdout",
     "output_type": "stream",
     "text": [
      "100\n"
     ]
    }
   ],
   "source": [
    "# 变量可以赋值\n",
    "a = 100\n",
    "b = a\n",
    "print(b)"
   ]
  },
  {
   "cell_type": "code",
   "execution_count": 13,
   "metadata": {},
   "outputs": [
    {
     "name": "stdout",
     "output_type": "stream",
     "text": [
      "c参数funA\n"
     ]
    }
   ],
   "source": [
    "# 函数名称就是一个变量\n",
    "# 可以进行赋值操作\n",
    "def funA():\n",
    "    print('c参数funA')\n",
    "    \n",
    "funB = funA\n",
    "funB()"
   ]
  },
  {
   "cell_type": "code",
   "execution_count": 17,
   "metadata": {},
   "outputs": [
    {
     "data": {
      "text/plain": [
       "3000"
      ]
     },
     "execution_count": 17,
     "metadata": {},
     "output_type": "execute_result"
    }
   ],
   "source": [
    "# 高阶函数栗子\n",
    "# funA是普通函数,返回一个传入数字100倍的数字\n",
    "def funA(n):\n",
    "    return n*100\n",
    "\n",
    "#还有一个函数把传入的变量扩大3倍\n",
    "def funB(n):\n",
    "    return funA(n)*3\n",
    "\n",
    "# 这种组合为一般函数\n",
    "funB(10)"
   ]
  },
  {
   "cell_type": "code",
   "execution_count": 22,
   "metadata": {},
   "outputs": [
    {
     "name": "stdout",
     "output_type": "stream",
     "text": [
      "3000\n",
      "300\n"
     ]
    }
   ],
   "source": [
    "# 以上栗子使用高阶函数搞起来\n",
    "# funA是普通函数,返回一个传入数字100倍的数字\n",
    "def funA(n):\n",
    "    return n*100\n",
    "\n",
    "#还有一个函数把传入的变量扩大3倍\n",
    "def funB(fun):\n",
    "    return fun*3\n",
    "\n",
    "# 一个参数\n",
    "# 这丫的还是不太好看啊\n",
    "funB(funA(10))\n",
    "\n",
    "# 我们改成两个参数 一个为需要操作的数据 一个为函数\n",
    "def funC(n,fun):\n",
    "    return fun(n)*3\n",
    "print(funC(10,funA))\n",
    "\n",
    "def funD(n):\n",
    "    return n*10\n",
    "\n",
    "#我们可以随意定义\n",
    "print(funC(10,funD))"
   ]
  },
  {
   "cell_type": "markdown",
   "metadata": {},
   "source": [
    "# 高阶函数map\n",
    "- 愿意就是把集合或者列表元素,进行一定规则的操作,商城一个新的列表或者集合\n",
    "- map是系统提供一个具有映射功能的函数,返回值是一个可迭代对象"
   ]
  },
  {
   "cell_type": "code",
   "execution_count": 24,
   "metadata": {},
   "outputs": [
    {
     "name": "stdout",
     "output_type": "stream",
     "text": [
      "[0, 10, 20, 30, 40, 50, 60, 70, 80, 90]\n"
     ]
    }
   ],
   "source": [
    "# map栗子\n",
    "# 先来看一段普通函数解决方法\n",
    "l1 = [i for i in range(10)]\n",
    "l2 = []\n",
    "for i in l1:\n",
    "    l2.append(i*10)\n",
    "print(l2)"
   ]
  },
  {
   "cell_type": "code",
   "execution_count": 29,
   "metadata": {},
   "outputs": [
    {
     "name": "stdout",
     "output_type": "stream",
     "text": [
      "[0, 10, 20, 30, 40, 50, 60, 70, 80, 90]\n",
      "<class 'map'>\n"
     ]
    }
   ],
   "source": [
    "# 真正的利用map实现以上栗子\n",
    "def funA(n):\n",
    "    return n*10\n",
    "\n",
    "lm = map(funA,[i for i in range(10)])\n",
    "print(list(lm))\n",
    "print(type(lm))"
   ]
  },
  {
   "cell_type": "markdown",
   "metadata": {},
   "source": [
    "# reduce \n",
    "- 归并,缩减\n",
    "- 将一个可迭代的对象归并为一个结果\n",
    "- 遂与参数的要求,必须两个参数, 必须有返回结果\n",
    "\n",
    "## reduce必须通过functools导入\n",
    "- reduce(f, [x1, x2, x3, x4]) = f(f(f(x1, x2), x3), x4)"
   ]
  },
  {
   "cell_type": "code",
   "execution_count": 31,
   "metadata": {},
   "outputs": [
    {
     "name": "stdout",
     "output_type": "stream",
     "text": [
      "15\n"
     ]
    }
   ],
   "source": [
    "from functools import reduce\n",
    "\n",
    "def func(x,y):\n",
    "    return x+y\n",
    "\n",
    "s = reduce(func,[1,2,3,4,5])\n",
    "print(s)"
   ]
  },
  {
   "cell_type": "markdown",
   "metadata": {},
   "source": [
    "# filter过滤\n",
    "- 用于过滤序列\n",
    "- 和map()类似，filter()也接收一个函数和一个序列\n",
    "- 和map()不同的是，filter()把传入的函数依次作用于每个元素，然后根据返回值是True还是False决定保留还是丢弃该元素"
   ]
  },
  {
   "cell_type": "code",
   "execution_count": 36,
   "metadata": {},
   "outputs": [
    {
     "name": "stdout",
     "output_type": "stream",
     "text": [
      "[1, 3, 5, 7, 9]\n",
      "<class 'filter'>\n"
     ]
    }
   ],
   "source": [
    "# 过滤掉偶数\n",
    "def isOdd(x):\n",
    "    return x % 2 == 1\n",
    "\n",
    "fil = filter(isOdd,[i for i in range(10)])\n",
    "\n",
    "#注意到filter()函数返回的是一个Iterator，也就是一个惰性序列，所以要强迫filter()完成计算结果，需要用list()函数获得所有结果并返回list。\n",
    "print([i for i in fil])\n",
    "print(type(fil))"
   ]
  },
  {
   "cell_type": "code",
   "execution_count": 38,
   "metadata": {},
   "outputs": [
    {
     "name": "stdout",
     "output_type": "stream",
     "text": [
      "['df', 'fff', 'dggg']\n"
     ]
    }
   ],
   "source": [
    "# 把一个序列中的空格去掉\n",
    "def empty(x):\n",
    "    return x and x.strip()\n",
    "\n",
    "f = filter(empty ,['df','','fff','','dggg'])\n",
    "print(list(f))"
   ]
  },
  {
   "cell_type": "markdown",
   "metadata": {},
   "source": [
    "# sorted 排序\n",
    "- 排序"
   ]
  },
  {
   "cell_type": "code",
   "execution_count": 40,
   "metadata": {},
   "outputs": [
    {
     "name": "stdout",
     "output_type": "stream",
     "text": [
      "[-21, -12, 5, 9, 36]\n"
     ]
    }
   ],
   "source": [
    "# 利用 sorted进行排序\n",
    "l = [36, 5, -12, 9, -21]\n",
    "l1 = sorted(l)\n",
    "print(l1)"
   ]
  },
  {
   "cell_type": "code",
   "execution_count": 42,
   "metadata": {},
   "outputs": [
    {
     "name": "stdout",
     "output_type": "stream",
     "text": [
      "[5, 9, -12, -21, 36]\n"
     ]
    }
   ],
   "source": [
    "# sorted 本身是高阶函数\n",
    "# 它还可以接收一个key函数来实现自定义的排序\n",
    "# 利用绝对值来排序\n",
    "l2 = sorted(l, key=abs)\n",
    "print(l2)"
   ]
  },
  {
   "cell_type": "code",
   "execution_count": 44,
   "metadata": {},
   "outputs": [
    {
     "name": "stdout",
     "output_type": "stream",
     "text": [
      "['Zoo', 'Credit', 'bob', 'about']\n"
     ]
    }
   ],
   "source": [
    "# 对字符串排序，是按照ASCII的大小比较的\n",
    "l3 = ['bob', 'about', 'Zoo', 'Credit']\n",
    "l4 = sorted(l3, key=str.lower, reverse = True)\n",
    "print(l4)"
   ]
  },
  {
   "cell_type": "code",
   "execution_count": 45,
   "metadata": {},
   "outputs": [
    {
     "name": "stdout",
     "output_type": "stream",
     "text": [
      "Help on built-in function sorted in module builtins:\n",
      "\n",
      "sorted(iterable, /, *, key=None, reverse=False)\n",
      "    Return a new list containing all items from the iterable in ascending order.\n",
      "    \n",
      "    A custom key function can be supplied to customize the sort order, and the\n",
      "    reverse flag can be set to request the result in descending order.\n",
      "\n"
     ]
    }
   ],
   "source": [
    "help(sorted)"
   ]
  }
 ],
 "metadata": {
  "kernelspec": {
   "display_name": "Python 3",
   "language": "python",
   "name": "python3"
  },
  "language_info": {
   "codemirror_mode": {
    "name": "ipython",
    "version": 3
   },
   "file_extension": ".py",
   "mimetype": "text/x-python",
   "name": "python",
   "nbconvert_exporter": "python",
   "pygments_lexer": "ipython3",
   "version": "3.7.0"
  }
 },
 "nbformat": 4,
 "nbformat_minor": 2
}
