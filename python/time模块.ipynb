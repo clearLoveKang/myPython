{
 "cells": [
  {
   "cell_type": "markdown",
   "metadata": {},
   "source": [
    "# time模块\n",
    "## 时间戳\n",
    "- 一个时间表示,根据不同语言为浮点数\n",
    "- 是从1970年1月1日零时零分零秒\n",
    "- 32位系统可支持到2038年\n",
    "- 获取时间别相差太远,远古个未来不太好\n",
    "## UTC时间\n",
    "- 国际标准时间\n",
    "- UTC-8 东八区北京时间\n",
    "\n",
    "### 夏令时\n",
    "- 不太常用\n",
    "- 夏天编程25小时,但是跟24小时时长一样\n",
    "\n",
    "## 时间元祖\n",
    "- 一个包含时间内容的普通元组\n",
    "    0\t4位数年\t2008\n",
    "    1\t月\t1 到 12\n",
    "    2\t日\t1到31\n",
    "    3\t小时\t0到23\n",
    "    4\t分钟\t0到59\n",
    "    5\t秒\t0到61 (60或61 是闰秒)\n",
    "    6\t一周的第几日\t0到6 (0是周一)\n",
    "    7\t一年的第几日\t1到366 (儒略历)\n",
    "    8\t夏令时\t-1, 0, 1, -1是决定是否为夏令时的旗帜"
   ]
  },
  {
   "cell_type": "code",
   "execution_count": 1,
   "metadata": {},
   "outputs": [],
   "source": [
    "import time"
   ]
  },
  {
   "cell_type": "code",
   "execution_count": 7,
   "metadata": {},
   "outputs": [
    {
     "name": "stdout",
     "output_type": "stream",
     "text": [
      "-28800\n",
      "-28800\n",
      "0\n"
     ]
    }
   ],
   "source": [
    "# 当前系统时间\n",
    "# timezone 当前时区亘UTC时间相差的秒数\n",
    "print(time.timezone)\n",
    "\n",
    "# altzone 获取当前时区跟UTC时间相差 夏令时情况下\n",
    "print(time.altzone)\n",
    "\n",
    "# daylight判断是否为夏令时\n",
    "print(time.daylight)\n"
   ]
  },
  {
   "cell_type": "code",
   "execution_count": 9,
   "metadata": {},
   "outputs": [
    {
     "name": "stdout",
     "output_type": "stream",
     "text": [
      "1542179518.1591911\n"
     ]
    }
   ],
   "source": [
    "# 获取当前时间戳\n",
    "print(time.time())"
   ]
  },
  {
   "cell_type": "code",
   "execution_count": 12,
   "metadata": {},
   "outputs": [
    {
     "name": "stdout",
     "output_type": "stream",
     "text": [
      "time.struct_time(tm_year=2018, tm_mon=11, tm_mday=14, tm_hour=15, tm_min=13, tm_sec=20, tm_wday=2, tm_yday=318, tm_isdst=0)\n",
      "15\n"
     ]
    }
   ],
   "source": [
    "# 获取当前时间结构\n",
    "# 这个结构不太好看\n",
    "t = time.localtime()\n",
    "print(t)\n",
    "print(t.tm_hour)"
   ]
  },
  {
   "cell_type": "code",
   "execution_count": 14,
   "metadata": {},
   "outputs": [
    {
     "name": "stdout",
     "output_type": "stream",
     "text": [
      "Wed Nov 14 15:15:15 2018\n"
     ]
    }
   ],
   "source": [
    "# asctime返回元组正常字符串后的时间格式\n",
    "t = time.localtime()\n",
    "tt = time.asctime(t)\n",
    "print(tt)"
   ]
  },
  {
   "cell_type": "code",
   "execution_count": 16,
   "metadata": {},
   "outputs": [
    {
     "name": "stdout",
     "output_type": "stream",
     "text": [
      "Wed Nov 14 15:15:49 2018\n"
     ]
    }
   ],
   "source": [
    "# ctime直接返回正常的字符串个事时间\n",
    "print(time.ctime())"
   ]
  },
  {
   "cell_type": "code",
   "execution_count": 18,
   "metadata": {},
   "outputs": [
    {
     "name": "stdout",
     "output_type": "stream",
     "text": [
      "1542180026.0\n"
     ]
    }
   ],
   "source": [
    "# mktime 使用时间元组获取对应时间戳\n",
    "lt = time.localtime() # 时间元组\n",
    "mt = time.mktime(lt)\n",
    "print(mt)"
   ]
  },
  {
   "cell_type": "code",
   "execution_count": 20,
   "metadata": {},
   "outputs": [
    {
     "name": "stdout",
     "output_type": "stream",
     "text": [
      "0\n",
      "1\n",
      "2\n"
     ]
    }
   ],
   "source": [
    "# sleep 时间延迟\n",
    "for i in range(3):\n",
    "    time.sleep(1)\n",
    "    print(i)"
   ]
  },
  {
   "cell_type": "code",
   "execution_count": 23,
   "metadata": {},
   "outputs": [
    {
     "name": "stdout",
     "output_type": "stream",
     "text": [
      "2018年11月14日 15:53:21\n"
     ]
    }
   ],
   "source": [
    "# strftime \n",
    "'''\n",
    "    %y 两位数的年份表示（00-99）\n",
    "    %Y 四位数的年份表示（000-9999）\n",
    "    %m 月份（01-12）\n",
    "    %d 月内中的一天（0-31）\n",
    "    %H 24小时制小时数（0-23）\n",
    "    %I 12小时制小时数（01-12）\n",
    "    %M 分钟数（00=59）\n",
    "    %S 秒（00-59）\n",
    "    %a 本地简化星期名称\n",
    "    %A 本地完整星期名称\n",
    "    %b 本地简化的月份名称\n",
    "    %B 本地完整的月份名称\n",
    "    %c 本地相应的日期表示和时间表示\n",
    "    %j 年内的一天（001-366）\n",
    "    %p 本地A.M.或P.M.的等价符\n",
    "    %U 一年中的星期数（00-53）星期天为星期的开始\n",
    "    %w 星期（0-6），星期天为星期的开始\n",
    "    %W 一年中的星期数（00-53）星期一为星期的开始\n",
    "    %x 本地相应的日期表示\n",
    "    %X 本地相应的时间表示\n",
    "    %Z 当前时区的名称\n",
    "    %% %号本身\n",
    "'''\n",
    "lt = time.localtime()\n",
    "t = time.mktime(lt)\n",
    "print(time.strftime('%Y年%m月%d日 %H:%M:%S'))"
   ]
  }
 ],
 "metadata": {
  "kernelspec": {
   "display_name": "Python 3",
   "language": "python",
   "name": "python3"
  },
  "language_info": {
   "codemirror_mode": {
    "name": "ipython",
    "version": 3
   },
   "file_extension": ".py",
   "mimetype": "text/x-python",
   "name": "python",
   "nbconvert_exporter": "python",
   "pygments_lexer": "ipython3",
   "version": "3.7.0"
  }
 },
 "nbformat": 4,
 "nbformat_minor": 2
}
