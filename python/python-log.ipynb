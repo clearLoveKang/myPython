{
 "cells": [
  {
   "cell_type": "markdown",
   "metadata": {},
   "source": [
    "# log\n",
    "- 记录日志模块logging\n",
    "## 日志相关概念\n",
    "- 日志 记录程序执行\n",
    "- 日志级别 lever\n",
    "    - 不同用户关注不同的运行信息\n",
    "    - DEBUG \n",
    "    - INFO 详情\n",
    "    - NOTICE 注意\n",
    "    - WARNING 警告\n",
    "    - ERROR 错误\n",
    "    - CRITICAL 至关重要的\n",
    "    - ALERT 警报\n",
    "    - EMERGENCY 紧急\n",
    "- IO操作不要太频繁\n",
    "- log的作用\n",
    "    - 调试\n",
    "    - 了解运行情况\n",
    "    - 分析定位问题\n",
    "- 日志信息\n",
    "    - time 时间记录\n",
    "    - 地点 \n",
    "    - level 问题级别\n",
    "    - 出错内容\n",
    "- 使用log模块写日志\n",
    "- 日志级别\n",
    "    - 级别可以自定义\n",
    "    - DEBUG \n",
    "    - INFO 详情\n",
    "    - WARNING 警告\n",
    "    - ERROR 错误\n",
    "    - CRITICAL 至关重要的\n",
    "- 初始化日志的时候先定级别,超过某个级别才会记录\n",
    "- 使用方式\n",
    "    - 直接使用logging\n",
    "    - logging四大组件\n"
   ]
  },
  {
   "cell_type": "code",
   "execution_count": 2,
   "metadata": {},
   "outputs": [
    {
     "name": "stdout",
     "output_type": "stream",
     "text": [
      "red\n",
      "yellow\n",
      "bule\n",
      "green\n"
     ]
    }
   ],
   "source": [
    "# 显示台是IO操作 比较耗时\n",
    "color = ['red', 'yellow', 'bule', 'green']\n",
    "for green in color:\n",
    "    print(green)\n",
    "    if color == 'green':\n",
    "        print('Green')"
   ]
  },
  {
   "cell_type": "markdown",
   "metadata": {},
   "source": [
    "# logging 级别的日志\n",
    "- 常用函数\n",
    "    - logging.debug(msg, *args, **kwargs)\n",
    "    - logging.info(msg, *args, **kwargs)\n",
    "    - logging.warning(msg, *args, **kwargs)\n",
    "    - logging.error(msg, *args, **kwargs)\n",
    "    - logging.critical(msg, *args, **kwargs)\n",
    "    - logging.log(level, *args, **kwargs) \n",
    "    - logging.basicConfig(**kwargs) 对root logger进行一次性配置"
   ]
  },
  {
   "cell_type": "markdown",
   "metadata": {},
   "source": [
    "#  logging.basicConfig(**kwargs) \n",
    "- 只在第一次调用的时候起作用\n",
    "- 不配置logger的情况下使用默认值\n",
    "    - 输出: sys.stderr\n",
    "    - 级别: warning\n",
    "    - 格式: level : log_name : content"
   ]
  },
  {
   "cell_type": "code",
   "execution_count": 6,
   "metadata": {},
   "outputs": [
    {
     "name": "stderr",
     "output_type": "stream",
     "text": [
      "WARNING:root:这是warning级别日志\n",
      "ERROR:root:这是error级别日志\n",
      "CRITICAL:root:这是critical级别日志\n",
      "WARNING:root:这是warning级别日志\n",
      "ERROR:root:这是error级别日志\n",
      "CRITICAL:root:这是critical级别日志\n"
     ]
    }
   ],
   "source": [
    "import logging\n",
    "logging.debug('这是debug级别日志')\n",
    "logging.info('这是info级别日志')\n",
    "logging.warning('这是warning级别日志')\n",
    "logging.error('这是error级别日志')\n",
    "logging.critical('这是critical级别日志')\n",
    "# 使用log总控制\n",
    "logging.log(logging.DEBUG,'这是debug级别日志')\n",
    "logging.log(logging.INFO,'这是info级别日志')\n",
    "logging.log(logging.WARNING,'这是warning级别日志')\n",
    "logging.log(logging.ERROR,'这是error级别日志')\n",
    "logging.log(logging.CRITICAL,'这是critical级别日志')"
   ]
  },
  {
   "cell_type": "code",
   "execution_count": 11,
   "metadata": {},
   "outputs": [
    {
     "name": "stderr",
     "output_type": "stream",
     "text": [
      "WARNING:root:这是warning级别日志\n",
      "ERROR:root:这是error级别日志\n",
      "CRITICAL:root:这是critical级别日志\n",
      "WARNING:root:这是warning级别日志\n",
      "ERROR:root:这是error级别日志\n",
      "CRITICAL:root:这是critical级别日志\n"
     ]
    },
    {
     "name": "stdout",
     "output_type": "stream",
     "text": [
      "Help on built-in function format in module builtins:\n",
      "\n",
      "format(value, format_spec='', /)\n",
      "    Return value.__format__(format_spec)\n",
      "    \n",
      "    format_spec defaults to the empty string.\n",
      "    See the Format Specification Mini-Language section of help('FORMATTING') for\n",
      "    details.\n",
      "\n"
     ]
    }
   ],
   "source": [
    "# 自定义级别设置\n",
    "logging.basicConfig(filename='mylog.log',level=logging.DEBUG)\n",
    "\n",
    "logging.debug('这是debug级别日志')\n",
    "logging.info('这是info级别日志')\n",
    "logging.warning('这是warning级别日志')\n",
    "logging.error('这是error级别日志')\n",
    "logging.critical('这是critical级别日志')\n",
    "# 使用log总控制\n",
    "logging.log(logging.DEBUG,'这是debug级别日志')\n",
    "logging.log(logging.INFO,'这是info级别日志')\n",
    "logging.log(logging.WARNING,'这是warning级别日志')\n",
    "logging.log(logging.ERROR,'这是error级别日志')\n",
    "logging.log(logging.CRITICAL,'这是critical级别日志')\n",
    "\n",
    "help(format)"
   ]
  },
  {
   "cell_type": "markdown",
   "metadata": {},
   "source": [
    "# logging 四大组件\n",
    "- 四大组件\n",
    "    - 日志器 logger: 产生日志的接口\n",
    "    - 处理器 Handler: 把日志发送到相应位置\n",
    "    - 过滤器 filter: 更精细的控制日志的输出\n",
    "    - 格式器 format: 对输出的信息进行格式化"
   ]
  },
  {
   "cell_type": "markdown",
   "metadata": {},
   "source": [
    "## logger\n",
    "- 产生一个日志\n",
    "- 操作\n",
    "    - Logger.setlevel() 设置最低严重级别\n",
    "    - Logger.addHandler()\n",
    "    - Logger.addFiler() and Logger.removeFiler\n",
    "    - Logger.debug()\n",
    "    - Logger.exception():创建类似于Logger.error\n",
    "    - Logger.log()\n",
    "- 如何获取一个logger对象\n",
    "    - 实例化\n",
    "    - logger.getLogger()"
   ]
  },
  {
   "cell_type": "markdown",
   "metadata": {},
   "source": [
    "## Handler\n",
    "- 把log发送指定位置\n",
    "- 方法\n",
    "    - setLevel\n",
    "    - setFormat\n",
    "    - addFiler,removeFiler\n",
    "- 不需要直接使用,Handler是基类\n",
    "    - logging.StreamHandler :将日志消息发送到Stream\n",
    "    - logging.FileHandler : 发送到磁盘文件\n",
    "    - logging.handlers.RotatingFileHandler :将日志文件分割\n",
    "    - logging.handlers.TimeRotatingFileHandler :到一定时间写一个文件\n",
    "    - logging.handlers.HTTPHandler 将日志以GET或POST方式发送给一个HTTP服务器\n",
    "    - logging.handlers.SMTPHandler 将日志发送给一个email地址\n",
    "    - logging.NullHandler 该实例会自动忽略error messages"
   ]
  },
  {
   "cell_type": "markdown",
   "metadata": {},
   "source": [
    "## Format\n",
    "- 直接实例化\n",
    "- 可以继承Format添加特殊内容\n",
    "- fmt\n",
    "- detefmt\n",
    "- style"
   ]
  }
 ],
 "metadata": {
  "kernelspec": {
   "display_name": "Python 3",
   "language": "python",
   "name": "python3"
  },
  "language_info": {
   "codemirror_mode": {
    "name": "ipython",
    "version": 3
   },
   "file_extension": ".py",
   "mimetype": "text/x-python",
   "name": "python",
   "nbconvert_exporter": "python",
   "pygments_lexer": "ipython3",
   "version": "3.7.0"
  }
 },
 "nbformat": 4,
 "nbformat_minor": 2
}
