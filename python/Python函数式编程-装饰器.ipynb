{
 "cells": [
  {
   "cell_type": "markdown",
   "metadata": {},
   "source": [
    "# 装饰器"
   ]
  },
  {
   "cell_type": "code",
   "execution_count": 2,
   "metadata": {},
   "outputs": [
    {
     "name": "stdout",
     "output_type": "stream",
     "text": [
      "hello world\n"
     ]
    }
   ],
   "source": [
    "def hello():\n",
    "    print('hello world')\n",
    "\n",
    "hello()"
   ]
  },
  {
   "cell_type": "code",
   "execution_count": 4,
   "metadata": {},
   "outputs": [
    {
     "name": "stdout",
     "output_type": "stream",
     "text": [
      "hello world\n"
     ]
    }
   ],
   "source": [
    "f = hello\n",
    "f()"
   ]
  },
  {
   "cell_type": "code",
   "execution_count": 8,
   "metadata": {},
   "outputs": [
    {
     "name": "stdout",
     "output_type": "stream",
     "text": [
      "4598836760\n",
      "4598836760\n",
      "hello\n",
      "hello\n"
     ]
    }
   ],
   "source": [
    "# 看下hello 是否跟 f 一个样\n",
    "print(id(f))\n",
    "print(id(hello))\n",
    "print(f.__name__)\n",
    "print(hello.__name__)"
   ]
  },
  {
   "cell_type": "code",
   "execution_count": 7,
   "metadata": {},
   "outputs": [],
   "source": [
    "# 如果我们想在想不改动hello代码情况下进行扩展\n",
    "# 每次打印hello之前打印下系统时间\n",
    "# 而这个额外的需求并不能改动hello方法代码\n"
   ]
  },
  {
   "cell_type": "markdown",
   "metadata": {},
   "source": [
    "### 装饰器\n",
    "- 在不改动原有方法的基础上无限制的扩展方法功能,本质上装饰器是一个返回函数的高阶函数\n",
    "- 装饰器使用 @+函数名 的结构使用"
   ]
  },
  {
   "cell_type": "code",
   "execution_count": 10,
   "metadata": {},
   "outputs": [
    {
     "name": "stdout",
     "output_type": "stream",
     "text": [
      "当前系统时间:Thu Nov 15 18:56:58 2018\n",
      "hello\n"
     ]
    }
   ],
   "source": [
    "# 装饰器固定结构\n",
    "import time\n",
    "def log(func):\n",
    "    def prlocaltime(*args, **kw):\n",
    "        print('当前系统时间:{0}'.format(time.ctime()))\n",
    "        return func(*args, **kw)\n",
    "    return prlocaltime\n",
    "\n",
    "@log\n",
    "def hello():\n",
    "    print('hello')\n",
    "    \n",
    "hello()\n",
    "\n",
    "# 装饰器运行其实就是 hello() == log(hello)"
   ]
  },
  {
   "cell_type": "code",
   "execution_count": 13,
   "metadata": {},
   "outputs": [
    {
     "name": "stdout",
     "output_type": "stream",
     "text": [
      "你好老表\n",
      "我还有很多执行\n"
     ]
    }
   ],
   "source": [
    "# 装饰器的好处,一点定义可以装饰各种函数\n",
    "def hello2():\n",
    "    print('你好老表')\n",
    "    print('我还有很多执行')\n",
    "    \n",
    "hello2()\n",
    "\n",
    "\n"
   ]
  },
  {
   "cell_type": "code",
   "execution_count": 14,
   "metadata": {},
   "outputs": [
    {
     "name": "stdout",
     "output_type": "stream",
     "text": [
      "当前系统时间:Thu Nov 15 18:59:50 2018\n",
      "你好老表\n",
      "我还有很多执行\n"
     ]
    }
   ],
   "source": [
    "# 现在我们加上装饰器\n",
    "@log\n",
    "def hello2():\n",
    "    print('你好老表')\n",
    "    print('我还有很多执行')\n",
    "    \n",
    "hello2()"
   ]
  }
 ],
 "metadata": {
  "kernelspec": {
   "display_name": "Python 3",
   "language": "python",
   "name": "python3"
  },
  "language_info": {
   "codemirror_mode": {
    "name": "ipython",
    "version": 3
   },
   "file_extension": ".py",
   "mimetype": "text/x-python",
   "name": "python",
   "nbconvert_exporter": "python",
   "pygments_lexer": "ipython3",
   "version": "3.7.0"
  }
 },
 "nbformat": 4,
 "nbformat_minor": 2
}
